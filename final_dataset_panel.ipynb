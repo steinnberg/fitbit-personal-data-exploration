{
 "cells": [
  {
   "cell_type": "code",
   "execution_count": 21,
   "metadata": {},
   "outputs": [],
   "source": [
    "from linearmodels.datasets import wage_panel\n",
    "import pandas as pd\n",
    "from linearmodels.panel import PooledOLS\n",
    "import statsmodels.api as sm\n",
    "import seaborn as sns"
   ]
  },
  {
   "cell_type": "code",
   "execution_count": 3,
   "metadata": {},
   "outputs": [],
   "source": [
    "from linearmodels.iv import IV2SLS"
   ]
  },
  {
   "cell_type": "code",
   "execution_count": 4,
   "metadata": {},
   "outputs": [],
   "source": [
    "import pandas as pd"
   ]
  },
  {
   "cell_type": "code",
   "execution_count": 5,
   "metadata": {},
   "outputs": [],
   "source": [
    "df = pd.read_csv('fitbit_data.csv', index_col=0)"
   ]
  },
  {
   "cell_type": "code",
   "execution_count": 6,
   "metadata": {},
   "outputs": [
    {
     "data": {
      "text/html": [
       "<div>\n",
       "<style scoped>\n",
       "    .dataframe tbody tr th:only-of-type {\n",
       "        vertical-align: middle;\n",
       "    }\n",
       "\n",
       "    .dataframe tbody tr th {\n",
       "        vertical-align: top;\n",
       "    }\n",
       "\n",
       "    .dataframe thead th {\n",
       "        text-align: right;\n",
       "    }\n",
       "</style>\n",
       "<table border=\"1\" class=\"dataframe\">\n",
       "  <thead>\n",
       "    <tr style=\"text-align: right;\">\n",
       "      <th></th>\n",
       "      <th>Id</th>\n",
       "      <th>Date</th>\n",
       "      <th>Calories_x</th>\n",
       "      <th>TotalSteps</th>\n",
       "      <th>TotalDistance</th>\n",
       "      <th>TrackerDistance</th>\n",
       "      <th>LoggedActivitiesDistance</th>\n",
       "      <th>VeryActiveDistance</th>\n",
       "      <th>ModeratelyActiveDistance</th>\n",
       "      <th>LightActiveDistance</th>\n",
       "      <th>SedentaryActiveDistance</th>\n",
       "      <th>VeryActiveMinutes</th>\n",
       "      <th>FairlyActiveMinutes</th>\n",
       "      <th>LightlyActiveMinutes</th>\n",
       "      <th>SedentaryMinutes</th>\n",
       "      <th>Calories_y</th>\n",
       "      <th>Weekday</th>\n",
       "    </tr>\n",
       "  </thead>\n",
       "  <tbody>\n",
       "    <tr>\n",
       "      <th>0</th>\n",
       "      <td>1503960366</td>\n",
       "      <td>4/12/2016</td>\n",
       "      <td>1985</td>\n",
       "      <td>13162</td>\n",
       "      <td>8.50</td>\n",
       "      <td>8.50</td>\n",
       "      <td>0.0</td>\n",
       "      <td>1.88</td>\n",
       "      <td>0.55</td>\n",
       "      <td>6.06</td>\n",
       "      <td>0.0</td>\n",
       "      <td>25</td>\n",
       "      <td>13</td>\n",
       "      <td>328</td>\n",
       "      <td>728</td>\n",
       "      <td>1985</td>\n",
       "      <td>Tuesday</td>\n",
       "    </tr>\n",
       "    <tr>\n",
       "      <th>1</th>\n",
       "      <td>1503960366</td>\n",
       "      <td>4/13/2016</td>\n",
       "      <td>1797</td>\n",
       "      <td>10735</td>\n",
       "      <td>6.97</td>\n",
       "      <td>6.97</td>\n",
       "      <td>0.0</td>\n",
       "      <td>1.57</td>\n",
       "      <td>0.69</td>\n",
       "      <td>4.71</td>\n",
       "      <td>0.0</td>\n",
       "      <td>21</td>\n",
       "      <td>19</td>\n",
       "      <td>217</td>\n",
       "      <td>776</td>\n",
       "      <td>1797</td>\n",
       "      <td>Wednesday</td>\n",
       "    </tr>\n",
       "    <tr>\n",
       "      <th>2</th>\n",
       "      <td>1503960366</td>\n",
       "      <td>4/14/2016</td>\n",
       "      <td>1776</td>\n",
       "      <td>10460</td>\n",
       "      <td>6.74</td>\n",
       "      <td>6.74</td>\n",
       "      <td>0.0</td>\n",
       "      <td>2.44</td>\n",
       "      <td>0.40</td>\n",
       "      <td>3.91</td>\n",
       "      <td>0.0</td>\n",
       "      <td>30</td>\n",
       "      <td>11</td>\n",
       "      <td>181</td>\n",
       "      <td>1218</td>\n",
       "      <td>1776</td>\n",
       "      <td>Thursday</td>\n",
       "    </tr>\n",
       "    <tr>\n",
       "      <th>3</th>\n",
       "      <td>1503960366</td>\n",
       "      <td>4/15/2016</td>\n",
       "      <td>1745</td>\n",
       "      <td>9762</td>\n",
       "      <td>6.28</td>\n",
       "      <td>6.28</td>\n",
       "      <td>0.0</td>\n",
       "      <td>2.14</td>\n",
       "      <td>1.26</td>\n",
       "      <td>2.83</td>\n",
       "      <td>0.0</td>\n",
       "      <td>29</td>\n",
       "      <td>34</td>\n",
       "      <td>209</td>\n",
       "      <td>726</td>\n",
       "      <td>1745</td>\n",
       "      <td>Friday</td>\n",
       "    </tr>\n",
       "    <tr>\n",
       "      <th>4</th>\n",
       "      <td>1503960366</td>\n",
       "      <td>4/16/2016</td>\n",
       "      <td>1863</td>\n",
       "      <td>12669</td>\n",
       "      <td>8.16</td>\n",
       "      <td>8.16</td>\n",
       "      <td>0.0</td>\n",
       "      <td>2.71</td>\n",
       "      <td>0.41</td>\n",
       "      <td>5.04</td>\n",
       "      <td>0.0</td>\n",
       "      <td>36</td>\n",
       "      <td>10</td>\n",
       "      <td>221</td>\n",
       "      <td>773</td>\n",
       "      <td>1863</td>\n",
       "      <td>Saturday</td>\n",
       "    </tr>\n",
       "  </tbody>\n",
       "</table>\n",
       "</div>"
      ],
      "text/plain": [
       "           Id       Date  Calories_x  TotalSteps  TotalDistance  \\\n",
       "0  1503960366  4/12/2016        1985       13162           8.50   \n",
       "1  1503960366  4/13/2016        1797       10735           6.97   \n",
       "2  1503960366  4/14/2016        1776       10460           6.74   \n",
       "3  1503960366  4/15/2016        1745        9762           6.28   \n",
       "4  1503960366  4/16/2016        1863       12669           8.16   \n",
       "\n",
       "   TrackerDistance  LoggedActivitiesDistance  VeryActiveDistance  \\\n",
       "0             8.50                       0.0                1.88   \n",
       "1             6.97                       0.0                1.57   \n",
       "2             6.74                       0.0                2.44   \n",
       "3             6.28                       0.0                2.14   \n",
       "4             8.16                       0.0                2.71   \n",
       "\n",
       "   ModeratelyActiveDistance  LightActiveDistance  SedentaryActiveDistance  \\\n",
       "0                      0.55                 6.06                      0.0   \n",
       "1                      0.69                 4.71                      0.0   \n",
       "2                      0.40                 3.91                      0.0   \n",
       "3                      1.26                 2.83                      0.0   \n",
       "4                      0.41                 5.04                      0.0   \n",
       "\n",
       "   VeryActiveMinutes  FairlyActiveMinutes  LightlyActiveMinutes  \\\n",
       "0                 25                   13                   328   \n",
       "1                 21                   19                   217   \n",
       "2                 30                   11                   181   \n",
       "3                 29                   34                   209   \n",
       "4                 36                   10                   221   \n",
       "\n",
       "   SedentaryMinutes  Calories_y    Weekday  \n",
       "0               728        1985    Tuesday  \n",
       "1               776        1797  Wednesday  \n",
       "2              1218        1776   Thursday  \n",
       "3               726        1745     Friday  \n",
       "4               773        1863   Saturday  "
      ]
     },
     "execution_count": 6,
     "metadata": {},
     "output_type": "execute_result"
    }
   ],
   "source": [
    "df.head()"
   ]
  },
  {
   "cell_type": "code",
   "execution_count": 7,
   "metadata": {},
   "outputs": [],
   "source": [
    "df.drop('Calories_y',axis=1, inplace=True)"
   ]
  },
  {
   "cell_type": "code",
   "execution_count": 28,
   "metadata": {},
   "outputs": [],
   "source": [
    "df.Date = pd.to_datetime(df.Date)"
   ]
  },
  {
   "cell_type": "code",
   "execution_count": 29,
   "metadata": {},
   "outputs": [],
   "source": [
    "# Import and preprocess data\n",
    "import pandas as pd\n",
    "dataset = pd.read_csv('fitbit_data.csv', usecols = ['Id', 'Date', 'VeryActiveMinutes', 'Calories_x'],\\\n",
    " index_col = ['Id', 'Date'])\n",
    "years = dataset.index.get_level_values('Date').to_list()\n",
    "dataset['Date'] = pd.Categorical(years)"
   ]
  },
  {
   "cell_type": "code",
   "execution_count": 11,
   "metadata": {},
   "outputs": [
    {
     "data": {
      "text/plain": [
       "Calories_x              int64\n",
       "VeryActiveMinutes       int64\n",
       "Date                 category\n",
       "dtype: object"
      ]
     },
     "execution_count": 11,
     "metadata": {},
     "output_type": "execute_result"
    }
   ],
   "source": [
    "dataset.dtypes"
   ]
  },
  {
   "cell_type": "code",
   "execution_count": 30,
   "metadata": {},
   "outputs": [
    {
     "ename": "NameError",
     "evalue": "name 'exog' is not defined",
     "output_type": "error",
     "traceback": [
      "\u001b[1;31m---------------------------------------------------------------------------\u001b[0m",
      "\u001b[1;31mNameError\u001b[0m                                 Traceback (most recent call last)",
      "\u001b[1;32m<ipython-input-30-0706cef2d659>\u001b[0m in \u001b[0;36m<module>\u001b[1;34m\u001b[0m\n\u001b[1;32m----> 1\u001b[1;33m \u001b[0mexog\u001b[0m \u001b[1;33m=\u001b[0m \u001b[0mexog\u001b[0m\u001b[1;33m.\u001b[0m\u001b[0mreset_index\u001b[0m\u001b[1;33m(\u001b[0m\u001b[0mlevel\u001b[0m\u001b[1;33m=\u001b[0m\u001b[1;34m'Date'\u001b[0m\u001b[1;33m)\u001b[0m\u001b[1;33m\u001b[0m\u001b[1;33m\u001b[0m\u001b[0m\n\u001b[0m",
      "\u001b[1;31mNameError\u001b[0m: name 'exog' is not defined"
     ]
    }
   ],
   "source": [
    "exog = exog.reset_index(level='Date')"
   ]
  },
  {
   "cell_type": "code",
   "execution_count": 12,
   "metadata": {},
   "outputs": [
    {
     "ename": "NameError",
     "evalue": "name 'exog' is not defined",
     "output_type": "error",
     "traceback": [
      "\u001b[1;31m---------------------------------------------------------------------------\u001b[0m",
      "\u001b[1;31mNameError\u001b[0m                                 Traceback (most recent call last)",
      "\u001b[1;32m<ipython-input-12-212a6e56d0bb>\u001b[0m in \u001b[0;36m<module>\u001b[1;34m\u001b[0m\n\u001b[1;32m----> 1\u001b[1;33m \u001b[0mexog\u001b[0m\u001b[1;33m.\u001b[0m\u001b[0mDate\u001b[0m \u001b[1;33m=\u001b[0m \u001b[0mpd\u001b[0m\u001b[1;33m.\u001b[0m\u001b[0mto_datetime\u001b[0m\u001b[1;33m(\u001b[0m\u001b[0mexog\u001b[0m\u001b[1;33m.\u001b[0m\u001b[0mDate\u001b[0m\u001b[1;33m)\u001b[0m\u001b[1;33m\u001b[0m\u001b[1;33m\u001b[0m\u001b[0m\n\u001b[0m",
      "\u001b[1;31mNameError\u001b[0m: name 'exog' is not defined"
     ]
    }
   ],
   "source": [
    "exog.Date = pd.to_datetime(exog.Date)"
   ]
  },
  {
   "cell_type": "code",
   "execution_count": 13,
   "metadata": {},
   "outputs": [
    {
     "ename": "NameError",
     "evalue": "name 'exog' is not defined",
     "output_type": "error",
     "traceback": [
      "\u001b[1;31m---------------------------------------------------------------------------\u001b[0m",
      "\u001b[1;31mNameError\u001b[0m                                 Traceback (most recent call last)",
      "\u001b[1;32m<ipython-input-13-d24ed923d9aa>\u001b[0m in \u001b[0;36m<module>\u001b[1;34m\u001b[0m\n\u001b[1;32m----> 1\u001b[1;33m \u001b[0mexog\u001b[0m \u001b[1;33m=\u001b[0m \u001b[0mexog\u001b[0m\u001b[1;33m.\u001b[0m\u001b[0mreset_index\u001b[0m\u001b[1;33m(\u001b[0m\u001b[1;33m)\u001b[0m\u001b[1;33m.\u001b[0m\u001b[0mset_index\u001b[0m\u001b[1;33m(\u001b[0m\u001b[1;33m[\u001b[0m\u001b[1;34m'Id'\u001b[0m\u001b[1;33m,\u001b[0m\u001b[1;34m'Date'\u001b[0m\u001b[1;33m]\u001b[0m\u001b[1;33m)\u001b[0m\u001b[1;33m\u001b[0m\u001b[1;33m\u001b[0m\u001b[0m\n\u001b[0m",
      "\u001b[1;31mNameError\u001b[0m: name 'exog' is not defined"
     ]
    }
   ],
   "source": [
    "exog = exog.reset_index().set_index(['Id','Date'])"
   ]
  },
  {
   "cell_type": "code",
   "execution_count": 14,
   "metadata": {},
   "outputs": [
    {
     "ename": "NameError",
     "evalue": "name 'exog' is not defined",
     "output_type": "error",
     "traceback": [
      "\u001b[1;31m---------------------------------------------------------------------------\u001b[0m",
      "\u001b[1;31mNameError\u001b[0m                                 Traceback (most recent call last)",
      "\u001b[1;32m<ipython-input-14-e49b0f9bd77b>\u001b[0m in \u001b[0;36m<module>\u001b[1;34m\u001b[0m\n\u001b[1;32m----> 1\u001b[1;33m \u001b[0mexog\u001b[0m\u001b[1;33m\u001b[0m\u001b[1;33m\u001b[0m\u001b[0m\n\u001b[0m",
      "\u001b[1;31mNameError\u001b[0m: name 'exog' is not defined"
     ]
    }
   ],
   "source": [
    "exog"
   ]
  },
  {
   "cell_type": "markdown",
   "metadata": {},
   "source": [
    "# OLS old school"
   ]
  },
  {
   "cell_type": "code",
   "execution_count": 16,
   "metadata": {},
   "outputs": [],
   "source": [
    "from statsmodels.formula.api import ols\n",
    "model = ols('Calories_x ~ VeryActiveMinutes', data=df) # dependent ~ independent"
   ]
  },
  {
   "cell_type": "code",
   "execution_count": 17,
   "metadata": {},
   "outputs": [],
   "source": [
    "model_fit = model.fit() #calculates everything"
   ]
  },
  {
   "cell_type": "code",
   "execution_count": 18,
   "metadata": {},
   "outputs": [
    {
     "data": {
      "text/html": [
       "<table class=\"simpletable\">\n",
       "<caption>OLS Regression Results</caption>\n",
       "<tr>\n",
       "  <th>Dep. Variable:</th>       <td>Calories_x</td>    <th>  R-squared:         </th> <td>   0.379</td> \n",
       "</tr>\n",
       "<tr>\n",
       "  <th>Model:</th>                   <td>OLS</td>       <th>  Adj. R-squared:    </th> <td>   0.379</td> \n",
       "</tr>\n",
       "<tr>\n",
       "  <th>Method:</th>             <td>Least Squares</td>  <th>  F-statistic:       </th> <td>   573.1</td> \n",
       "</tr>\n",
       "<tr>\n",
       "  <th>Date:</th>             <td>Thu, 10 Jun 2021</td> <th>  Prob (F-statistic):</th> <td>3.17e-99</td> \n",
       "</tr>\n",
       "<tr>\n",
       "  <th>Time:</th>                 <td>23:55:22</td>     <th>  Log-Likelihood:    </th> <td> -7291.3</td> \n",
       "</tr>\n",
       "<tr>\n",
       "  <th>No. Observations:</th>      <td>   940</td>      <th>  AIC:               </th> <td>1.459e+04</td>\n",
       "</tr>\n",
       "<tr>\n",
       "  <th>Df Residuals:</th>          <td>   938</td>      <th>  BIC:               </th> <td>1.460e+04</td>\n",
       "</tr>\n",
       "<tr>\n",
       "  <th>Df Model:</th>              <td>     1</td>      <th>                     </th>     <td> </td>    \n",
       "</tr>\n",
       "<tr>\n",
       "  <th>Covariance Type:</th>      <td>nonrobust</td>    <th>                     </th>     <td> </td>    \n",
       "</tr>\n",
       "</table>\n",
       "<table class=\"simpletable\">\n",
       "<tr>\n",
       "          <td></td>             <th>coef</th>     <th>std err</th>      <th>t</th>      <th>P>|t|</th>  <th>[0.025</th>    <th>0.975]</th>  \n",
       "</tr>\n",
       "<tr>\n",
       "  <th>Intercept</th>         <td> 2018.6118</td> <td>   21.970</td> <td>   91.880</td> <td> 0.000</td> <td> 1975.496</td> <td> 2061.728</td>\n",
       "</tr>\n",
       "<tr>\n",
       "  <th>VeryActiveMinutes</th> <td>   13.4656</td> <td>    0.562</td> <td>   23.939</td> <td> 0.000</td> <td>   12.362</td> <td>   14.569</td>\n",
       "</tr>\n",
       "</table>\n",
       "<table class=\"simpletable\">\n",
       "<tr>\n",
       "  <th>Omnibus:</th>       <td>22.005</td> <th>  Durbin-Watson:     </th> <td>   0.764</td>\n",
       "</tr>\n",
       "<tr>\n",
       "  <th>Prob(Omnibus):</th> <td> 0.000</td> <th>  Jarque-Bera (JB):  </th> <td>  43.514</td>\n",
       "</tr>\n",
       "<tr>\n",
       "  <th>Skew:</th>          <td> 0.079</td> <th>  Prob(JB):          </th> <td>3.56e-10</td>\n",
       "</tr>\n",
       "<tr>\n",
       "  <th>Kurtosis:</th>      <td> 4.042</td> <th>  Cond. No.          </th> <td>    46.5</td>\n",
       "</tr>\n",
       "</table><br/><br/>Notes:<br/>[1] Standard Errors assume that the covariance matrix of the errors is correctly specified."
      ],
      "text/plain": [
       "<class 'statsmodels.iolib.summary.Summary'>\n",
       "\"\"\"\n",
       "                            OLS Regression Results                            \n",
       "==============================================================================\n",
       "Dep. Variable:             Calories_x   R-squared:                       0.379\n",
       "Model:                            OLS   Adj. R-squared:                  0.379\n",
       "Method:                 Least Squares   F-statistic:                     573.1\n",
       "Date:                Thu, 10 Jun 2021   Prob (F-statistic):           3.17e-99\n",
       "Time:                        23:55:22   Log-Likelihood:                -7291.3\n",
       "No. Observations:                 940   AIC:                         1.459e+04\n",
       "Df Residuals:                     938   BIC:                         1.460e+04\n",
       "Df Model:                           1                                         \n",
       "Covariance Type:            nonrobust                                         \n",
       "=====================================================================================\n",
       "                        coef    std err          t      P>|t|      [0.025      0.975]\n",
       "-------------------------------------------------------------------------------------\n",
       "Intercept          2018.6118     21.970     91.880      0.000    1975.496    2061.728\n",
       "VeryActiveMinutes    13.4656      0.562     23.939      0.000      12.362      14.569\n",
       "==============================================================================\n",
       "Omnibus:                       22.005   Durbin-Watson:                   0.764\n",
       "Prob(Omnibus):                  0.000   Jarque-Bera (JB):               43.514\n",
       "Skew:                           0.079   Prob(JB):                     3.56e-10\n",
       "Kurtosis:                       4.042   Cond. No.                         46.5\n",
       "==============================================================================\n",
       "\n",
       "Notes:\n",
       "[1] Standard Errors assume that the covariance matrix of the errors is correctly specified.\n",
       "\"\"\""
      ]
     },
     "execution_count": 18,
     "metadata": {},
     "output_type": "execute_result"
    }
   ],
   "source": [
    "model_fit.summary()"
   ]
  },
  {
   "cell_type": "code",
   "execution_count": 19,
   "metadata": {},
   "outputs": [
    {
     "data": {
      "text/plain": [
       "SedentaryMinutes           -0.106973\n",
       "SedentaryActiveDistance     0.043652\n",
       "LoggedActivitiesDistance    0.207595\n",
       "ModeratelyActiveDistance    0.216790\n",
       "LightlyActiveMinutes        0.286718\n",
       "FairlyActiveMinutes         0.297623\n",
       "Id                          0.396671\n",
       "LightActiveDistance         0.466917\n",
       "VeryActiveDistance          0.491959\n",
       "TotalSteps                  0.591568\n",
       "VeryActiveMinutes           0.615838\n",
       "TotalDistance               0.644962\n",
       "TrackerDistance             0.645313\n",
       "Calories_x                  1.000000\n",
       "Name: Calories_x, dtype: float64"
      ]
     },
     "execution_count": 19,
     "metadata": {},
     "output_type": "execute_result"
    }
   ],
   "source": [
    "df.corr().Calories_x.sort_values()"
   ]
  },
  {
   "cell_type": "code",
   "execution_count": 22,
   "metadata": {},
   "outputs": [
    {
     "data": {
      "text/plain": [
       "<AxesSubplot:>"
      ]
     },
     "execution_count": 22,
     "metadata": {},
     "output_type": "execute_result"
    },
    {
     "data": {
      "image/png": "[encoded data removed]",
      "text/plain": [
       "<Figure size 432x288 with 2 Axes>"
      ]
     },
     "metadata": {
      "needs_background": "light"
     },
     "output_type": "display_data"
    }
   ],
   "source": [
    "sns.heatmap(df.corr())"
   ]
  },
  {
   "cell_type": "code",
   "execution_count": 37,
   "metadata": {},
   "outputs": [
    {
     "data": {
      "text/html": [
       "<table class=\"simpletable\">\n",
       "<caption>OLS Regression Results</caption>\n",
       "<tr>\n",
       "  <th>Dep. Variable:</th>       <td>Calories_x</td>    <th>  R-squared:         </th> <td>   0.729</td> \n",
       "</tr>\n",
       "<tr>\n",
       "  <th>Model:</th>                   <td>OLS</td>       <th>  Adj. R-squared:    </th> <td>   0.727</td> \n",
       "</tr>\n",
       "<tr>\n",
       "  <th>Method:</th>             <td>Least Squares</td>  <th>  F-statistic:       </th> <td>   358.6</td> \n",
       "</tr>\n",
       "<tr>\n",
       "  <th>Date:</th>             <td>Fri, 11 Jun 2021</td> <th>  Prob (F-statistic):</th> <td>2.44e-259</td>\n",
       "</tr>\n",
       "<tr>\n",
       "  <th>Time:</th>                 <td>00:36:33</td>     <th>  Log-Likelihood:    </th> <td> -6901.3</td> \n",
       "</tr>\n",
       "<tr>\n",
       "  <th>No. Observations:</th>      <td>   940</td>      <th>  AIC:               </th> <td>1.382e+04</td>\n",
       "</tr>\n",
       "<tr>\n",
       "  <th>Df Residuals:</th>          <td>   932</td>      <th>  BIC:               </th> <td>1.386e+04</td>\n",
       "</tr>\n",
       "<tr>\n",
       "  <th>Df Model:</th>              <td>     7</td>      <th>                     </th>     <td> </td>    \n",
       "</tr>\n",
       "<tr>\n",
       "  <th>Covariance Type:</th>      <td>nonrobust</td>    <th>                     </th>     <td> </td>    \n",
       "</tr>\n",
       "</table>\n",
       "<table class=\"simpletable\">\n",
       "<tr>\n",
       "           <td></td>              <th>coef</th>     <th>std err</th>      <th>t</th>      <th>P>|t|</th>  <th>[0.025</th>    <th>0.975]</th>  \n",
       "</tr>\n",
       "<tr>\n",
       "  <th>Intercept</th>           <td> 1671.8517</td> <td>   24.785</td> <td>   67.455</td> <td> 0.000</td> <td> 1623.212</td> <td> 1720.492</td>\n",
       "</tr>\n",
       "<tr>\n",
       "  <th>VeryActiveMinutes</th>   <td>   19.6889</td> <td>    0.725</td> <td>   27.150</td> <td> 0.000</td> <td>   18.266</td> <td>   21.112</td>\n",
       "</tr>\n",
       "<tr>\n",
       "  <th>TotalSteps</th>          <td>   -0.4172</td> <td>    0.017</td> <td>  -25.164</td> <td> 0.000</td> <td>   -0.450</td> <td>   -0.385</td>\n",
       "</tr>\n",
       "<tr>\n",
       "  <th>VeryActiveDistance</th>  <td> -286.5923</td> <td>   20.589</td> <td>  -13.919</td> <td> 0.000</td> <td> -326.999</td> <td> -246.186</td>\n",
       "</tr>\n",
       "<tr>\n",
       "  <th>LightActiveDistance</th> <td>   18.8681</td> <td>   18.172</td> <td>    1.038</td> <td> 0.299</td> <td>  -16.795</td> <td>   54.531</td>\n",
       "</tr>\n",
       "<tr>\n",
       "  <th>FairlyActiveMinutes</th> <td>   -1.5487</td> <td>    0.999</td> <td>   -1.551</td> <td> 0.121</td> <td>   -3.509</td> <td>    0.411</td>\n",
       "</tr>\n",
       "<tr>\n",
       "  <th>TotalDistance</th>       <td>  537.8803</td> <td>  102.897</td> <td>    5.227</td> <td> 0.000</td> <td>  335.944</td> <td>  739.816</td>\n",
       "</tr>\n",
       "<tr>\n",
       "  <th>TrackerDistance</th>     <td>  152.9315</td> <td>   99.599</td> <td>    1.535</td> <td> 0.125</td> <td>  -42.534</td> <td>  348.397</td>\n",
       "</tr>\n",
       "</table>\n",
       "<table class=\"simpletable\">\n",
       "<tr>\n",
       "  <th>Omnibus:</th>       <td>106.188</td> <th>  Durbin-Watson:     </th> <td>   0.926</td>\n",
       "</tr>\n",
       "<tr>\n",
       "  <th>Prob(Omnibus):</th> <td> 0.000</td>  <th>  Jarque-Bera (JB):  </th> <td> 281.824</td>\n",
       "</tr>\n",
       "<tr>\n",
       "  <th>Skew:</th>          <td>-0.598</td>  <th>  Prob(JB):          </th> <td>6.35e-62</td>\n",
       "</tr>\n",
       "<tr>\n",
       "  <th>Kurtosis:</th>      <td> 5.401</td>  <th>  Cond. No.          </th> <td>1.06e+05</td>\n",
       "</tr>\n",
       "</table><br/><br/>Notes:<br/>[1] Standard Errors assume that the covariance matrix of the errors is correctly specified.<br/>[2] The condition number is large, 1.06e+05. This might indicate that there are<br/>strong multicollinearity or other numerical problems."
      ],
      "text/plain": [
       "<class 'statsmodels.iolib.summary.Summary'>\n",
       "\"\"\"\n",
       "                            OLS Regression Results                            \n",
       "==============================================================================\n",
       "Dep. Variable:             Calories_x   R-squared:                       0.729\n",
       "Model:                            OLS   Adj. R-squared:                  0.727\n",
       "Method:                 Least Squares   F-statistic:                     358.6\n",
       "Date:                Fri, 11 Jun 2021   Prob (F-statistic):          2.44e-259\n",
       "Time:                        00:36:33   Log-Likelihood:                -6901.3\n",
       "No. Observations:                 940   AIC:                         1.382e+04\n",
       "Df Residuals:                     932   BIC:                         1.386e+04\n",
       "Df Model:                           7                                         \n",
       "Covariance Type:            nonrobust                                         \n",
       "=======================================================================================\n",
       "                          coef    std err          t      P>|t|      [0.025      0.975]\n",
       "---------------------------------------------------------------------------------------\n",
       "Intercept            1671.8517     24.785     67.455      0.000    1623.212    1720.492\n",
       "VeryActiveMinutes      19.6889      0.725     27.150      0.000      18.266      21.112\n",
       "TotalSteps             -0.4172      0.017    -25.164      0.000      -0.450      -0.385\n",
       "VeryActiveDistance   -286.5923     20.589    -13.919      0.000    -326.999    -246.186\n",
       "LightActiveDistance    18.8681     18.172      1.038      0.299     -16.795      54.531\n",
       "FairlyActiveMinutes    -1.5487      0.999     -1.551      0.121      -3.509       0.411\n",
       "TotalDistance         537.8803    102.897      5.227      0.000     335.944     739.816\n",
       "TrackerDistance       152.9315     99.599      1.535      0.125     -42.534     348.397\n",
       "==============================================================================\n",
       "Omnibus:                      106.188   Durbin-Watson:                   0.926\n",
       "Prob(Omnibus):                  0.000   Jarque-Bera (JB):              281.824\n",
       "Skew:                          -0.598   Prob(JB):                     6.35e-62\n",
       "Kurtosis:                       5.401   Cond. No.                     1.06e+05\n",
       "==============================================================================\n",
       "\n",
       "Notes:\n",
       "[1] Standard Errors assume that the covariance matrix of the errors is correctly specified.\n",
       "[2] The condition number is large, 1.06e+05. This might indicate that there are\n",
       "strong multicollinearity or other numerical problems.\n",
       "\"\"\""
      ]
     },
     "execution_count": 37,
     "metadata": {},
     "output_type": "execute_result"
    }
   ],
   "source": [
    "ols('Calories_x ~ VeryActiveMinutes + TotalSteps + VeryActiveDistance + LightActiveDistance + FairlyActiveMinutes + TotalDistance + TrackerDistance ', data=df).fit().summary()"
   ]
  },
  {
   "cell_type": "raw",
   "metadata": {},
   "source": [
    "The condition number is large, 3.01e+03. This might indicate that there are\n",
    "strong multicollinearity or other numerical problems."
   ]
  },
  {
   "cell_type": "code",
   "execution_count": 38,
   "metadata": {},
   "outputs": [
    {
     "data": {
      "text/plain": [
       "array([2355.25154289, 2301.3891847 , 2422.57949062, 2409.11390108,\n",
       "       2503.3730279 , 2530.304207  , 2584.16656518, 2691.89128156,\n",
       "       2395.64831153, 2274.45800561, 2907.3407143 , 2570.70097564,\n",
       "       2543.76979654, 3001.59984113, 2436.04508017, 3068.92778886,\n",
       "       2664.96010246, 2234.06123697, 2718.82246065, 2462.97625926,\n",
       "       2570.70097564, 2691.89128156, 2503.3730279 , 2624.56333382,\n",
       "       2341.78595334, 2516.83861745, 2611.09774428, 2638.02892337,\n",
       "       2638.02892337, 2503.3730279 , 2018.61180422, 2018.61180422,\n",
       "       2018.61180422, 2018.61180422, 2018.61180422, 2018.61180422,\n",
       "       2220.59564742, 2247.52682652, 2018.61180422, 2018.61180422,\n",
       "       2018.61180422, 2018.61180422, 2018.61180422, 2234.06123697,\n",
       "       2018.61180422, 2018.61180422, 2247.52682652, 2018.61180422,\n",
       "       2018.61180422, 2166.73328924, 4523.2114599 , 2112.87093105,\n",
       "       2018.61180422, 2018.61180422, 2018.61180422, 2018.61180422,\n",
       "       2018.61180422, 2018.61180422, 2018.61180422, 2018.61180422,\n",
       "       2018.61180422, 2018.61180422, 2045.54298332, 2422.57949062,\n",
       "       2085.93975196, 2059.00857286, 2705.3568711 , 2409.11390108,\n",
       "       2220.59564742, 2085.93975196, 2018.61180422, 2018.61180422,\n",
       "       2018.61180422, 2018.61180422, 2018.61180422, 2126.3365206 ,\n",
       "       2166.73328924, 2018.61180422, 2059.00857286, 2018.61180422,\n",
       "       2139.80211014, 2059.00857286, 2032.07739377, 2153.26769969,\n",
       "       2018.61180422, 2099.4053415 , 2166.73328924, 2570.70097564,\n",
       "       2018.61180422, 2449.51066972, 2180.19887878, 2018.61180422,\n",
       "       2018.61180422, 2018.61180422, 2018.61180422, 2018.61180422,\n",
       "       2018.61180422, 2045.54298332, 2018.61180422, 2018.61180422,\n",
       "       2018.61180422, 2045.54298332, 2018.61180422, 2018.61180422,\n",
       "       2018.61180422, 2018.61180422, 2018.61180422, 2018.61180422,\n",
       "       2018.61180422, 2018.61180422, 2018.61180422, 2018.61180422,\n",
       "       2018.61180422, 2018.61180422, 2018.61180422, 2018.61180422,\n",
       "       2018.61180422, 2018.61180422, 2018.61180422, 2018.61180422,\n",
       "       2018.61180422, 2018.61180422, 2018.61180422, 2018.61180422,\n",
       "       2018.61180422, 2018.61180422, 2018.61180422, 2018.61180422,\n",
       "       2018.61180422, 2018.61180422, 2018.61180422, 2018.61180422,\n",
       "       2018.61180422, 2018.61180422, 2018.61180422, 2032.07739377,\n",
       "       2018.61180422, 2018.61180422, 2018.61180422, 2018.61180422,\n",
       "       2018.61180422, 2018.61180422, 2207.13005788, 2234.06123697,\n",
       "       2153.26769969, 2018.61180422, 2018.61180422, 2018.61180422,\n",
       "       2018.61180422, 2018.61180422, 2018.61180422, 2018.61180422,\n",
       "       2018.61180422, 2018.61180422, 2584.16656518, 2597.63215473,\n",
       "       2449.51066972, 2382.18272198, 2570.70097564, 2395.64831153,\n",
       "       2664.96010246, 2436.04508017, 2664.96010246, 3419.03311708,\n",
       "       2718.82246065, 2018.61180422, 2516.83861745, 2611.09774428,\n",
       "       2759.21922929, 2274.45800561, 2099.4053415 , 2301.3891847 ,\n",
       "       2193.66446833, 2355.25154289, 2503.3730279 , 2988.13425158,\n",
       "       2503.3730279 , 2759.21922929, 2341.78595334, 2287.92359516,\n",
       "       2018.61180422, 2489.90743836, 2786.15040838, 2799.61599793,\n",
       "       2234.06123697, 2059.00857286, 2018.61180422, 2018.61180422,\n",
       "       2018.61180422, 2018.61180422, 2018.61180422, 2018.61180422,\n",
       "       2018.61180422, 2018.61180422, 2018.61180422, 2018.61180422,\n",
       "       2018.61180422, 2018.61180422, 2018.61180422, 2018.61180422,\n",
       "       2018.61180422, 2018.61180422, 2018.61180422, 2018.61180422,\n",
       "       2018.61180422, 2018.61180422, 2018.61180422, 2018.61180422,\n",
       "       2018.61180422, 2018.61180422, 2018.61180422, 2018.61180422,\n",
       "       2018.61180422, 2018.61180422, 2018.61180422, 2018.61180422,\n",
       "       2193.66446833, 2018.61180422, 2018.61180422, 2018.61180422,\n",
       "       2018.61180422, 2018.61180422, 2018.61180422, 2018.61180422,\n",
       "       2018.61180422, 2032.07739377, 2018.61180422, 2018.61180422,\n",
       "       2018.61180422, 2059.00857286, 2018.61180422, 2018.61180422,\n",
       "       2018.61180422, 2018.61180422, 2018.61180422, 2018.61180422,\n",
       "       2085.93975196, 2287.92359516, 2018.61180422, 2018.61180422,\n",
       "       2018.61180422, 2018.61180422, 2018.61180422, 2018.61180422,\n",
       "       2018.61180422, 2018.61180422, 2018.61180422, 2395.64831153,\n",
       "       2274.45800561, 2032.07739377, 2032.07739377, 2907.3407143 ,\n",
       "       2032.07739377, 2166.73328924, 2018.61180422, 2166.73328924,\n",
       "       2328.3203638 , 2139.80211014, 2449.51066972, 2018.61180422,\n",
       "       2220.59564742, 2018.61180422, 2368.71713244, 2018.61180422,\n",
       "       2018.61180422, 2045.54298332, 2018.61180422, 2018.61180422,\n",
       "       2018.61180422, 2651.49451292, 2018.61180422, 2032.07739377,\n",
       "       2018.61180422, 2314.85477425, 2045.54298332, 2638.02892337,\n",
       "       2395.64831153, 2638.02892337, 2018.61180422, 2045.54298332,\n",
       "       2638.02892337, 2395.64831153, 2287.92359516, 2085.93975196,\n",
       "       2112.87093105, 2018.61180422, 2032.07739377, 2018.61180422,\n",
       "       2193.66446833, 2018.61180422, 3028.53102022, 2638.02892337,\n",
       "       2018.61180422, 2018.61180422, 2018.61180422, 2018.61180422,\n",
       "       2018.61180422, 2234.06123697, 2099.4053415 , 2018.61180422,\n",
       "       2018.61180422, 2166.73328924, 2287.92359516, 2018.61180422,\n",
       "       2220.59564742, 2260.99241606, 2018.61180422, 2287.92359516,\n",
       "       2207.13005788, 2018.61180422, 2314.85477425, 2341.78595334,\n",
       "       2018.61180422, 2018.61180422, 2247.52682652, 2018.61180422,\n",
       "       2611.09774428, 2436.04508017, 2085.93975196, 2220.59564742,\n",
       "       2436.04508017, 2166.73328924, 2072.47416241, 2274.45800561,\n",
       "       2045.54298332, 2018.61180422, 2462.97625926, 2018.61180422,\n",
       "       2422.57949062, 2691.89128156, 2112.87093105, 2018.61180422,\n",
       "       2220.59564742, 2503.3730279 , 2597.63215473, 2570.70097564,\n",
       "       2341.78595334, 2651.49451292, 2207.13005788, 2207.13005788,\n",
       "       2409.11390108, 2018.61180422, 2139.80211014, 2126.3365206 ,\n",
       "       2032.07739377, 2072.47416241, 2072.47416241, 2018.61180422,\n",
       "       2018.61180422, 2503.3730279 , 2893.87512476, 2018.61180422,\n",
       "       2018.61180422, 2018.61180422, 2018.61180422, 2018.61180422,\n",
       "       2018.61180422, 2018.61180422, 2018.61180422, 2018.61180422,\n",
       "       2018.61180422, 2018.61180422, 2018.61180422, 2018.61180422,\n",
       "       2018.61180422, 2018.61180422, 2018.61180422, 2018.61180422,\n",
       "       2193.66446833, 2530.304207  , 2018.61180422, 2018.61180422,\n",
       "       2018.61180422, 2059.00857286, 2018.61180422, 2045.54298332,\n",
       "       2018.61180422, 2018.61180422, 2018.61180422, 2018.61180422,\n",
       "       2059.00857286, 2018.61180422, 2126.3365206 , 2032.07739377,\n",
       "       2018.61180422, 2018.61180422, 2018.61180422, 2032.07739377,\n",
       "       2018.61180422, 2018.61180422, 2018.61180422, 2032.07739377,\n",
       "       2018.61180422, 2032.07739377, 2018.61180422, 2126.3365206 ,\n",
       "       2099.4053415 , 2193.66446833, 2099.4053415 , 2099.4053415 ,\n",
       "       2018.61180422, 2018.61180422, 2126.3365206 , 2126.3365206 ,\n",
       "       2382.18272198, 2099.4053415 , 2059.00857286, 2018.61180422,\n",
       "       2045.54298332, 2059.00857286, 2059.00857286, 2018.61180422,\n",
       "       2018.61180422, 2032.07739377, 2153.26769969, 2018.61180422,\n",
       "       2099.4053415 , 2018.61180422, 2382.18272198, 2287.92359516,\n",
       "       2274.45800561, 2112.87093105, 3055.46219932, 2799.61599793,\n",
       "       2207.13005788, 2166.73328924, 2207.13005788, 2166.73328924,\n",
       "       2274.45800561, 2193.66446833, 2207.13005788, 2180.19887878,\n",
       "       2462.97625926, 2260.99241606, 2489.90743836, 2180.19887878,\n",
       "       2462.97625926, 3634.48254982, 3459.42988572, 2099.4053415 ,\n",
       "       2193.66446833, 2126.3365206 , 2018.61180422, 2018.61180422,\n",
       "       2018.61180422, 2018.61180422, 2018.61180422, 2018.61180422,\n",
       "       2018.61180422, 2355.25154289, 2018.61180422, 2018.61180422,\n",
       "       2018.61180422, 2018.61180422, 2018.61180422, 2018.61180422,\n",
       "       2018.61180422, 2409.11390108, 2449.51066972, 2018.61180422,\n",
       "       2018.61180422, 2018.61180422, 2018.61180422, 2382.18272198,\n",
       "       2422.57949062, 2018.61180422, 2045.54298332, 2018.61180422,\n",
       "       2368.71713244, 2018.61180422, 2018.61180422, 2018.61180422,\n",
       "       2476.44184881, 2018.61180422, 2018.61180422, 2274.45800561,\n",
       "       2018.61180422, 2247.52682652, 2126.3365206 , 2112.87093105,\n",
       "       2207.13005788, 2032.07739377, 2018.61180422, 2099.4053415 ,\n",
       "       2287.92359516, 2085.93975196, 2018.61180422, 2260.99241606,\n",
       "       2180.19887878, 2382.18272198, 2032.07739377, 2220.59564742,\n",
       "       2112.87093105, 2018.61180422, 2018.61180422, 2301.3891847 ,\n",
       "       2018.61180422, 2207.13005788, 2018.61180422, 2328.3203638 ,\n",
       "       2907.3407143 , 2099.4053415 , 2166.73328924, 2072.47416241,\n",
       "       2018.61180422, 2018.61180422, 2018.61180422, 2018.61180422,\n",
       "       2032.07739377, 2059.00857286, 2180.19887878, 2314.85477425,\n",
       "       2153.26769969, 2045.54298332, 2072.47416241, 2018.61180422,\n",
       "       2139.80211014, 2220.59564742, 2099.4053415 , 2032.07739377,\n",
       "       2032.07739377, 2207.13005788, 2180.19887878, 2072.47416241,\n",
       "       2018.61180422, 2085.93975196, 2018.61180422, 2072.47416241,\n",
       "       2126.3365206 , 2032.07739377, 2085.93975196, 2139.80211014,\n",
       "       2018.61180422, 2032.07739377, 2153.26769969, 2018.61180422,\n",
       "       2274.45800561, 2018.61180422, 2840.01276657, 2799.61599793,\n",
       "       2018.61180422, 2018.61180422, 2018.61180422, 2947.73748294,\n",
       "       2018.61180422, 2651.49451292, 2355.25154289, 2018.61180422,\n",
       "       2018.61180422, 2705.3568711 , 2557.23538609, 2234.06123697,\n",
       "       2678.42569201, 2638.02892337, 2018.61180422, 2018.61180422,\n",
       "       2328.3203638 , 2368.71713244, 2018.61180422, 2611.09774428,\n",
       "       2301.3891847 , 2018.61180422, 2059.00857286, 2813.08158748,\n",
       "       2840.01276657, 2018.61180422, 2126.3365206 , 3176.65250524,\n",
       "       2220.59564742, 3607.55137073, 3567.15460209, 4496.28028081,\n",
       "       4711.72971356, 3553.68901254, 3472.89547526, 3190.11809478,\n",
       "       3499.82665436, 2853.47835612, 2341.78595334, 4846.38560902,\n",
       "       2840.01276657, 2530.304207  , 2866.94394566, 3351.70516934,\n",
       "       3324.77399025, 4805.98884038, 4630.93617628, 2516.83861745,\n",
       "       3324.77399025, 2355.25154289, 2624.56333382, 2570.70097564,\n",
       "       2018.61180422, 2018.61180422, 2476.44184881, 3419.03311708,\n",
       "       2624.56333382, 2018.61180422, 2018.61180422, 2018.61180422,\n",
       "       2018.61180422, 2112.87093105, 2018.61180422, 2018.61180422,\n",
       "       2018.61180422, 2368.71713244, 2166.73328924, 2018.61180422,\n",
       "       2018.61180422, 2018.61180422, 2018.61180422, 2018.61180422,\n",
       "       2018.61180422, 2018.61180422, 2018.61180422, 2018.61180422,\n",
       "       2018.61180422, 2018.61180422, 2018.61180422, 2018.61180422,\n",
       "       2018.61180422, 2018.61180422, 2018.61180422, 2018.61180422,\n",
       "       2018.61180422, 2018.61180422, 2018.61180422, 2018.61180422,\n",
       "       2018.61180422, 2018.61180422, 2436.04508017, 2018.61180422,\n",
       "       2018.61180422, 2018.61180422, 2018.61180422, 2018.61180422,\n",
       "       2462.97625926, 2018.61180422, 2126.3365206 , 2018.61180422,\n",
       "       2018.61180422, 2018.61180422, 2018.61180422, 2018.61180422,\n",
       "       2126.3365206 , 2018.61180422, 2018.61180422, 2018.61180422,\n",
       "       2018.61180422, 2018.61180422, 2018.61180422, 2018.61180422,\n",
       "       2018.61180422, 2018.61180422, 2018.61180422, 2247.52682652,\n",
       "       2207.13005788, 2018.61180422, 2503.3730279 , 2085.93975196,\n",
       "       2422.57949062, 2018.61180422, 2961.20307249, 2018.61180422,\n",
       "       2018.61180422, 2018.61180422, 2166.73328924, 2462.97625926,\n",
       "       2584.16656518, 2018.61180422, 2045.54298332, 2018.61180422,\n",
       "       2059.00857286, 2139.80211014, 2018.61180422, 2018.61180422,\n",
       "       2018.61180422, 2018.61180422, 2180.19887878, 2045.54298332,\n",
       "       2691.89128156, 2126.3365206 , 2018.61180422, 2018.61180422,\n",
       "       2691.89128156, 2085.93975196, 2193.66446833, 2489.90743836,\n",
       "       2664.96010246, 2732.2880502 , 2422.57949062, 2799.61599793,\n",
       "       2018.61180422, 2489.90743836, 2503.3730279 , 2112.87093105,\n",
       "       2530.304207  , 2180.19887878, 2449.51066972, 2018.61180422,\n",
       "       2260.99241606, 2301.3891847 , 2220.59564742, 2207.13005788,\n",
       "       2018.61180422, 2018.61180422, 2018.61180422, 2597.63215473,\n",
       "       2853.47835612, 2341.78595334, 2018.61180422, 2732.2880502 ,\n",
       "       2772.68481884, 2476.44184881, 2018.61180422, 2018.61180422,\n",
       "       2018.61180422, 2664.96010246, 2732.2880502 , 2826.54717702,\n",
       "       2422.57949062, 2880.40953521, 2045.54298332, 2018.61180422,\n",
       "       2705.3568711 , 2234.06123697, 2691.89128156, 2234.06123697,\n",
       "       2759.21922929, 2018.61180422, 2018.61180422, 2880.40953521,\n",
       "       2799.61599793, 2018.61180422, 2732.2880502 , 2611.09774428,\n",
       "       2018.61180422, 2813.08158748, 2436.04508017, 2489.90743836,\n",
       "       2422.57949062, 2018.61180422, 2018.61180422, 2840.01276657,\n",
       "       2920.80630385, 3190.11809478, 2274.45800561, 2799.61599793,\n",
       "       2018.61180422, 2018.61180422, 2947.73748294, 2961.20307249,\n",
       "       2759.21922929, 2745.75363974, 2341.78595334, 2584.16656518,\n",
       "       2422.57949062, 2907.3407143 , 2786.15040838, 2624.56333382,\n",
       "       2341.78595334, 3149.72132614, 2287.92359516, 2449.51066972,\n",
       "       2920.80630385, 2988.13425158, 2786.15040838, 2085.93975196,\n",
       "       3580.62019164, 3297.84281116, 3621.01696028, 3796.06962438,\n",
       "       3311.3084007 , 3513.2922439 , 3392.10193798, 3230.51486342,\n",
       "       3217.04927388, 3365.17075889, 2826.54717702, 3701.81049756,\n",
       "       3755.67285574, 3607.55137073, 2934.2718934 , 2826.54717702,\n",
       "       3230.51486342, 2799.61599793, 2382.18272198, 2018.61180422,\n",
       "       2018.61180422, 3190.11809478, 3217.04927388, 3270.91163206,\n",
       "       3230.51486342, 3647.94813937, 3701.81049756, 2907.3407143 ,\n",
       "       3311.3084007 , 2826.54717702, 2395.64831153, 2557.23538609,\n",
       "       2489.90743836, 2409.11390108, 2018.61180422, 2099.4053415 ,\n",
       "       2570.70097564, 2234.06123697, 2018.61180422, 2085.93975196,\n",
       "       2678.42569201, 2018.61180422, 2422.57949062, 2570.70097564,\n",
       "       2112.87093105, 2274.45800561, 2624.56333382, 2166.73328924,\n",
       "       2234.06123697, 2018.61180422, 2893.87512476, 3580.62019164,\n",
       "       3674.87931846, 2826.54717702, 2880.40953521, 2018.61180422,\n",
       "       3594.08578118, 3634.48254982, 3122.79014705, 3863.39757212,\n",
       "       3540.223423  , 2274.45800561, 2018.61180422, 3594.08578118,\n",
       "       3230.51486342, 2072.47416241, 2166.73328924, 2059.00857286,\n",
       "       2018.61180422, 2974.66866204, 2866.94394566, 2974.66866204,\n",
       "       2274.45800561, 2907.3407143 , 3015.06543068, 2018.61180422,\n",
       "       2018.61180422, 2974.66866204, 2866.94394566, 2988.13425158,\n",
       "       2126.3365206 , 2018.61180422, 2045.54298332, 2018.61180422,\n",
       "       2018.61180422, 2018.61180422, 2018.61180422, 2072.47416241,\n",
       "       2112.87093105, 2018.61180422, 2489.90743836, 2072.47416241,\n",
       "       2112.87093105, 2045.54298332, 2260.99241606, 2032.07739377,\n",
       "       3055.46219932, 2018.61180422, 2638.02892337, 2045.54298332,\n",
       "       2153.26769969, 2018.61180422, 2018.61180422, 2018.61180422,\n",
       "       2018.61180422, 2045.54298332, 2018.61180422, 2059.00857286,\n",
       "       2907.3407143 , 2139.80211014, 2085.93975196, 2018.61180422,\n",
       "       2018.61180422, 2018.61180422, 2018.61180422, 2018.61180422,\n",
       "       2018.61180422, 2018.61180422, 2018.61180422, 2018.61180422,\n",
       "       2018.61180422, 2018.61180422, 2032.07739377, 2126.3365206 ,\n",
       "       2059.00857286, 2018.61180422, 2018.61180422, 2018.61180422,\n",
       "       2018.61180422, 2099.4053415 , 2153.26769969, 2018.61180422,\n",
       "       2018.61180422, 2018.61180422, 2018.61180422, 2018.61180422,\n",
       "       2018.61180422, 2018.61180422, 2018.61180422, 2018.61180422,\n",
       "       2018.61180422, 3163.18691569, 3472.89547526, 2934.2718934 ,\n",
       "       3445.96429617, 3284.37722161, 2799.61599793, 2409.11390108,\n",
       "       3122.79014705, 3001.59984113, 3122.79014705, 2840.01276657,\n",
       "       3392.10193798, 2880.40953521, 3540.223423  , 2314.85477425,\n",
       "       3270.91163206, 2799.61599793, 2260.99241606, 3688.34490801,\n",
       "       2503.3730279 , 2018.61180422, 2274.45800561, 2907.3407143 ,\n",
       "       2920.80630385, 3311.3084007 , 3432.49870662, 2247.52682652,\n",
       "       3001.59984113, 2260.99241606, 3203.58368433, 2328.3203638 ])"
      ]
     },
     "execution_count": 38,
     "metadata": {},
     "output_type": "execute_result"
    }
   ],
   "source": [
    "y_pred = model_fit.predict()\n",
    "resids = model_fit.resid\n",
    "y_pred"
   ]
  },
  {
   "cell_type": "code",
   "execution_count": 39,
   "metadata": {},
   "outputs": [
    {
     "data": {
      "text/plain": [
       "<AxesSubplot:>"
      ]
     },
     "execution_count": 39,
     "metadata": {},
     "output_type": "execute_result"
    },
    {
     "data": {
      "image/png": "[encoded data removed]",
      "text/plain": [
       "<Figure size 432x288 with 1 Axes>"
      ]
     },
     "metadata": {
      "needs_background": "light"
     },
     "output_type": "display_data"
    }
   ],
   "source": [
    "resids.plot()"
   ]
  },
  {
   "cell_type": "code",
   "execution_count": 42,
   "metadata": {},
   "outputs": [
    {
     "name": "stderr",
     "output_type": "stream",
     "text": [
      "C:\\ProgramData\\Anaconda3\\lib\\site-packages\\seaborn\\distributions.py:2551: FutureWarning: `distplot` is a deprecated function and will be removed in a future version. Please adapt your code to use either `displot` (a figure-level function with similar flexibility) or `histplot` (an axes-level function for histograms).\n",
      "  warnings.warn(msg, FutureWarning)\n"
     ]
    },
    {
     "data": {
      "text/plain": [
       "[Text(0.5, 1.0, 'Distribution of residuals')]"
      ]
     },
     "execution_count": 42,
     "metadata": {},
     "output_type": "execute_result"
    },
    {
     "data": {
      "image/png": "[encoded data removed]",
      "text/plain": [
       "<Figure size 432x288 with 1 Axes>"
      ]
     },
     "metadata": {
      "needs_background": "light"
     },
     "output_type": "display_data"
    }
   ],
   "source": [
    "sns.distplot(resids).set(title='Distribution of residuals')\n",
    "#sns.title('')"
   ]
  },
  {
   "cell_type": "code",
   "execution_count": 41,
   "metadata": {},
   "outputs": [
    {
     "data": {
      "text/plain": [
       "Int64Index([1503960366, 1503960366, 1503960366, 1503960366, 1503960366,\n",
       "            1503960366, 1503960366, 1503960366, 1503960366, 1503960366,\n",
       "            ...\n",
       "            8877689391, 8877689391, 8877689391, 8877689391, 8877689391,\n",
       "            8877689391, 8877689391, 8877689391, 8877689391, 8877689391],\n",
       "           dtype='int64', name='Id', length=940)"
      ]
     },
     "execution_count": 41,
     "metadata": {},
     "output_type": "execute_result"
    }
   ],
   "source": [
    "exog.index.get_level_values('Id')"
   ]
  },
  {
   "cell_type": "code",
   "execution_count": 153,
   "metadata": {},
   "outputs": [],
   "source": [
    "df1 = df.copy()\n",
    "df1['y_pred']=y_pred\n",
    "df1 = df1.sort_values(by='Calories_x')"
   ]
  },
  {
   "cell_type": "code",
   "execution_count": 156,
   "metadata": {},
   "outputs": [
    {
     "data": {
      "text/plain": [
       "<AxesSubplot:xlabel='VeryActiveMinutes', ylabel='Calories_x'>"
      ]
     },
     "execution_count": 156,
     "metadata": {},
     "output_type": "execute_result"
    },
    {
     "data": {
      "image/png": "[encoded data removed]",
      "text/plain": [
       "<Figure size 432x288 with 1 Axes>"
      ]
     },
     "metadata": {
      "needs_background": "light"
     },
     "output_type": "display_data"
    }
   ],
   "source": [
    "sns.scatterplot(data = df, x = 'VeryActiveMinutes', y = 'Calories_x')\n",
    "sns.lineplot(data = df1, x = 'VeryActiveMinutes', y = 'y_pred')"
   ]
  },
  {
   "cell_type": "code",
   "execution_count": 33,
   "metadata": {},
   "outputs": [],
   "source": [
    "X = df.drop(['SedentaryMinutes',      \n",
    "'SedentaryActiveDistance' ,    \n",
    "'LoggedActivitiesDistance' ,   \n",
    "'ModeratelyActiveDistance' ,   \n",
    "'LightlyActiveMinutes'   ,     \n",
    "'FairlyActiveMinutes'     ,    \n",
    "'LightActiveDistance'     ,    \n",
    "'VeryActiveDistance'    ,      \n",
    "'TotalSteps'      ,          \n",
    "'VeryActiveMinutes'   ,        \n",
    "'TotalDistance'  ,             \n",
    "'TrackerDistance','Date','Weekday' ], axis=1)"
   ]
  },
  {
   "cell_type": "code",
   "execution_count": 26,
   "metadata": {},
   "outputs": [],
   "source": [
    "from sklearn.linear_model import LinearRegression"
   ]
  },
  {
   "cell_type": "code",
   "execution_count": 34,
   "metadata": {},
   "outputs": [
    {
     "data": {
      "text/plain": [
       "LinearRegression()"
      ]
     },
     "execution_count": 34,
     "metadata": {},
     "output_type": "execute_result"
    }
   ],
   "source": [
    "lr = LinearRegression()\n",
    "lr.fit(X, df.Calories_x)"
   ]
  },
  {
   "cell_type": "code",
   "execution_count": 35,
   "metadata": {},
   "outputs": [
    {
     "data": {
      "text/plain": [
       "array([-2.44805104e-23,  1.00000000e+00])"
      ]
     },
     "execution_count": 35,
     "metadata": {},
     "output_type": "execute_result"
    }
   ],
   "source": [
    "lr.coef_"
   ]
  },
  {
   "cell_type": "code",
   "execution_count": 36,
   "metadata": {},
   "outputs": [
    {
     "data": {
      "text/plain": [
       "1.0"
      ]
     },
     "execution_count": 36,
     "metadata": {},
     "output_type": "execute_result"
    }
   ],
   "source": [
    "lr.score(X, df.Calories_x)"
   ]
  },
  {
   "cell_type": "code",
   "execution_count": 59,
   "metadata": {},
   "outputs": [
    {
     "name": "stdout",
     "output_type": "stream",
     "text": [
      "                          PooledOLS Estimation Summary                          \n",
      "================================================================================\n",
      "Dep. Variable:             Calories_x   R-squared:                        0.3793\n",
      "Estimator:                  PooledOLS   R-squared (Between):              0.3929\n",
      "No. Observations:                 940   R-squared (Within):               0.3608\n",
      "Date:                Tue, Jun 08 2021   R-squared (Overall):              0.3793\n",
      "Time:                        13:17:33   Log-likelihood                   -7291.3\n",
      "Cov. Estimator:             Clustered                                           \n",
      "                                        F-statistic:                      573.09\n",
      "Entities:                          33   P-value                           0.0000\n",
      "Avg Obs:                       28.485   Distribution:                   F(1,938)\n",
      "Min Obs:                       4.0000                                           \n",
      "Max Obs:                       31.000   F-statistic (robust):             87.197\n",
      "                                        P-value                           0.0000\n",
      "Time periods:                      31   Distribution:                   F(1,938)\n",
      "Avg Obs:                       30.323                                           \n",
      "Min Obs:                       21.000                                           \n",
      "Max Obs:                       33.000                                           \n",
      "                                                                                \n",
      "                                 Parameter Estimates                                 \n",
      "=====================================================================================\n",
      "                   Parameter  Std. Err.     T-stat    P-value    Lower CI    Upper CI\n",
      "-------------------------------------------------------------------------------------\n",
      "const                 2018.6     85.040     23.737     0.0000      1851.7      2185.5\n",
      "VeryActiveMinutes     13.466     1.4420     9.3379     0.0000      10.636      16.296\n",
      "=====================================================================================\n"
     ]
    }
   ],
   "source": [
    "df = pd.get_dummies(df, columns=['Weekday'], drop_first=True)\n",
    "df.Date = pd.to_datetime(df.Date)\n",
    "year = pd.Categorical(df.Date)\n",
    "df = df.set_index(['Id', 'Date'])\n",
    "df['year'] = year\n",
    "exog = sm.add_constant(df.VeryActiveMinutes)\n",
    "mod = PooledOLS(df.Calories_x, exog, check_rank=False)\n",
    "pooled_res = mod.fit(cov_type='clustered', cluster_entity=True)\n",
    "print(pooled_res)"
   ]
  },
  {
   "cell_type": "code",
   "execution_count": 61,
   "metadata": {},
   "outputs": [],
   "source": [
    "pooledOLS_res = mod.fit(cov_type='clustered', cluster_entity=True)"
   ]
  },
  {
   "cell_type": "code",
   "execution_count": 62,
   "metadata": {},
   "outputs": [],
   "source": [
    "# Store values for checking homoskedasticity graphically\n",
    "fittedvals_pooled_OLS = pooledOLS_res.predict().fitted_values\n",
    "residuals_pooled_OLS = pooledOLS_res.resids"
   ]
  },
  {
   "cell_type": "code",
   "execution_count": 68,
   "metadata": {},
   "outputs": [
    {
     "data": {
      "image/png": "[encoded data removed]",
      "text/plain": [
       "<Figure size 432x288 with 1 Axes>"
      ]
     },
     "metadata": {
      "needs_background": "light"
     },
     "output_type": "display_data"
    }
   ],
   "source": [
    "# 3A. Homoskedasticity\n",
    "import matplotlib.pyplot as plt\n",
    " # 3A.1 Residuals-Plot for growing Variance Detection\n",
    "fig, ax = plt.subplots()\n",
    "ax.scatter(fittedvals_pooled_OLS, residuals_pooled_OLS, color = 'blue')\n",
    "ax.axhline(0, color = 'r', ls = '--')\n",
    "ax.set_xlabel('Predicted Values', fontsize = 15)\n",
    "ax.set_ylabel('Residuals', fontsize = 15)\n",
    "ax.set_title('Homoskedasticity Test', fontsize = 10)\n",
    "plt.show()"
   ]
  },
  {
   "cell_type": "raw",
   "metadata": {},
   "source": [
    "residuals-plot represents predicted values (x-axis) vs. residuals (y-axis). If the plotted data points spread out, this is an indicator for growing variance and thus, for heteroskedasticity. Since this seems to be the case in our example, we might have the first violation"
   ]
  },
  {
   "cell_type": "markdown",
   "metadata": {},
   "source": [
    "# the White- and the Breusch-Pagan-Test"
   ]
  },
  {
   "cell_type": "code",
   "execution_count": 77,
   "metadata": {},
   "outputs": [
    {
     "ename": "KeyError",
     "evalue": "\"[Timestamp('2016-04-12 00:00:00') Timestamp('2016-04-13 00:00:00')\\n Timestamp('2016-04-14 00:00:00') Timestamp('2016-04-15 00:00:00')\\n Timestamp('2016-04-16 00:00:00') Timestamp('2016-04-17 00:00:00')\\n Timestamp('2016-04-18 00:00:00') Timestamp('2016-04-19 00:00:00')\\n Timestamp('2016-04-20 00:00:00') Timestamp('2016-04-21 00:00:00')\\n Timestamp('2016-04-22 00:00:00') Timestamp('2016-04-23 00:00:00')\\n Timestamp('2016-04-24 00:00:00') Timestamp('2016-04-25 00:00:00')\\n Timestamp('2016-04-26 00:00:00') Timestamp('2016-04-27 00:00:00')\\n Timestamp('2016-04-28 00:00:00') Timestamp('2016-04-29 00:00:00')\\n Timestamp('2016-04-30 00:00:00') Timestamp('2016-05-01 00:00:00')\\n Timestamp('2016-05-02 00:00:00') Timestamp('2016-05-03 00:00:00')\\n Timestamp('2016-05-04 00:00:00') Timestamp('2016-05-05 00:00:00')\\n Timestamp('2016-05-06 00:00:00') Timestamp('2016-05-07 00:00:00')\\n Timestamp('2016-05-08 00:00:00') Timestamp('2016-05-09 00:00:00')\\n Timestamp('2016-05-10 00:00:00') Timestamp('2016-05-11 00:00:00')\\n Timestamp('2016-05-12 00:00:00') Timestamp('2016-04-12 00:00:00')\\n Timestamp('2016-04-13 00:00:00') Timestamp('2016-04-14 00:00:00')\\n Timestamp('2016-04-15 00:00:00') Timestamp('2016-04-16 00:00:00')\\n Timestamp('2016-04-17 00:00:00') Timestamp('2016-04-18 00:00:00')\\n Timestamp('2016-04-19 00:00:00') Timestamp('2016-04-20 00:00:00')\\n Timestamp('2016-04-21 00:00:00') Timestamp('2016-04-22 00:00:00')\\n Timestamp('2016-04-23 00:00:00') Timestamp('2016-04-24 00:00:00')\\n Timestamp('2016-04-25 00:00:00') Timestamp('2016-04-26 00:00:00')\\n Timestamp('2016-04-27 00:00:00') Timestamp('2016-04-28 00:00:00')\\n Timestamp('2016-04-29 00:00:00') Timestamp('2016-04-30 00:00:00')\\n Timestamp('2016-05-01 00:00:00') Timestamp('2016-05-02 00:00:00')\\n Timestamp('2016-05-03 00:00:00') Timestamp('2016-05-04 00:00:00')\\n Timestamp('2016-05-05 00:00:00') Timestamp('2016-05-06 00:00:00')\\n Timestamp('2016-05-07 00:00:00') Timestamp('2016-05-08 00:00:00')\\n Timestamp('2016-05-09 00:00:00') Timestamp('2016-05-10 00:00:00')\\n Timestamp('2016-05-11 00:00:00') Timestamp('2016-05-12 00:00:00')\\n Timestamp('2016-04-12 00:00:00') Timestamp('2016-04-13 00:00:00')\\n Timestamp('2016-04-14 00:00:00') Timestamp('2016-04-15 00:00:00')\\n Timestamp('2016-04-16 00:00:00') Timestamp('2016-04-17 00:00:00')\\n Timestamp('2016-04-18 00:00:00') Timestamp('2016-04-19 00:00:00')\\n Timestamp('2016-04-20 00:00:00') Timestamp('2016-04-21 00:00:00')\\n Timestamp('2016-04-22 00:00:00') Timestamp('2016-04-23 00:00:00')\\n Timestamp('2016-04-24 00:00:00') Timestamp('2016-04-25 00:00:00')\\n Timestamp('2016-04-26 00:00:00') Timestamp('2016-04-27 00:00:00')\\n Timestamp('2016-04-28 00:00:00') Timestamp('2016-04-29 00:00:00')\\n Timestamp('2016-04-30 00:00:00') Timestamp('2016-05-01 00:00:00')\\n Timestamp('2016-05-02 00:00:00') Timestamp('2016-05-03 00:00:00')\\n Timestamp('2016-05-04 00:00:00') Timestamp('2016-05-05 00:00:00')\\n Timestamp('2016-05-06 00:00:00') Timestamp('2016-05-07 00:00:00')\\n Timestamp('2016-05-08 00:00:00') Timestamp('2016-05-09 00:00:00')\\n Timestamp('2016-05-10 00:00:00') Timestamp('2016-05-11 00:00:00')\\n Timestamp('2016-04-12 00:00:00') Timestamp('2016-04-13 00:00:00')\\n Timestamp('2016-04-14 00:00:00') Timestamp('2016-04-15 00:00:00')\\n Timestamp('2016-04-16 00:00:00') Timestamp('2016-04-17 00:00:00')\\n Timestamp('2016-04-18 00:00:00') Timestamp('2016-04-19 00:00:00')\\n Timestamp('2016-04-20 00:00:00') Timestamp('2016-04-21 00:00:00')\\n Timestamp('2016-04-22 00:00:00') Timestamp('2016-04-23 00:00:00')\\n Timestamp('2016-04-24 00:00:00') Timestamp('2016-04-25 00:00:00')\\n Timestamp('2016-04-26 00:00:00') Timestamp('2016-04-27 00:00:00')\\n Timestamp('2016-04-28 00:00:00') Timestamp('2016-04-29 00:00:00')\\n Timestamp('2016-04-30 00:00:00') Timestamp('2016-05-01 00:00:00')\\n Timestamp('2016-05-02 00:00:00') Timestamp('2016-05-03 00:00:00')\\n Timestamp('2016-05-04 00:00:00') Timestamp('2016-05-05 00:00:00')\\n Timestamp('2016-05-06 00:00:00') Timestamp('2016-05-07 00:00:00')\\n Timestamp('2016-05-08 00:00:00') Timestamp('2016-05-09 00:00:00')\\n Timestamp('2016-05-10 00:00:00') Timestamp('2016-05-11 00:00:00')\\n Timestamp('2016-05-12 00:00:00') Timestamp('2016-04-12 00:00:00')\\n Timestamp('2016-04-13 00:00:00') Timestamp('2016-04-14 00:00:00')\\n Timestamp('2016-04-15 00:00:00') Timestamp('2016-04-16 00:00:00')\\n Timestamp('2016-04-17 00:00:00') Timestamp('2016-04-18 00:00:00')\\n Timestamp('2016-04-19 00:00:00') Timestamp('2016-04-20 00:00:00')\\n Timestamp('2016-04-21 00:00:00') Timestamp('2016-04-22 00:00:00')\\n Timestamp('2016-04-23 00:00:00') Timestamp('2016-04-24 00:00:00')\\n Timestamp('2016-04-25 00:00:00') Timestamp('2016-04-26 00:00:00')\\n Timestamp('2016-04-27 00:00:00') Timestamp('2016-04-28 00:00:00')\\n Timestamp('2016-04-29 00:00:00') Timestamp('2016-04-30 00:00:00')\\n Timestamp('2016-05-01 00:00:00') Timestamp('2016-05-02 00:00:00')\\n Timestamp('2016-05-03 00:00:00') Timestamp('2016-05-04 00:00:00')\\n Timestamp('2016-05-05 00:00:00') Timestamp('2016-05-06 00:00:00')\\n Timestamp('2016-05-07 00:00:00') Timestamp('2016-05-08 00:00:00')\\n Timestamp('2016-05-09 00:00:00') Timestamp('2016-05-10 00:00:00')\\n Timestamp('2016-05-11 00:00:00') Timestamp('2016-05-12 00:00:00')\\n Timestamp('2016-04-12 00:00:00') Timestamp('2016-04-13 00:00:00')\\n Timestamp('2016-04-14 00:00:00') Timestamp('2016-04-15 00:00:00')\\n Timestamp('2016-04-16 00:00:00') Timestamp('2016-04-17 00:00:00')\\n Timestamp('2016-04-18 00:00:00') Timestamp('2016-04-19 00:00:00')\\n Timestamp('2016-04-20 00:00:00') Timestamp('2016-04-21 00:00:00')\\n Timestamp('2016-04-22 00:00:00') Timestamp('2016-04-23 00:00:00')\\n Timestamp('2016-04-24 00:00:00') Timestamp('2016-04-25 00:00:00')\\n Timestamp('2016-04-26 00:00:00') Timestamp('2016-04-27 00:00:00')\\n Timestamp('2016-04-28 00:00:00') Timestamp('2016-04-29 00:00:00')\\n Timestamp('2016-04-30 00:00:00') Timestamp('2016-05-01 00:00:00')\\n Timestamp('2016-05-02 00:00:00') Timestamp('2016-05-03 00:00:00')\\n Timestamp('2016-05-04 00:00:00') Timestamp('2016-05-05 00:00:00')\\n Timestamp('2016-05-06 00:00:00') Timestamp('2016-05-07 00:00:00')\\n Timestamp('2016-05-08 00:00:00') Timestamp('2016-05-09 00:00:00')\\n Timestamp('2016-05-10 00:00:00') Timestamp('2016-05-11 00:00:00')\\n Timestamp('2016-05-12 00:00:00') Timestamp('2016-04-12 00:00:00')\\n Timestamp('2016-04-13 00:00:00') Timestamp('2016-04-14 00:00:00')\\n Timestamp('2016-04-15 00:00:00') Timestamp('2016-04-16 00:00:00')\\n Timestamp('2016-04-17 00:00:00') Timestamp('2016-04-18 00:00:00')\\n Timestamp('2016-04-19 00:00:00') Timestamp('2016-04-20 00:00:00')\\n Timestamp('2016-04-21 00:00:00') Timestamp('2016-04-22 00:00:00')\\n Timestamp('2016-04-23 00:00:00') Timestamp('2016-04-24 00:00:00')\\n Timestamp('2016-04-25 00:00:00') Timestamp('2016-04-26 00:00:00')\\n Timestamp('2016-04-27 00:00:00') Timestamp('2016-04-28 00:00:00')\\n Timestamp('2016-04-29 00:00:00') Timestamp('2016-04-30 00:00:00')\\n Timestamp('2016-05-01 00:00:00') Timestamp('2016-05-02 00:00:00')\\n Timestamp('2016-05-03 00:00:00') Timestamp('2016-05-04 00:00:00')\\n Timestamp('2016-05-05 00:00:00') Timestamp('2016-05-06 00:00:00')\\n Timestamp('2016-05-07 00:00:00') Timestamp('2016-05-08 00:00:00')\\n Timestamp('2016-05-09 00:00:00') Timestamp('2016-05-10 00:00:00')\\n Timestamp('2016-05-11 00:00:00') Timestamp('2016-05-12 00:00:00')\\n Timestamp('2016-04-12 00:00:00') Timestamp('2016-04-13 00:00:00')\\n Timestamp('2016-04-14 00:00:00') Timestamp('2016-04-15 00:00:00')\\n Timestamp('2016-04-16 00:00:00') Timestamp('2016-04-17 00:00:00')\\n Timestamp('2016-04-18 00:00:00') Timestamp('2016-04-19 00:00:00')\\n Timestamp('2016-04-20 00:00:00') Timestamp('2016-04-21 00:00:00')\\n Timestamp('2016-04-22 00:00:00') Timestamp('2016-04-23 00:00:00')\\n Timestamp('2016-04-24 00:00:00') Timestamp('2016-04-25 00:00:00')\\n Timestamp('2016-04-26 00:00:00') Timestamp('2016-04-27 00:00:00')\\n Timestamp('2016-04-28 00:00:00') Timestamp('2016-04-29 00:00:00')\\n Timestamp('2016-04-30 00:00:00') Timestamp('2016-05-01 00:00:00')\\n Timestamp('2016-05-02 00:00:00') Timestamp('2016-05-03 00:00:00')\\n Timestamp('2016-05-04 00:00:00') Timestamp('2016-05-05 00:00:00')\\n Timestamp('2016-05-06 00:00:00') Timestamp('2016-05-07 00:00:00')\\n Timestamp('2016-05-08 00:00:00') Timestamp('2016-05-09 00:00:00')\\n Timestamp('2016-05-10 00:00:00') Timestamp('2016-05-11 00:00:00')\\n Timestamp('2016-05-12 00:00:00') Timestamp('2016-04-12 00:00:00')\\n Timestamp('2016-04-13 00:00:00') Timestamp('2016-04-14 00:00:00')\\n Timestamp('2016-04-15 00:00:00') Timestamp('2016-04-16 00:00:00')\\n Timestamp('2016-04-17 00:00:00') Timestamp('2016-04-18 00:00:00')\\n Timestamp('2016-04-19 00:00:00') Timestamp('2016-04-20 00:00:00')\\n Timestamp('2016-04-21 00:00:00') Timestamp('2016-04-22 00:00:00')\\n Timestamp('2016-04-23 00:00:00') Timestamp('2016-04-24 00:00:00')\\n Timestamp('2016-04-25 00:00:00') Timestamp('2016-04-26 00:00:00')\\n Timestamp('2016-04-27 00:00:00') Timestamp('2016-04-28 00:00:00')\\n Timestamp('2016-04-29 00:00:00') Timestamp('2016-04-12 00:00:00')\\n Timestamp('2016-04-13 00:00:00') Timestamp('2016-04-14 00:00:00')\\n Timestamp('2016-04-15 00:00:00') Timestamp('2016-04-16 00:00:00')\\n Timestamp('2016-04-17 00:00:00') Timestamp('2016-04-18 00:00:00')\\n Timestamp('2016-04-19 00:00:00') Timestamp('2016-04-20 00:00:00')\\n Timestamp('2016-04-21 00:00:00') Timestamp('2016-04-22 00:00:00')\\n Timestamp('2016-04-23 00:00:00') Timestamp('2016-04-24 00:00:00')\\n Timestamp('2016-04-25 00:00:00') Timestamp('2016-04-26 00:00:00')\\n Timestamp('2016-04-27 00:00:00') Timestamp('2016-04-28 00:00:00')\\n Timestamp('2016-04-29 00:00:00') Timestamp('2016-04-30 00:00:00')\\n Timestamp('2016-05-01 00:00:00') Timestamp('2016-05-02 00:00:00')\\n Timestamp('2016-05-03 00:00:00') Timestamp('2016-05-04 00:00:00')\\n Timestamp('2016-05-05 00:00:00') Timestamp('2016-05-06 00:00:00')\\n Timestamp('2016-05-07 00:00:00') Timestamp('2016-05-08 00:00:00')\\n Timestamp('2016-05-09 00:00:00') Timestamp('2016-05-10 00:00:00')\\n Timestamp('2016-05-11 00:00:00') Timestamp('2016-05-12 00:00:00')\\n Timestamp('2016-04-12 00:00:00') Timestamp('2016-04-13 00:00:00')\\n Timestamp('2016-04-14 00:00:00') Timestamp('2016-04-15 00:00:00')\\n Timestamp('2016-04-16 00:00:00') Timestamp('2016-04-17 00:00:00')\\n Timestamp('2016-04-18 00:00:00') Timestamp('2016-04-19 00:00:00')\\n Timestamp('2016-04-20 00:00:00') Timestamp('2016-04-21 00:00:00')\\n Timestamp('2016-04-22 00:00:00') Timestamp('2016-04-23 00:00:00')\\n Timestamp('2016-04-24 00:00:00') Timestamp('2016-04-25 00:00:00')\\n Timestamp('2016-04-26 00:00:00') Timestamp('2016-04-27 00:00:00')\\n Timestamp('2016-04-28 00:00:00') Timestamp('2016-04-29 00:00:00')\\n Timestamp('2016-04-30 00:00:00') Timestamp('2016-05-01 00:00:00')\\n Timestamp('2016-04-12 00:00:00') Timestamp('2016-04-13 00:00:00')\\n Timestamp('2016-04-14 00:00:00') Timestamp('2016-04-15 00:00:00')\\n Timestamp('2016-04-16 00:00:00') Timestamp('2016-04-17 00:00:00')\\n Timestamp('2016-04-18 00:00:00') Timestamp('2016-04-19 00:00:00')\\n Timestamp('2016-04-20 00:00:00') Timestamp('2016-04-21 00:00:00')\\n Timestamp('2016-04-22 00:00:00') Timestamp('2016-04-23 00:00:00')\\n Timestamp('2016-04-24 00:00:00') Timestamp('2016-04-25 00:00:00')\\n Timestamp('2016-04-26 00:00:00') Timestamp('2016-04-27 00:00:00')\\n Timestamp('2016-04-28 00:00:00') Timestamp('2016-04-29 00:00:00')\\n Timestamp('2016-04-30 00:00:00') Timestamp('2016-05-01 00:00:00')\\n Timestamp('2016-05-02 00:00:00') Timestamp('2016-05-03 00:00:00')\\n Timestamp('2016-05-04 00:00:00') Timestamp('2016-05-05 00:00:00')\\n Timestamp('2016-05-06 00:00:00') Timestamp('2016-05-07 00:00:00')\\n Timestamp('2016-05-08 00:00:00') Timestamp('2016-05-09 00:00:00')\\n Timestamp('2016-05-10 00:00:00') Timestamp('2016-05-11 00:00:00')\\n Timestamp('2016-04-12 00:00:00') Timestamp('2016-04-13 00:00:00')\\n Timestamp('2016-04-14 00:00:00') Timestamp('2016-04-15 00:00:00')\\n Timestamp('2016-04-16 00:00:00') Timestamp('2016-04-17 00:00:00')\\n Timestamp('2016-04-18 00:00:00') Timestamp('2016-04-19 00:00:00')\\n Timestamp('2016-04-20 00:00:00') Timestamp('2016-04-21 00:00:00')\\n Timestamp('2016-04-22 00:00:00') Timestamp('2016-04-23 00:00:00')\\n Timestamp('2016-04-24 00:00:00') Timestamp('2016-04-25 00:00:00')\\n Timestamp('2016-04-26 00:00:00') Timestamp('2016-04-27 00:00:00')\\n Timestamp('2016-04-28 00:00:00') Timestamp('2016-04-29 00:00:00')\\n Timestamp('2016-04-30 00:00:00') Timestamp('2016-05-01 00:00:00')\\n Timestamp('2016-05-02 00:00:00') Timestamp('2016-05-03 00:00:00')\\n Timestamp('2016-05-04 00:00:00') Timestamp('2016-05-05 00:00:00')\\n Timestamp('2016-05-06 00:00:00') Timestamp('2016-05-07 00:00:00')\\n Timestamp('2016-05-08 00:00:00') Timestamp('2016-05-09 00:00:00')\\n Timestamp('2016-05-10 00:00:00') Timestamp('2016-05-11 00:00:00')\\n Timestamp('2016-05-12 00:00:00') Timestamp('2016-04-12 00:00:00')\\n Timestamp('2016-04-13 00:00:00') Timestamp('2016-04-14 00:00:00')\\n Timestamp('2016-04-15 00:00:00') Timestamp('2016-04-12 00:00:00')\\n Timestamp('2016-04-13 00:00:00') Timestamp('2016-04-14 00:00:00')\\n Timestamp('2016-04-15 00:00:00') Timestamp('2016-04-16 00:00:00')\\n Timestamp('2016-04-17 00:00:00') Timestamp('2016-04-18 00:00:00')\\n Timestamp('2016-04-19 00:00:00') Timestamp('2016-04-20 00:00:00')\\n Timestamp('2016-04-21 00:00:00') Timestamp('2016-04-22 00:00:00')\\n Timestamp('2016-04-23 00:00:00') Timestamp('2016-04-24 00:00:00')\\n Timestamp('2016-04-25 00:00:00') Timestamp('2016-04-26 00:00:00')\\n Timestamp('2016-04-27 00:00:00') Timestamp('2016-04-28 00:00:00')\\n Timestamp('2016-04-29 00:00:00') Timestamp('2016-04-30 00:00:00')\\n Timestamp('2016-05-01 00:00:00') Timestamp('2016-05-02 00:00:00')\\n Timestamp('2016-05-03 00:00:00') Timestamp('2016-05-04 00:00:00')\\n Timestamp('2016-05-05 00:00:00') Timestamp('2016-05-06 00:00:00')\\n Timestamp('2016-05-07 00:00:00') Timestamp('2016-05-08 00:00:00')\\n Timestamp('2016-05-09 00:00:00') Timestamp('2016-05-10 00:00:00')\\n Timestamp('2016-05-11 00:00:00') Timestamp('2016-05-12 00:00:00')\\n Timestamp('2016-04-12 00:00:00') Timestamp('2016-04-13 00:00:00')\\n Timestamp('2016-04-14 00:00:00') Timestamp('2016-04-15 00:00:00')\\n Timestamp('2016-04-16 00:00:00') Timestamp('2016-04-17 00:00:00')\\n Timestamp('2016-04-18 00:00:00') Timestamp('2016-04-19 00:00:00')\\n Timestamp('2016-04-20 00:00:00') Timestamp('2016-04-21 00:00:00')\\n Timestamp('2016-04-22 00:00:00') Timestamp('2016-04-23 00:00:00')\\n Timestamp('2016-04-24 00:00:00') Timestamp('2016-04-25 00:00:00')\\n Timestamp('2016-04-26 00:00:00') Timestamp('2016-04-27 00:00:00')\\n Timestamp('2016-04-28 00:00:00') Timestamp('2016-04-29 00:00:00')\\n Timestamp('2016-04-30 00:00:00') Timestamp('2016-05-01 00:00:00')\\n Timestamp('2016-05-02 00:00:00') Timestamp('2016-05-03 00:00:00')\\n Timestamp('2016-05-04 00:00:00') Timestamp('2016-05-05 00:00:00')\\n Timestamp('2016-05-06 00:00:00') Timestamp('2016-05-07 00:00:00')\\n Timestamp('2016-05-08 00:00:00') Timestamp('2016-05-09 00:00:00')\\n Timestamp('2016-05-10 00:00:00') Timestamp('2016-05-11 00:00:00')\\n Timestamp('2016-05-12 00:00:00') Timestamp('2016-04-12 00:00:00')\\n Timestamp('2016-04-13 00:00:00') Timestamp('2016-04-14 00:00:00')\\n Timestamp('2016-04-15 00:00:00') Timestamp('2016-04-16 00:00:00')\\n Timestamp('2016-04-17 00:00:00') Timestamp('2016-04-18 00:00:00')\\n Timestamp('2016-04-19 00:00:00') Timestamp('2016-04-20 00:00:00')\\n Timestamp('2016-04-21 00:00:00') Timestamp('2016-04-22 00:00:00')\\n Timestamp('2016-04-23 00:00:00') Timestamp('2016-04-24 00:00:00')\\n Timestamp('2016-04-25 00:00:00') Timestamp('2016-04-26 00:00:00')\\n Timestamp('2016-04-27 00:00:00') Timestamp('2016-04-28 00:00:00')\\n Timestamp('2016-04-29 00:00:00') Timestamp('2016-04-30 00:00:00')\\n Timestamp('2016-05-01 00:00:00') Timestamp('2016-05-02 00:00:00')\\n Timestamp('2016-05-03 00:00:00') Timestamp('2016-05-04 00:00:00')\\n Timestamp('2016-05-05 00:00:00') Timestamp('2016-05-06 00:00:00')\\n Timestamp('2016-05-07 00:00:00') Timestamp('2016-05-08 00:00:00')\\n Timestamp('2016-05-09 00:00:00') Timestamp('2016-05-10 00:00:00')\\n Timestamp('2016-05-11 00:00:00') Timestamp('2016-05-12 00:00:00')\\n Timestamp('2016-04-12 00:00:00') Timestamp('2016-04-13 00:00:00')\\n Timestamp('2016-04-14 00:00:00') Timestamp('2016-04-15 00:00:00')\\n Timestamp('2016-04-16 00:00:00') Timestamp('2016-04-17 00:00:00')\\n Timestamp('2016-04-18 00:00:00') Timestamp('2016-04-19 00:00:00')\\n Timestamp('2016-04-20 00:00:00') Timestamp('2016-04-21 00:00:00')\\n Timestamp('2016-04-22 00:00:00') Timestamp('2016-04-23 00:00:00')\\n Timestamp('2016-04-24 00:00:00') Timestamp('2016-04-25 00:00:00')\\n Timestamp('2016-04-26 00:00:00') Timestamp('2016-04-27 00:00:00')\\n Timestamp('2016-04-28 00:00:00') Timestamp('2016-04-29 00:00:00')\\n Timestamp('2016-04-30 00:00:00') Timestamp('2016-05-01 00:00:00')\\n Timestamp('2016-05-02 00:00:00') Timestamp('2016-05-03 00:00:00')\\n Timestamp('2016-05-04 00:00:00') Timestamp('2016-05-05 00:00:00')\\n Timestamp('2016-05-06 00:00:00') Timestamp('2016-05-07 00:00:00')\\n Timestamp('2016-05-08 00:00:00') Timestamp('2016-05-09 00:00:00')\\n Timestamp('2016-05-10 00:00:00') Timestamp('2016-05-11 00:00:00')\\n Timestamp('2016-05-12 00:00:00') Timestamp('2016-04-12 00:00:00')\\n Timestamp('2016-04-13 00:00:00') Timestamp('2016-04-14 00:00:00')\\n Timestamp('2016-04-15 00:00:00') Timestamp('2016-04-16 00:00:00')\\n Timestamp('2016-04-17 00:00:00') Timestamp('2016-04-18 00:00:00')\\n Timestamp('2016-04-19 00:00:00') Timestamp('2016-04-20 00:00:00')\\n Timestamp('2016-04-21 00:00:00') Timestamp('2016-04-22 00:00:00')\\n Timestamp('2016-04-23 00:00:00') Timestamp('2016-04-24 00:00:00')\\n Timestamp('2016-04-25 00:00:00') Timestamp('2016-04-26 00:00:00')\\n Timestamp('2016-04-27 00:00:00') Timestamp('2016-04-28 00:00:00')\\n Timestamp('2016-04-29 00:00:00') Timestamp('2016-04-30 00:00:00')\\n Timestamp('2016-05-01 00:00:00') Timestamp('2016-05-02 00:00:00')\\n Timestamp('2016-05-03 00:00:00') Timestamp('2016-05-04 00:00:00')\\n Timestamp('2016-05-05 00:00:00') Timestamp('2016-05-06 00:00:00')\\n Timestamp('2016-05-07 00:00:00') Timestamp('2016-05-08 00:00:00')\\n Timestamp('2016-05-09 00:00:00') Timestamp('2016-05-10 00:00:00')\\n Timestamp('2016-05-11 00:00:00') Timestamp('2016-05-12 00:00:00')\\n Timestamp('2016-04-12 00:00:00') Timestamp('2016-04-13 00:00:00')\\n Timestamp('2016-04-14 00:00:00') Timestamp('2016-04-15 00:00:00')\\n Timestamp('2016-04-16 00:00:00') Timestamp('2016-04-17 00:00:00')\\n Timestamp('2016-04-18 00:00:00') Timestamp('2016-04-19 00:00:00')\\n Timestamp('2016-04-20 00:00:00') Timestamp('2016-04-21 00:00:00')\\n Timestamp('2016-04-22 00:00:00') Timestamp('2016-04-23 00:00:00')\\n Timestamp('2016-04-24 00:00:00') Timestamp('2016-04-25 00:00:00')\\n Timestamp('2016-04-26 00:00:00') Timestamp('2016-04-27 00:00:00')\\n Timestamp('2016-04-28 00:00:00') Timestamp('2016-04-29 00:00:00')\\n Timestamp('2016-04-30 00:00:00') Timestamp('2016-05-01 00:00:00')\\n Timestamp('2016-05-02 00:00:00') Timestamp('2016-05-03 00:00:00')\\n Timestamp('2016-05-04 00:00:00') Timestamp('2016-05-05 00:00:00')\\n Timestamp('2016-05-06 00:00:00') Timestamp('2016-05-07 00:00:00')\\n Timestamp('2016-05-08 00:00:00') Timestamp('2016-05-09 00:00:00')\\n Timestamp('2016-05-10 00:00:00') Timestamp('2016-05-11 00:00:00')\\n Timestamp('2016-05-12 00:00:00') Timestamp('2016-04-12 00:00:00')\\n Timestamp('2016-04-13 00:00:00') Timestamp('2016-04-14 00:00:00')\\n Timestamp('2016-04-15 00:00:00') Timestamp('2016-04-16 00:00:00')\\n Timestamp('2016-04-17 00:00:00') Timestamp('2016-04-18 00:00:00')\\n Timestamp('2016-04-19 00:00:00') Timestamp('2016-04-20 00:00:00')\\n Timestamp('2016-04-21 00:00:00') Timestamp('2016-04-22 00:00:00')\\n Timestamp('2016-04-23 00:00:00') Timestamp('2016-04-24 00:00:00')\\n Timestamp('2016-04-25 00:00:00') Timestamp('2016-04-26 00:00:00')\\n Timestamp('2016-04-27 00:00:00') Timestamp('2016-04-28 00:00:00')\\n Timestamp('2016-04-29 00:00:00') Timestamp('2016-04-30 00:00:00')\\n Timestamp('2016-05-01 00:00:00') Timestamp('2016-05-02 00:00:00')\\n Timestamp('2016-05-03 00:00:00') Timestamp('2016-05-04 00:00:00')\\n Timestamp('2016-05-05 00:00:00') Timestamp('2016-05-06 00:00:00')\\n Timestamp('2016-05-07 00:00:00') Timestamp('2016-05-08 00:00:00')\\n Timestamp('2016-05-09 00:00:00') Timestamp('2016-05-10 00:00:00')\\n Timestamp('2016-05-11 00:00:00') Timestamp('2016-04-12 00:00:00')\\n Timestamp('2016-04-13 00:00:00') Timestamp('2016-04-14 00:00:00')\\n Timestamp('2016-04-15 00:00:00') Timestamp('2016-04-16 00:00:00')\\n Timestamp('2016-04-17 00:00:00') Timestamp('2016-04-18 00:00:00')\\n Timestamp('2016-04-19 00:00:00') Timestamp('2016-04-20 00:00:00')\\n Timestamp('2016-04-21 00:00:00') Timestamp('2016-04-22 00:00:00')\\n Timestamp('2016-04-23 00:00:00') Timestamp('2016-04-24 00:00:00')\\n Timestamp('2016-04-25 00:00:00') Timestamp('2016-04-26 00:00:00')\\n Timestamp('2016-04-27 00:00:00') Timestamp('2016-04-28 00:00:00')\\n Timestamp('2016-04-29 00:00:00') Timestamp('2016-04-30 00:00:00')\\n Timestamp('2016-05-01 00:00:00') Timestamp('2016-05-02 00:00:00')\\n Timestamp('2016-05-03 00:00:00') Timestamp('2016-05-04 00:00:00')\\n Timestamp('2016-05-05 00:00:00') Timestamp('2016-05-06 00:00:00')\\n Timestamp('2016-05-07 00:00:00') Timestamp('2016-05-08 00:00:00')\\n Timestamp('2016-05-09 00:00:00') Timestamp('2016-04-12 00:00:00')\\n Timestamp('2016-04-13 00:00:00') Timestamp('2016-04-14 00:00:00')\\n Timestamp('2016-04-15 00:00:00') Timestamp('2016-04-16 00:00:00')\\n Timestamp('2016-04-17 00:00:00') Timestamp('2016-04-18 00:00:00')\\n Timestamp('2016-04-19 00:00:00') Timestamp('2016-04-20 00:00:00')\\n Timestamp('2016-04-21 00:00:00') Timestamp('2016-04-22 00:00:00')\\n Timestamp('2016-04-23 00:00:00') Timestamp('2016-04-24 00:00:00')\\n Timestamp('2016-04-25 00:00:00') Timestamp('2016-04-26 00:00:00')\\n Timestamp('2016-04-27 00:00:00') Timestamp('2016-04-28 00:00:00')\\n Timestamp('2016-04-29 00:00:00') Timestamp('2016-04-30 00:00:00')\\n Timestamp('2016-05-01 00:00:00') Timestamp('2016-05-02 00:00:00')\\n Timestamp('2016-05-03 00:00:00') Timestamp('2016-05-04 00:00:00')\\n Timestamp('2016-05-05 00:00:00') Timestamp('2016-05-06 00:00:00')\\n Timestamp('2016-05-07 00:00:00') Timestamp('2016-05-08 00:00:00')\\n Timestamp('2016-05-09 00:00:00') Timestamp('2016-05-10 00:00:00')\\n Timestamp('2016-04-12 00:00:00') Timestamp('2016-04-13 00:00:00')\\n Timestamp('2016-04-14 00:00:00') Timestamp('2016-04-15 00:00:00')\\n Timestamp('2016-04-16 00:00:00') Timestamp('2016-04-17 00:00:00')\\n Timestamp('2016-04-18 00:00:00') Timestamp('2016-04-19 00:00:00')\\n Timestamp('2016-04-20 00:00:00') Timestamp('2016-04-21 00:00:00')\\n Timestamp('2016-04-22 00:00:00') Timestamp('2016-04-23 00:00:00')\\n Timestamp('2016-04-24 00:00:00') Timestamp('2016-04-25 00:00:00')\\n Timestamp('2016-04-26 00:00:00') Timestamp('2016-04-27 00:00:00')\\n Timestamp('2016-04-28 00:00:00') Timestamp('2016-04-29 00:00:00')\\n Timestamp('2016-04-30 00:00:00') Timestamp('2016-05-01 00:00:00')\\n Timestamp('2016-05-02 00:00:00') Timestamp('2016-05-03 00:00:00')\\n Timestamp('2016-05-04 00:00:00') Timestamp('2016-05-05 00:00:00')\\n Timestamp('2016-05-06 00:00:00') Timestamp('2016-05-07 00:00:00')\\n Timestamp('2016-04-12 00:00:00') Timestamp('2016-04-13 00:00:00')\\n Timestamp('2016-04-14 00:00:00') Timestamp('2016-04-15 00:00:00')\\n Timestamp('2016-04-16 00:00:00') Timestamp('2016-04-17 00:00:00')\\n Timestamp('2016-04-18 00:00:00') Timestamp('2016-04-19 00:00:00')\\n Timestamp('2016-04-20 00:00:00') Timestamp('2016-04-21 00:00:00')\\n Timestamp('2016-04-22 00:00:00') Timestamp('2016-04-23 00:00:00')\\n Timestamp('2016-04-24 00:00:00') Timestamp('2016-04-25 00:00:00')\\n Timestamp('2016-04-26 00:00:00') Timestamp('2016-04-27 00:00:00')\\n Timestamp('2016-04-28 00:00:00') Timestamp('2016-04-29 00:00:00')\\n Timestamp('2016-04-30 00:00:00') Timestamp('2016-05-01 00:00:00')\\n Timestamp('2016-05-02 00:00:00') Timestamp('2016-05-03 00:00:00')\\n Timestamp('2016-05-04 00:00:00') Timestamp('2016-05-05 00:00:00')\\n Timestamp('2016-05-06 00:00:00') Timestamp('2016-05-07 00:00:00')\\n Timestamp('2016-05-08 00:00:00') Timestamp('2016-05-09 00:00:00')\\n Timestamp('2016-05-10 00:00:00') Timestamp('2016-05-11 00:00:00')\\n Timestamp('2016-05-12 00:00:00') Timestamp('2016-04-12 00:00:00')\\n Timestamp('2016-04-13 00:00:00') Timestamp('2016-04-14 00:00:00')\\n Timestamp('2016-04-15 00:00:00') Timestamp('2016-04-16 00:00:00')\\n Timestamp('2016-04-17 00:00:00') Timestamp('2016-04-18 00:00:00')\\n Timestamp('2016-04-19 00:00:00') Timestamp('2016-04-20 00:00:00')\\n Timestamp('2016-04-21 00:00:00') Timestamp('2016-04-22 00:00:00')\\n Timestamp('2016-04-23 00:00:00') Timestamp('2016-04-24 00:00:00')\\n Timestamp('2016-04-25 00:00:00') Timestamp('2016-04-26 00:00:00')\\n Timestamp('2016-04-27 00:00:00') Timestamp('2016-04-28 00:00:00')\\n Timestamp('2016-04-29 00:00:00') Timestamp('2016-04-30 00:00:00')\\n Timestamp('2016-05-01 00:00:00') Timestamp('2016-05-02 00:00:00')\\n Timestamp('2016-05-03 00:00:00') Timestamp('2016-05-04 00:00:00')\\n Timestamp('2016-05-05 00:00:00') Timestamp('2016-05-06 00:00:00')\\n Timestamp('2016-05-07 00:00:00') Timestamp('2016-04-12 00:00:00')\\n Timestamp('2016-04-13 00:00:00') Timestamp('2016-04-14 00:00:00')\\n Timestamp('2016-04-15 00:00:00') Timestamp('2016-04-16 00:00:00')\\n Timestamp('2016-04-17 00:00:00') Timestamp('2016-04-18 00:00:00')\\n Timestamp('2016-04-19 00:00:00') Timestamp('2016-04-20 00:00:00')\\n Timestamp('2016-04-21 00:00:00') Timestamp('2016-04-22 00:00:00')\\n Timestamp('2016-04-23 00:00:00') Timestamp('2016-04-24 00:00:00')\\n Timestamp('2016-04-25 00:00:00') Timestamp('2016-04-26 00:00:00')\\n Timestamp('2016-04-27 00:00:00') Timestamp('2016-04-28 00:00:00')\\n Timestamp('2016-04-29 00:00:00') Timestamp('2016-04-30 00:00:00')\\n Timestamp('2016-05-01 00:00:00') Timestamp('2016-05-02 00:00:00')\\n Timestamp('2016-05-03 00:00:00') Timestamp('2016-05-04 00:00:00')\\n Timestamp('2016-05-05 00:00:00') Timestamp('2016-05-06 00:00:00')\\n Timestamp('2016-05-07 00:00:00') Timestamp('2016-05-08 00:00:00')\\n Timestamp('2016-05-09 00:00:00') Timestamp('2016-05-10 00:00:00')\\n Timestamp('2016-05-11 00:00:00') Timestamp('2016-05-12 00:00:00')\\n Timestamp('2016-04-12 00:00:00') Timestamp('2016-04-13 00:00:00')\\n Timestamp('2016-04-14 00:00:00') Timestamp('2016-04-15 00:00:00')\\n Timestamp('2016-04-16 00:00:00') Timestamp('2016-04-17 00:00:00')\\n Timestamp('2016-04-18 00:00:00') Timestamp('2016-04-19 00:00:00')\\n Timestamp('2016-04-20 00:00:00') Timestamp('2016-04-21 00:00:00')\\n Timestamp('2016-04-22 00:00:00') Timestamp('2016-04-23 00:00:00')\\n Timestamp('2016-04-24 00:00:00') Timestamp('2016-04-25 00:00:00')\\n Timestamp('2016-04-26 00:00:00') Timestamp('2016-04-27 00:00:00')\\n Timestamp('2016-04-28 00:00:00') Timestamp('2016-04-29 00:00:00')\\n Timestamp('2016-04-30 00:00:00') Timestamp('2016-05-01 00:00:00')\\n Timestamp('2016-05-02 00:00:00') Timestamp('2016-05-03 00:00:00')\\n Timestamp('2016-05-04 00:00:00') Timestamp('2016-05-05 00:00:00')\\n Timestamp('2016-05-06 00:00:00') Timestamp('2016-05-07 00:00:00')\\n Timestamp('2016-05-08 00:00:00') Timestamp('2016-05-09 00:00:00')\\n Timestamp('2016-05-10 00:00:00') Timestamp('2016-05-11 00:00:00')\\n Timestamp('2016-05-12 00:00:00') Timestamp('2016-04-12 00:00:00')\\n Timestamp('2016-04-13 00:00:00') Timestamp('2016-04-14 00:00:00')\\n Timestamp('2016-04-15 00:00:00') Timestamp('2016-04-16 00:00:00')\\n Timestamp('2016-04-17 00:00:00') Timestamp('2016-04-18 00:00:00')\\n Timestamp('2016-04-19 00:00:00') Timestamp('2016-04-20 00:00:00')\\n Timestamp('2016-04-21 00:00:00') Timestamp('2016-04-22 00:00:00')\\n Timestamp('2016-04-23 00:00:00') Timestamp('2016-04-24 00:00:00')\\n Timestamp('2016-04-25 00:00:00') Timestamp('2016-04-26 00:00:00')\\n Timestamp('2016-04-27 00:00:00') Timestamp('2016-04-28 00:00:00')\\n Timestamp('2016-04-29 00:00:00') Timestamp('2016-04-30 00:00:00')\\n Timestamp('2016-04-12 00:00:00') Timestamp('2016-04-13 00:00:00')\\n Timestamp('2016-04-14 00:00:00') Timestamp('2016-04-15 00:00:00')\\n Timestamp('2016-04-16 00:00:00') Timestamp('2016-04-17 00:00:00')\\n Timestamp('2016-04-18 00:00:00') Timestamp('2016-04-19 00:00:00')\\n Timestamp('2016-04-20 00:00:00') Timestamp('2016-04-21 00:00:00')\\n Timestamp('2016-04-22 00:00:00') Timestamp('2016-04-23 00:00:00')\\n Timestamp('2016-04-24 00:00:00') Timestamp('2016-04-25 00:00:00')\\n Timestamp('2016-04-26 00:00:00') Timestamp('2016-04-27 00:00:00')\\n Timestamp('2016-04-28 00:00:00') Timestamp('2016-04-29 00:00:00')\\n Timestamp('2016-04-30 00:00:00') Timestamp('2016-05-01 00:00:00')\\n Timestamp('2016-05-02 00:00:00') Timestamp('2016-05-03 00:00:00')\\n Timestamp('2016-05-04 00:00:00') Timestamp('2016-05-05 00:00:00')\\n Timestamp('2016-05-06 00:00:00') Timestamp('2016-05-07 00:00:00')\\n Timestamp('2016-05-08 00:00:00') Timestamp('2016-05-09 00:00:00')\\n Timestamp('2016-05-10 00:00:00') Timestamp('2016-05-11 00:00:00')\\n Timestamp('2016-05-12 00:00:00') Timestamp('2016-04-12 00:00:00')\\n Timestamp('2016-04-13 00:00:00') Timestamp('2016-04-14 00:00:00')\\n Timestamp('2016-04-15 00:00:00') Timestamp('2016-04-16 00:00:00')\\n Timestamp('2016-04-17 00:00:00') Timestamp('2016-04-18 00:00:00')\\n Timestamp('2016-04-19 00:00:00') Timestamp('2016-04-20 00:00:00')\\n Timestamp('2016-04-21 00:00:00') Timestamp('2016-04-22 00:00:00')\\n Timestamp('2016-04-23 00:00:00') Timestamp('2016-04-24 00:00:00')\\n Timestamp('2016-04-25 00:00:00') Timestamp('2016-04-26 00:00:00')\\n Timestamp('2016-04-27 00:00:00') Timestamp('2016-04-28 00:00:00')\\n Timestamp('2016-04-29 00:00:00') Timestamp('2016-04-30 00:00:00')\\n Timestamp('2016-05-01 00:00:00') Timestamp('2016-05-02 00:00:00')\\n Timestamp('2016-05-03 00:00:00') Timestamp('2016-05-04 00:00:00')\\n Timestamp('2016-05-05 00:00:00') Timestamp('2016-05-06 00:00:00')\\n Timestamp('2016-05-07 00:00:00') Timestamp('2016-05-08 00:00:00')\\n Timestamp('2016-05-09 00:00:00') Timestamp('2016-05-10 00:00:00')\\n Timestamp('2016-05-11 00:00:00') Timestamp('2016-05-12 00:00:00')\\n Timestamp('2016-04-12 00:00:00') Timestamp('2016-04-13 00:00:00')\\n Timestamp('2016-04-14 00:00:00') Timestamp('2016-04-15 00:00:00')\\n Timestamp('2016-04-16 00:00:00') Timestamp('2016-04-17 00:00:00')\\n Timestamp('2016-04-18 00:00:00') Timestamp('2016-04-19 00:00:00')\\n Timestamp('2016-04-20 00:00:00') Timestamp('2016-04-21 00:00:00')\\n Timestamp('2016-04-22 00:00:00') Timestamp('2016-04-23 00:00:00')\\n Timestamp('2016-04-24 00:00:00') Timestamp('2016-04-25 00:00:00')\\n Timestamp('2016-04-26 00:00:00') Timestamp('2016-04-27 00:00:00')\\n Timestamp('2016-04-28 00:00:00') Timestamp('2016-04-29 00:00:00')\\n Timestamp('2016-04-30 00:00:00') Timestamp('2016-05-01 00:00:00')\\n Timestamp('2016-05-02 00:00:00') Timestamp('2016-05-03 00:00:00')\\n Timestamp('2016-05-04 00:00:00') Timestamp('2016-05-05 00:00:00')\\n Timestamp('2016-05-06 00:00:00') Timestamp('2016-05-07 00:00:00')\\n Timestamp('2016-05-08 00:00:00') Timestamp('2016-05-09 00:00:00')\\n Timestamp('2016-05-10 00:00:00') Timestamp('2016-04-12 00:00:00')\\n Timestamp('2016-04-13 00:00:00') Timestamp('2016-04-14 00:00:00')\\n Timestamp('2016-04-15 00:00:00') Timestamp('2016-04-16 00:00:00')\\n Timestamp('2016-04-17 00:00:00') Timestamp('2016-04-18 00:00:00')\\n Timestamp('2016-04-19 00:00:00') Timestamp('2016-04-20 00:00:00')\\n Timestamp('2016-04-21 00:00:00') Timestamp('2016-04-22 00:00:00')\\n Timestamp('2016-04-23 00:00:00') Timestamp('2016-04-24 00:00:00')\\n Timestamp('2016-04-25 00:00:00') Timestamp('2016-04-26 00:00:00')\\n Timestamp('2016-04-27 00:00:00') Timestamp('2016-04-28 00:00:00')\\n Timestamp('2016-04-29 00:00:00') Timestamp('2016-04-30 00:00:00')\\n Timestamp('2016-05-01 00:00:00') Timestamp('2016-05-02 00:00:00')\\n Timestamp('2016-05-03 00:00:00') Timestamp('2016-05-04 00:00:00')\\n Timestamp('2016-05-05 00:00:00') Timestamp('2016-05-06 00:00:00')\\n Timestamp('2016-05-07 00:00:00') Timestamp('2016-05-08 00:00:00')\\n Timestamp('2016-05-09 00:00:00') Timestamp('2016-05-10 00:00:00')\\n Timestamp('2016-05-11 00:00:00') Timestamp('2016-05-12 00:00:00')] not found in axis\"",
     "output_type": "error",
     "traceback": [
      "\u001b[1;31m---------------------------------------------------------------------------\u001b[0m",
      "\u001b[1;31mKeyError\u001b[0m                                  Traceback (most recent call last)",
      "\u001b[1;32m<ipython-input-77-19e8f916fc87>\u001b[0m in \u001b[0;36m<module>\u001b[1;34m\u001b[0m\n\u001b[0;32m      2\u001b[0m \u001b[1;32mfrom\u001b[0m \u001b[0mstatsmodels\u001b[0m\u001b[1;33m.\u001b[0m\u001b[0mstats\u001b[0m\u001b[1;33m.\u001b[0m\u001b[0mdiagnostic\u001b[0m \u001b[1;32mimport\u001b[0m \u001b[0mhet_white\u001b[0m\u001b[1;33m,\u001b[0m \u001b[0mhet_breuschpagan\u001b[0m\u001b[1;33m\u001b[0m\u001b[1;33m\u001b[0m\u001b[0m\n\u001b[0;32m      3\u001b[0m \u001b[0mpooled_OLS_dataset\u001b[0m \u001b[1;33m=\u001b[0m \u001b[0mpd\u001b[0m\u001b[1;33m.\u001b[0m\u001b[0mconcat\u001b[0m\u001b[1;33m(\u001b[0m\u001b[1;33m[\u001b[0m\u001b[0mdf\u001b[0m\u001b[1;33m,\u001b[0m \u001b[0mresiduals_pooled_OLS\u001b[0m\u001b[1;33m]\u001b[0m\u001b[1;33m,\u001b[0m \u001b[0maxis\u001b[0m\u001b[1;33m=\u001b[0m\u001b[1;36m1\u001b[0m\u001b[1;33m)\u001b[0m\u001b[1;33m\u001b[0m\u001b[1;33m\u001b[0m\u001b[0m\n\u001b[1;32m----> 4\u001b[1;33m \u001b[0mpooled_OLS_dataset\u001b[0m \u001b[1;33m=\u001b[0m \u001b[0mpooled_OLS_dataset\u001b[0m\u001b[1;33m.\u001b[0m\u001b[0mdrop\u001b[0m\u001b[1;33m(\u001b[0m\u001b[0myear\u001b[0m\u001b[1;33m,\u001b[0m \u001b[0maxis\u001b[0m \u001b[1;33m=\u001b[0m \u001b[1;36m1\u001b[0m\u001b[1;33m)\u001b[0m\u001b[1;33m.\u001b[0m\u001b[0mfillna\u001b[0m\u001b[1;33m(\u001b[0m\u001b[1;36m0\u001b[0m\u001b[1;33m)\u001b[0m\u001b[1;33m\u001b[0m\u001b[1;33m\u001b[0m\u001b[0m\n\u001b[0m\u001b[0;32m      5\u001b[0m \u001b[0mexog\u001b[0m \u001b[1;33m=\u001b[0m \u001b[0msm\u001b[0m\u001b[1;33m.\u001b[0m\u001b[0mtools\u001b[0m\u001b[1;33m.\u001b[0m\u001b[0mtools\u001b[0m\u001b[1;33m.\u001b[0m\u001b[0madd_constant\u001b[0m\u001b[1;33m(\u001b[0m\u001b[0mdataset\u001b[0m\u001b[1;33m[\u001b[0m\u001b[1;34m'Calories_x'\u001b[0m\u001b[1;33m]\u001b[0m\u001b[1;33m)\u001b[0m\u001b[1;33m.\u001b[0m\u001b[0mfillna\u001b[0m\u001b[1;33m(\u001b[0m\u001b[1;36m0\u001b[0m\u001b[1;33m)\u001b[0m\u001b[1;33m\u001b[0m\u001b[1;33m\u001b[0m\u001b[0m\n\u001b[0;32m      6\u001b[0m \u001b[0mwhite_test_results\u001b[0m \u001b[1;33m=\u001b[0m \u001b[0mhet_white\u001b[0m\u001b[1;33m(\u001b[0m\u001b[0mpooled_OLS_dataset\u001b[0m\u001b[1;33m[\u001b[0m\u001b[1;34m'residual'\u001b[0m\u001b[1;33m]\u001b[0m\u001b[1;33m,\u001b[0m \u001b[0mexog\u001b[0m\u001b[1;33m)\u001b[0m\u001b[1;33m\u001b[0m\u001b[1;33m\u001b[0m\u001b[0m\n",
      "\u001b[1;32mC:\\ProgramData\\Anaconda3\\lib\\site-packages\\pandas\\core\\frame.py\u001b[0m in \u001b[0;36mdrop\u001b[1;34m(self, labels, axis, index, columns, level, inplace, errors)\u001b[0m\n\u001b[0;32m   4161\u001b[0m                 \u001b[0mweight\u001b[0m  \u001b[1;36m1.0\u001b[0m     \u001b[1;36m0.8\u001b[0m\u001b[1;33m\u001b[0m\u001b[1;33m\u001b[0m\u001b[0m\n\u001b[0;32m   4162\u001b[0m         \"\"\"\n\u001b[1;32m-> 4163\u001b[1;33m         return super().drop(\n\u001b[0m\u001b[0;32m   4164\u001b[0m             \u001b[0mlabels\u001b[0m\u001b[1;33m=\u001b[0m\u001b[0mlabels\u001b[0m\u001b[1;33m,\u001b[0m\u001b[1;33m\u001b[0m\u001b[1;33m\u001b[0m\u001b[0m\n\u001b[0;32m   4165\u001b[0m             \u001b[0maxis\u001b[0m\u001b[1;33m=\u001b[0m\u001b[0maxis\u001b[0m\u001b[1;33m,\u001b[0m\u001b[1;33m\u001b[0m\u001b[1;33m\u001b[0m\u001b[0m\n",
      "\u001b[1;32mC:\\ProgramData\\Anaconda3\\lib\\site-packages\\pandas\\core\\generic.py\u001b[0m in \u001b[0;36mdrop\u001b[1;34m(self, labels, axis, index, columns, level, inplace, errors)\u001b[0m\n\u001b[0;32m   3885\u001b[0m         \u001b[1;32mfor\u001b[0m \u001b[0maxis\u001b[0m\u001b[1;33m,\u001b[0m \u001b[0mlabels\u001b[0m \u001b[1;32min\u001b[0m \u001b[0maxes\u001b[0m\u001b[1;33m.\u001b[0m\u001b[0mitems\u001b[0m\u001b[1;33m(\u001b[0m\u001b[1;33m)\u001b[0m\u001b[1;33m:\u001b[0m\u001b[1;33m\u001b[0m\u001b[1;33m\u001b[0m\u001b[0m\n\u001b[0;32m   3886\u001b[0m             \u001b[1;32mif\u001b[0m \u001b[0mlabels\u001b[0m \u001b[1;32mis\u001b[0m \u001b[1;32mnot\u001b[0m \u001b[1;32mNone\u001b[0m\u001b[1;33m:\u001b[0m\u001b[1;33m\u001b[0m\u001b[1;33m\u001b[0m\u001b[0m\n\u001b[1;32m-> 3887\u001b[1;33m                 \u001b[0mobj\u001b[0m \u001b[1;33m=\u001b[0m \u001b[0mobj\u001b[0m\u001b[1;33m.\u001b[0m\u001b[0m_drop_axis\u001b[0m\u001b[1;33m(\u001b[0m\u001b[0mlabels\u001b[0m\u001b[1;33m,\u001b[0m \u001b[0maxis\u001b[0m\u001b[1;33m,\u001b[0m \u001b[0mlevel\u001b[0m\u001b[1;33m=\u001b[0m\u001b[0mlevel\u001b[0m\u001b[1;33m,\u001b[0m \u001b[0merrors\u001b[0m\u001b[1;33m=\u001b[0m\u001b[0merrors\u001b[0m\u001b[1;33m)\u001b[0m\u001b[1;33m\u001b[0m\u001b[1;33m\u001b[0m\u001b[0m\n\u001b[0m\u001b[0;32m   3888\u001b[0m \u001b[1;33m\u001b[0m\u001b[0m\n\u001b[0;32m   3889\u001b[0m         \u001b[1;32mif\u001b[0m \u001b[0minplace\u001b[0m\u001b[1;33m:\u001b[0m\u001b[1;33m\u001b[0m\u001b[1;33m\u001b[0m\u001b[0m\n",
      "\u001b[1;32mC:\\ProgramData\\Anaconda3\\lib\\site-packages\\pandas\\core\\generic.py\u001b[0m in \u001b[0;36m_drop_axis\u001b[1;34m(self, labels, axis, level, errors)\u001b[0m\n\u001b[0;32m   3919\u001b[0m                 \u001b[0mnew_axis\u001b[0m \u001b[1;33m=\u001b[0m \u001b[0maxis\u001b[0m\u001b[1;33m.\u001b[0m\u001b[0mdrop\u001b[0m\u001b[1;33m(\u001b[0m\u001b[0mlabels\u001b[0m\u001b[1;33m,\u001b[0m \u001b[0mlevel\u001b[0m\u001b[1;33m=\u001b[0m\u001b[0mlevel\u001b[0m\u001b[1;33m,\u001b[0m \u001b[0merrors\u001b[0m\u001b[1;33m=\u001b[0m\u001b[0merrors\u001b[0m\u001b[1;33m)\u001b[0m\u001b[1;33m\u001b[0m\u001b[1;33m\u001b[0m\u001b[0m\n\u001b[0;32m   3920\u001b[0m             \u001b[1;32melse\u001b[0m\u001b[1;33m:\u001b[0m\u001b[1;33m\u001b[0m\u001b[1;33m\u001b[0m\u001b[0m\n\u001b[1;32m-> 3921\u001b[1;33m                 \u001b[0mnew_axis\u001b[0m \u001b[1;33m=\u001b[0m \u001b[0maxis\u001b[0m\u001b[1;33m.\u001b[0m\u001b[0mdrop\u001b[0m\u001b[1;33m(\u001b[0m\u001b[0mlabels\u001b[0m\u001b[1;33m,\u001b[0m \u001b[0merrors\u001b[0m\u001b[1;33m=\u001b[0m\u001b[0merrors\u001b[0m\u001b[1;33m)\u001b[0m\u001b[1;33m\u001b[0m\u001b[1;33m\u001b[0m\u001b[0m\n\u001b[0m\u001b[0;32m   3922\u001b[0m             \u001b[0mresult\u001b[0m \u001b[1;33m=\u001b[0m \u001b[0mself\u001b[0m\u001b[1;33m.\u001b[0m\u001b[0mreindex\u001b[0m\u001b[1;33m(\u001b[0m\u001b[1;33m**\u001b[0m\u001b[1;33m{\u001b[0m\u001b[0maxis_name\u001b[0m\u001b[1;33m:\u001b[0m \u001b[0mnew_axis\u001b[0m\u001b[1;33m}\u001b[0m\u001b[1;33m)\u001b[0m\u001b[1;33m\u001b[0m\u001b[1;33m\u001b[0m\u001b[0m\n\u001b[0;32m   3923\u001b[0m \u001b[1;33m\u001b[0m\u001b[0m\n",
      "\u001b[1;32mC:\\ProgramData\\Anaconda3\\lib\\site-packages\\pandas\\core\\indexes\\base.py\u001b[0m in \u001b[0;36mdrop\u001b[1;34m(self, labels, errors)\u001b[0m\n\u001b[0;32m   5280\u001b[0m         \u001b[1;32mif\u001b[0m \u001b[0mmask\u001b[0m\u001b[1;33m.\u001b[0m\u001b[0many\u001b[0m\u001b[1;33m(\u001b[0m\u001b[1;33m)\u001b[0m\u001b[1;33m:\u001b[0m\u001b[1;33m\u001b[0m\u001b[1;33m\u001b[0m\u001b[0m\n\u001b[0;32m   5281\u001b[0m             \u001b[1;32mif\u001b[0m \u001b[0merrors\u001b[0m \u001b[1;33m!=\u001b[0m \u001b[1;34m\"ignore\"\u001b[0m\u001b[1;33m:\u001b[0m\u001b[1;33m\u001b[0m\u001b[1;33m\u001b[0m\u001b[0m\n\u001b[1;32m-> 5282\u001b[1;33m                 \u001b[1;32mraise\u001b[0m \u001b[0mKeyError\u001b[0m\u001b[1;33m(\u001b[0m\u001b[1;34mf\"{labels[mask]} not found in axis\"\u001b[0m\u001b[1;33m)\u001b[0m\u001b[1;33m\u001b[0m\u001b[1;33m\u001b[0m\u001b[0m\n\u001b[0m\u001b[0;32m   5283\u001b[0m             \u001b[0mindexer\u001b[0m \u001b[1;33m=\u001b[0m \u001b[0mindexer\u001b[0m\u001b[1;33m[\u001b[0m\u001b[1;33m~\u001b[0m\u001b[0mmask\u001b[0m\u001b[1;33m]\u001b[0m\u001b[1;33m\u001b[0m\u001b[1;33m\u001b[0m\u001b[0m\n\u001b[0;32m   5284\u001b[0m         \u001b[1;32mreturn\u001b[0m \u001b[0mself\u001b[0m\u001b[1;33m.\u001b[0m\u001b[0mdelete\u001b[0m\u001b[1;33m(\u001b[0m\u001b[0mindexer\u001b[0m\u001b[1;33m)\u001b[0m\u001b[1;33m\u001b[0m\u001b[1;33m\u001b[0m\u001b[0m\n",
      "\u001b[1;31mKeyError\u001b[0m: \"[Timestamp('2016-04-12 00:00:00') Timestamp('2016-04-13 00:00:00')\\n Timestamp('2016-04-14 00:00:00') Timestamp('2016-04-15 00:00:00')\\n Timestamp('2016-04-16 00:00:00') Timestamp('2016-04-17 00:00:00')\\n Timestamp('2016-04-18 00:00:00') Timestamp('2016-04-19 00:00:00')\\n Timestamp('2016-04-20 00:00:00') Timestamp('2016-04-21 00:00:00')\\n Timestamp('2016-04-22 00:00:00') Timestamp('2016-04-23 00:00:00')\\n Timestamp('2016-04-24 00:00:00') Timestamp('2016-04-25 00:00:00')\\n Timestamp('2016-04-26 00:00:00') Timestamp('2016-04-27 00:00:00')\\n Timestamp('2016-04-28 00:00:00') Timestamp('2016-04-29 00:00:00')\\n Timestamp('2016-04-30 00:00:00') Timestamp('2016-05-01 00:00:00')\\n Timestamp('2016-05-02 00:00:00') Timestamp('2016-05-03 00:00:00')\\n Timestamp('2016-05-04 00:00:00') Timestamp('2016-05-05 00:00:00')\\n Timestamp('2016-05-06 00:00:00') Timestamp('2016-05-07 00:00:00')\\n Timestamp('2016-05-08 00:00:00') Timestamp('2016-05-09 00:00:00')\\n Timestamp('2016-05-10 00:00:00') Timestamp('2016-05-11 00:00:00')\\n Timestamp('2016-05-12 00:00:00') Timestamp('2016-04-12 00:00:00')\\n Timestamp('2016-04-13 00:00:00') Timestamp('2016-04-14 00:00:00')\\n Timestamp('2016-04-15 00:00:00') Timestamp('2016-04-16 00:00:00')\\n Timestamp('2016-04-17 00:00:00') Timestamp('2016-04-18 00:00:00')\\n Timestamp('2016-04-19 00:00:00') Timestamp('2016-04-20 00:00:00')\\n Timestamp('2016-04-21 00:00:00') Timestamp('2016-04-22 00:00:00')\\n Timestamp('2016-04-23 00:00:00') Timestamp('2016-04-24 00:00:00')\\n Timestamp('2016-04-25 00:00:00') Timestamp('2016-04-26 00:00:00')\\n Timestamp('2016-04-27 00:00:00') Timestamp('2016-04-28 00:00:00')\\n Timestamp('2016-04-29 00:00:00') Timestamp('2016-04-30 00:00:00')\\n Timestamp('2016-05-01 00:00:00') Timestamp('2016-05-02 00:00:00')\\n Timestamp('2016-05-03 00:00:00') Timestamp('2016-05-04 00:00:00')\\n Timestamp('2016-05-05 00:00:00') Timestamp('2016-05-06 00:00:00')\\n Timestamp('2016-05-07 00:00:00') Timestamp('2016-05-08 00:00:00')\\n Timestamp('2016-05-09 00:00:00') Timestamp('2016-05-10 00:00:00')\\n Timestamp('2016-05-11 00:00:00') Timestamp('2016-05-12 00:00:00')\\n Timestamp('2016-04-12 00:00:00') Timestamp('2016-04-13 00:00:00')\\n Timestamp('2016-04-14 00:00:00') Timestamp('2016-04-15 00:00:00')\\n Timestamp('2016-04-16 00:00:00') Timestamp('2016-04-17 00:00:00')\\n Timestamp('2016-04-18 00:00:00') Timestamp('2016-04-19 00:00:00')\\n Timestamp('2016-04-20 00:00:00') Timestamp('2016-04-21 00:00:00')\\n Timestamp('2016-04-22 00:00:00') Timestamp('2016-04-23 00:00:00')\\n Timestamp('2016-04-24 00:00:00') Timestamp('2016-04-25 00:00:00')\\n Timestamp('2016-04-26 00:00:00') Timestamp('2016-04-27 00:00:00')\\n Timestamp('2016-04-28 00:00:00') Timestamp('2016-04-29 00:00:00')\\n Timestamp('2016-04-30 00:00:00') Timestamp('2016-05-01 00:00:00')\\n Timestamp('2016-05-02 00:00:00') Timestamp('2016-05-03 00:00:00')\\n Timestamp('2016-05-04 00:00:00') Timestamp('2016-05-05 00:00:00')\\n Timestamp('2016-05-06 00:00:00') Timestamp('2016-05-07 00:00:00')\\n Timestamp('2016-05-08 00:00:00') Timestamp('2016-05-09 00:00:00')\\n Timestamp('2016-05-10 00:00:00') Timestamp('2016-05-11 00:00:00')\\n Timestamp('2016-04-12 00:00:00') Timestamp('2016-04-13 00:00:00')\\n Timestamp('2016-04-14 00:00:00') Timestamp('2016-04-15 00:00:00')\\n Timestamp('2016-04-16 00:00:00') Timestamp('2016-04-17 00:00:00')\\n Timestamp('2016-04-18 00:00:00') Timestamp('2016-04-19 00:00:00')\\n Timestamp('2016-04-20 00:00:00') Timestamp('2016-04-21 00:00:00')\\n Timestamp('2016-04-22 00:00:00') Timestamp('2016-04-23 00:00:00')\\n Timestamp('2016-04-24 00:00:00') Timestamp('2016-04-25 00:00:00')\\n Timestamp('2016-04-26 00:00:00') Timestamp('2016-04-27 00:00:00')\\n Timestamp('2016-04-28 00:00:00') Timestamp('2016-04-29 00:00:00')\\n Timestamp('2016-04-30 00:00:00') Timestamp('2016-05-01 00:00:00')\\n Timestamp('2016-05-02 00:00:00') Timestamp('2016-05-03 00:00:00')\\n Timestamp('2016-05-04 00:00:00') Timestamp('2016-05-05 00:00:00')\\n Timestamp('2016-05-06 00:00:00') Timestamp('2016-05-07 00:00:00')\\n Timestamp('2016-05-08 00:00:00') Timestamp('2016-05-09 00:00:00')\\n Timestamp('2016-05-10 00:00:00') Timestamp('2016-05-11 00:00:00')\\n Timestamp('2016-05-12 00:00:00') Timestamp('2016-04-12 00:00:00')\\n Timestamp('2016-04-13 00:00:00') Timestamp('2016-04-14 00:00:00')\\n Timestamp('2016-04-15 00:00:00') Timestamp('2016-04-16 00:00:00')\\n Timestamp('2016-04-17 00:00:00') Timestamp('2016-04-18 00:00:00')\\n Timestamp('2016-04-19 00:00:00') Timestamp('2016-04-20 00:00:00')\\n Timestamp('2016-04-21 00:00:00') Timestamp('2016-04-22 00:00:00')\\n Timestamp('2016-04-23 00:00:00') Timestamp('2016-04-24 00:00:00')\\n Timestamp('2016-04-25 00:00:00') Timestamp('2016-04-26 00:00:00')\\n Timestamp('2016-04-27 00:00:00') Timestamp('2016-04-28 00:00:00')\\n Timestamp('2016-04-29 00:00:00') Timestamp('2016-04-30 00:00:00')\\n Timestamp('2016-05-01 00:00:00') Timestamp('2016-05-02 00:00:00')\\n Timestamp('2016-05-03 00:00:00') Timestamp('2016-05-04 00:00:00')\\n Timestamp('2016-05-05 00:00:00') Timestamp('2016-05-06 00:00:00')\\n Timestamp('2016-05-07 00:00:00') Timestamp('2016-05-08 00:00:00')\\n Timestamp('2016-05-09 00:00:00') Timestamp('2016-05-10 00:00:00')\\n Timestamp('2016-05-11 00:00:00') Timestamp('2016-05-12 00:00:00')\\n Timestamp('2016-04-12 00:00:00') Timestamp('2016-04-13 00:00:00')\\n Timestamp('2016-04-14 00:00:00') Timestamp('2016-04-15 00:00:00')\\n Timestamp('2016-04-16 00:00:00') Timestamp('2016-04-17 00:00:00')\\n Timestamp('2016-04-18 00:00:00') Timestamp('2016-04-19 00:00:00')\\n Timestamp('2016-04-20 00:00:00') Timestamp('2016-04-21 00:00:00')\\n Timestamp('2016-04-22 00:00:00') Timestamp('2016-04-23 00:00:00')\\n Timestamp('2016-04-24 00:00:00') Timestamp('2016-04-25 00:00:00')\\n Timestamp('2016-04-26 00:00:00') Timestamp('2016-04-27 00:00:00')\\n Timestamp('2016-04-28 00:00:00') Timestamp('2016-04-29 00:00:00')\\n Timestamp('2016-04-30 00:00:00') Timestamp('2016-05-01 00:00:00')\\n Timestamp('2016-05-02 00:00:00') Timestamp('2016-05-03 00:00:00')\\n Timestamp('2016-05-04 00:00:00') Timestamp('2016-05-05 00:00:00')\\n Timestamp('2016-05-06 00:00:00') Timestamp('2016-05-07 00:00:00')\\n Timestamp('2016-05-08 00:00:00') Timestamp('2016-05-09 00:00:00')\\n Timestamp('2016-05-10 00:00:00') Timestamp('2016-05-11 00:00:00')\\n Timestamp('2016-05-12 00:00:00') Timestamp('2016-04-12 00:00:00')\\n Timestamp('2016-04-13 00:00:00') Timestamp('2016-04-14 00:00:00')\\n Timestamp('2016-04-15 00:00:00') Timestamp('2016-04-16 00:00:00')\\n Timestamp('2016-04-17 00:00:00') Timestamp('2016-04-18 00:00:00')\\n Timestamp('2016-04-19 00:00:00') Timestamp('2016-04-20 00:00:00')\\n Timestamp('2016-04-21 00:00:00') Timestamp('2016-04-22 00:00:00')\\n Timestamp('2016-04-23 00:00:00') Timestamp('2016-04-24 00:00:00')\\n Timestamp('2016-04-25 00:00:00') Timestamp('2016-04-26 00:00:00')\\n Timestamp('2016-04-27 00:00:00') Timestamp('2016-04-28 00:00:00')\\n Timestamp('2016-04-29 00:00:00') Timestamp('2016-04-30 00:00:00')\\n Timestamp('2016-05-01 00:00:00') Timestamp('2016-05-02 00:00:00')\\n Timestamp('2016-05-03 00:00:00') Timestamp('2016-05-04 00:00:00')\\n Timestamp('2016-05-05 00:00:00') Timestamp('2016-05-06 00:00:00')\\n Timestamp('2016-05-07 00:00:00') Timestamp('2016-05-08 00:00:00')\\n Timestamp('2016-05-09 00:00:00') Timestamp('2016-05-10 00:00:00')\\n Timestamp('2016-05-11 00:00:00') Timestamp('2016-05-12 00:00:00')\\n Timestamp('2016-04-12 00:00:00') Timestamp('2016-04-13 00:00:00')\\n Timestamp('2016-04-14 00:00:00') Timestamp('2016-04-15 00:00:00')\\n Timestamp('2016-04-16 00:00:00') Timestamp('2016-04-17 00:00:00')\\n Timestamp('2016-04-18 00:00:00') Timestamp('2016-04-19 00:00:00')\\n Timestamp('2016-04-20 00:00:00') Timestamp('2016-04-21 00:00:00')\\n Timestamp('2016-04-22 00:00:00') Timestamp('2016-04-23 00:00:00')\\n Timestamp('2016-04-24 00:00:00') Timestamp('2016-04-25 00:00:00')\\n Timestamp('2016-04-26 00:00:00') Timestamp('2016-04-27 00:00:00')\\n Timestamp('2016-04-28 00:00:00') Timestamp('2016-04-29 00:00:00')\\n Timestamp('2016-04-30 00:00:00') Timestamp('2016-05-01 00:00:00')\\n Timestamp('2016-05-02 00:00:00') Timestamp('2016-05-03 00:00:00')\\n Timestamp('2016-05-04 00:00:00') Timestamp('2016-05-05 00:00:00')\\n Timestamp('2016-05-06 00:00:00') Timestamp('2016-05-07 00:00:00')\\n Timestamp('2016-05-08 00:00:00') Timestamp('2016-05-09 00:00:00')\\n Timestamp('2016-05-10 00:00:00') Timestamp('2016-05-11 00:00:00')\\n Timestamp('2016-05-12 00:00:00') Timestamp('2016-04-12 00:00:00')\\n Timestamp('2016-04-13 00:00:00') Timestamp('2016-04-14 00:00:00')\\n Timestamp('2016-04-15 00:00:00') Timestamp('2016-04-16 00:00:00')\\n Timestamp('2016-04-17 00:00:00') Timestamp('2016-04-18 00:00:00')\\n Timestamp('2016-04-19 00:00:00') Timestamp('2016-04-20 00:00:00')\\n Timestamp('2016-04-21 00:00:00') Timestamp('2016-04-22 00:00:00')\\n Timestamp('2016-04-23 00:00:00') Timestamp('2016-04-24 00:00:00')\\n Timestamp('2016-04-25 00:00:00') Timestamp('2016-04-26 00:00:00')\\n Timestamp('2016-04-27 00:00:00') Timestamp('2016-04-28 00:00:00')\\n Timestamp('2016-04-29 00:00:00') Timestamp('2016-04-12 00:00:00')\\n Timestamp('2016-04-13 00:00:00') Timestamp('2016-04-14 00:00:00')\\n Timestamp('2016-04-15 00:00:00') Timestamp('2016-04-16 00:00:00')\\n Timestamp('2016-04-17 00:00:00') Timestamp('2016-04-18 00:00:00')\\n Timestamp('2016-04-19 00:00:00') Timestamp('2016-04-20 00:00:00')\\n Timestamp('2016-04-21 00:00:00') Timestamp('2016-04-22 00:00:00')\\n Timestamp('2016-04-23 00:00:00') Timestamp('2016-04-24 00:00:00')\\n Timestamp('2016-04-25 00:00:00') Timestamp('2016-04-26 00:00:00')\\n Timestamp('2016-04-27 00:00:00') Timestamp('2016-04-28 00:00:00')\\n Timestamp('2016-04-29 00:00:00') Timestamp('2016-04-30 00:00:00')\\n Timestamp('2016-05-01 00:00:00') Timestamp('2016-05-02 00:00:00')\\n Timestamp('2016-05-03 00:00:00') Timestamp('2016-05-04 00:00:00')\\n Timestamp('2016-05-05 00:00:00') Timestamp('2016-05-06 00:00:00')\\n Timestamp('2016-05-07 00:00:00') Timestamp('2016-05-08 00:00:00')\\n Timestamp('2016-05-09 00:00:00') Timestamp('2016-05-10 00:00:00')\\n Timestamp('2016-05-11 00:00:00') Timestamp('2016-05-12 00:00:00')\\n Timestamp('2016-04-12 00:00:00') Timestamp('2016-04-13 00:00:00')\\n Timestamp('2016-04-14 00:00:00') Timestamp('2016-04-15 00:00:00')\\n Timestamp('2016-04-16 00:00:00') Timestamp('2016-04-17 00:00:00')\\n Timestamp('2016-04-18 00:00:00') Timestamp('2016-04-19 00:00:00')\\n Timestamp('2016-04-20 00:00:00') Timestamp('2016-04-21 00:00:00')\\n Timestamp('2016-04-22 00:00:00') Timestamp('2016-04-23 00:00:00')\\n Timestamp('2016-04-24 00:00:00') Timestamp('2016-04-25 00:00:00')\\n Timestamp('2016-04-26 00:00:00') Timestamp('2016-04-27 00:00:00')\\n Timestamp('2016-04-28 00:00:00') Timestamp('2016-04-29 00:00:00')\\n Timestamp('2016-04-30 00:00:00') Timestamp('2016-05-01 00:00:00')\\n Timestamp('2016-04-12 00:00:00') Timestamp('2016-04-13 00:00:00')\\n Timestamp('2016-04-14 00:00:00') Timestamp('2016-04-15 00:00:00')\\n Timestamp('2016-04-16 00:00:00') Timestamp('2016-04-17 00:00:00')\\n Timestamp('2016-04-18 00:00:00') Timestamp('2016-04-19 00:00:00')\\n Timestamp('2016-04-20 00:00:00') Timestamp('2016-04-21 00:00:00')\\n Timestamp('2016-04-22 00:00:00') Timestamp('2016-04-23 00:00:00')\\n Timestamp('2016-04-24 00:00:00') Timestamp('2016-04-25 00:00:00')\\n Timestamp('2016-04-26 00:00:00') Timestamp('2016-04-27 00:00:00')\\n Timestamp('2016-04-28 00:00:00') Timestamp('2016-04-29 00:00:00')\\n Timestamp('2016-04-30 00:00:00') Timestamp('2016-05-01 00:00:00')\\n Timestamp('2016-05-02 00:00:00') Timestamp('2016-05-03 00:00:00')\\n Timestamp('2016-05-04 00:00:00') Timestamp('2016-05-05 00:00:00')\\n Timestamp('2016-05-06 00:00:00') Timestamp('2016-05-07 00:00:00')\\n Timestamp('2016-05-08 00:00:00') Timestamp('2016-05-09 00:00:00')\\n Timestamp('2016-05-10 00:00:00') Timestamp('2016-05-11 00:00:00')\\n Timestamp('2016-04-12 00:00:00') Timestamp('2016-04-13 00:00:00')\\n Timestamp('2016-04-14 00:00:00') Timestamp('2016-04-15 00:00:00')\\n Timestamp('2016-04-16 00:00:00') Timestamp('2016-04-17 00:00:00')\\n Timestamp('2016-04-18 00:00:00') Timestamp('2016-04-19 00:00:00')\\n Timestamp('2016-04-20 00:00:00') Timestamp('2016-04-21 00:00:00')\\n Timestamp('2016-04-22 00:00:00') Timestamp('2016-04-23 00:00:00')\\n Timestamp('2016-04-24 00:00:00') Timestamp('2016-04-25 00:00:00')\\n Timestamp('2016-04-26 00:00:00') Timestamp('2016-04-27 00:00:00')\\n Timestamp('2016-04-28 00:00:00') Timestamp('2016-04-29 00:00:00')\\n Timestamp('2016-04-30 00:00:00') Timestamp('2016-05-01 00:00:00')\\n Timestamp('2016-05-02 00:00:00') Timestamp('2016-05-03 00:00:00')\\n Timestamp('2016-05-04 00:00:00') Timestamp('2016-05-05 00:00:00')\\n Timestamp('2016-05-06 00:00:00') Timestamp('2016-05-07 00:00:00')\\n Timestamp('2016-05-08 00:00:00') Timestamp('2016-05-09 00:00:00')\\n Timestamp('2016-05-10 00:00:00') Timestamp('2016-05-11 00:00:00')\\n Timestamp('2016-05-12 00:00:00') Timestamp('2016-04-12 00:00:00')\\n Timestamp('2016-04-13 00:00:00') Timestamp('2016-04-14 00:00:00')\\n Timestamp('2016-04-15 00:00:00') Timestamp('2016-04-12 00:00:00')\\n Timestamp('2016-04-13 00:00:00') Timestamp('2016-04-14 00:00:00')\\n Timestamp('2016-04-15 00:00:00') Timestamp('2016-04-16 00:00:00')\\n Timestamp('2016-04-17 00:00:00') Timestamp('2016-04-18 00:00:00')\\n Timestamp('2016-04-19 00:00:00') Timestamp('2016-04-20 00:00:00')\\n Timestamp('2016-04-21 00:00:00') Timestamp('2016-04-22 00:00:00')\\n Timestamp('2016-04-23 00:00:00') Timestamp('2016-04-24 00:00:00')\\n Timestamp('2016-04-25 00:00:00') Timestamp('2016-04-26 00:00:00')\\n Timestamp('2016-04-27 00:00:00') Timestamp('2016-04-28 00:00:00')\\n Timestamp('2016-04-29 00:00:00') Timestamp('2016-04-30 00:00:00')\\n Timestamp('2016-05-01 00:00:00') Timestamp('2016-05-02 00:00:00')\\n Timestamp('2016-05-03 00:00:00') Timestamp('2016-05-04 00:00:00')\\n Timestamp('2016-05-05 00:00:00') Timestamp('2016-05-06 00:00:00')\\n Timestamp('2016-05-07 00:00:00') Timestamp('2016-05-08 00:00:00')\\n Timestamp('2016-05-09 00:00:00') Timestamp('2016-05-10 00:00:00')\\n Timestamp('2016-05-11 00:00:00') Timestamp('2016-05-12 00:00:00')\\n Timestamp('2016-04-12 00:00:00') Timestamp('2016-04-13 00:00:00')\\n Timestamp('2016-04-14 00:00:00') Timestamp('2016-04-15 00:00:00')\\n Timestamp('2016-04-16 00:00:00') Timestamp('2016-04-17 00:00:00')\\n Timestamp('2016-04-18 00:00:00') Timestamp('2016-04-19 00:00:00')\\n Timestamp('2016-04-20 00:00:00') Timestamp('2016-04-21 00:00:00')\\n Timestamp('2016-04-22 00:00:00') Timestamp('2016-04-23 00:00:00')\\n Timestamp('2016-04-24 00:00:00') Timestamp('2016-04-25 00:00:00')\\n Timestamp('2016-04-26 00:00:00') Timestamp('2016-04-27 00:00:00')\\n Timestamp('2016-04-28 00:00:00') Timestamp('2016-04-29 00:00:00')\\n Timestamp('2016-04-30 00:00:00') Timestamp('2016-05-01 00:00:00')\\n Timestamp('2016-05-02 00:00:00') Timestamp('2016-05-03 00:00:00')\\n Timestamp('2016-05-04 00:00:00') Timestamp('2016-05-05 00:00:00')\\n Timestamp('2016-05-06 00:00:00') Timestamp('2016-05-07 00:00:00')\\n Timestamp('2016-05-08 00:00:00') Timestamp('2016-05-09 00:00:00')\\n Timestamp('2016-05-10 00:00:00') Timestamp('2016-05-11 00:00:00')\\n Timestamp('2016-05-12 00:00:00') Timestamp('2016-04-12 00:00:00')\\n Timestamp('2016-04-13 00:00:00') Timestamp('2016-04-14 00:00:00')\\n Timestamp('2016-04-15 00:00:00') Timestamp('2016-04-16 00:00:00')\\n Timestamp('2016-04-17 00:00:00') Timestamp('2016-04-18 00:00:00')\\n Timestamp('2016-04-19 00:00:00') Timestamp('2016-04-20 00:00:00')\\n Timestamp('2016-04-21 00:00:00') Timestamp('2016-04-22 00:00:00')\\n Timestamp('2016-04-23 00:00:00') Timestamp('2016-04-24 00:00:00')\\n Timestamp('2016-04-25 00:00:00') Timestamp('2016-04-26 00:00:00')\\n Timestamp('2016-04-27 00:00:00') Timestamp('2016-04-28 00:00:00')\\n Timestamp('2016-04-29 00:00:00') Timestamp('2016-04-30 00:00:00')\\n Timestamp('2016-05-01 00:00:00') Timestamp('2016-05-02 00:00:00')\\n Timestamp('2016-05-03 00:00:00') Timestamp('2016-05-04 00:00:00')\\n Timestamp('2016-05-05 00:00:00') Timestamp('2016-05-06 00:00:00')\\n Timestamp('2016-05-07 00:00:00') Timestamp('2016-05-08 00:00:00')\\n Timestamp('2016-05-09 00:00:00') Timestamp('2016-05-10 00:00:00')\\n Timestamp('2016-05-11 00:00:00') Timestamp('2016-05-12 00:00:00')\\n Timestamp('2016-04-12 00:00:00') Timestamp('2016-04-13 00:00:00')\\n Timestamp('2016-04-14 00:00:00') Timestamp('2016-04-15 00:00:00')\\n Timestamp('2016-04-16 00:00:00') Timestamp('2016-04-17 00:00:00')\\n Timestamp('2016-04-18 00:00:00') Timestamp('2016-04-19 00:00:00')\\n Timestamp('2016-04-20 00:00:00') Timestamp('2016-04-21 00:00:00')\\n Timestamp('2016-04-22 00:00:00') Timestamp('2016-04-23 00:00:00')\\n Timestamp('2016-04-24 00:00:00') Timestamp('2016-04-25 00:00:00')\\n Timestamp('2016-04-26 00:00:00') Timestamp('2016-04-27 00:00:00')\\n Timestamp('2016-04-28 00:00:00') Timestamp('2016-04-29 00:00:00')\\n Timestamp('2016-04-30 00:00:00') Timestamp('2016-05-01 00:00:00')\\n Timestamp('2016-05-02 00:00:00') Timestamp('2016-05-03 00:00:00')\\n Timestamp('2016-05-04 00:00:00') Timestamp('2016-05-05 00:00:00')\\n Timestamp('2016-05-06 00:00:00') Timestamp('2016-05-07 00:00:00')\\n Timestamp('2016-05-08 00:00:00') Timestamp('2016-05-09 00:00:00')\\n Timestamp('2016-05-10 00:00:00') Timestamp('2016-05-11 00:00:00')\\n Timestamp('2016-05-12 00:00:00') Timestamp('2016-04-12 00:00:00')\\n Timestamp('2016-04-13 00:00:00') Timestamp('2016-04-14 00:00:00')\\n Timestamp('2016-04-15 00:00:00') Timestamp('2016-04-16 00:00:00')\\n Timestamp('2016-04-17 00:00:00') Timestamp('2016-04-18 00:00:00')\\n Timestamp('2016-04-19 00:00:00') Timestamp('2016-04-20 00:00:00')\\n Timestamp('2016-04-21 00:00:00') Timestamp('2016-04-22 00:00:00')\\n Timestamp('2016-04-23 00:00:00') Timestamp('2016-04-24 00:00:00')\\n Timestamp('2016-04-25 00:00:00') Timestamp('2016-04-26 00:00:00')\\n Timestamp('2016-04-27 00:00:00') Timestamp('2016-04-28 00:00:00')\\n Timestamp('2016-04-29 00:00:00') Timestamp('2016-04-30 00:00:00')\\n Timestamp('2016-05-01 00:00:00') Timestamp('2016-05-02 00:00:00')\\n Timestamp('2016-05-03 00:00:00') Timestamp('2016-05-04 00:00:00')\\n Timestamp('2016-05-05 00:00:00') Timestamp('2016-05-06 00:00:00')\\n Timestamp('2016-05-07 00:00:00') Timestamp('2016-05-08 00:00:00')\\n Timestamp('2016-05-09 00:00:00') Timestamp('2016-05-10 00:00:00')\\n Timestamp('2016-05-11 00:00:00') Timestamp('2016-05-12 00:00:00')\\n Timestamp('2016-04-12 00:00:00') Timestamp('2016-04-13 00:00:00')\\n Timestamp('2016-04-14 00:00:00') Timestamp('2016-04-15 00:00:00')\\n Timestamp('2016-04-16 00:00:00') Timestamp('2016-04-17 00:00:00')\\n Timestamp('2016-04-18 00:00:00') Timestamp('2016-04-19 00:00:00')\\n Timestamp('2016-04-20 00:00:00') Timestamp('2016-04-21 00:00:00')\\n Timestamp('2016-04-22 00:00:00') Timestamp('2016-04-23 00:00:00')\\n Timestamp('2016-04-24 00:00:00') Timestamp('2016-04-25 00:00:00')\\n Timestamp('2016-04-26 00:00:00') Timestamp('2016-04-27 00:00:00')\\n Timestamp('2016-04-28 00:00:00') Timestamp('2016-04-29 00:00:00')\\n Timestamp('2016-04-30 00:00:00') Timestamp('2016-05-01 00:00:00')\\n Timestamp('2016-05-02 00:00:00') Timestamp('2016-05-03 00:00:00')\\n Timestamp('2016-05-04 00:00:00') Timestamp('2016-05-05 00:00:00')\\n Timestamp('2016-05-06 00:00:00') Timestamp('2016-05-07 00:00:00')\\n Timestamp('2016-05-08 00:00:00') Timestamp('2016-05-09 00:00:00')\\n Timestamp('2016-05-10 00:00:00') Timestamp('2016-05-11 00:00:00')\\n Timestamp('2016-05-12 00:00:00') Timestamp('2016-04-12 00:00:00')\\n Timestamp('2016-04-13 00:00:00') Timestamp('2016-04-14 00:00:00')\\n Timestamp('2016-04-15 00:00:00') Timestamp('2016-04-16 00:00:00')\\n Timestamp('2016-04-17 00:00:00') Timestamp('2016-04-18 00:00:00')\\n Timestamp('2016-04-19 00:00:00') Timestamp('2016-04-20 00:00:00')\\n Timestamp('2016-04-21 00:00:00') Timestamp('2016-04-22 00:00:00')\\n Timestamp('2016-04-23 00:00:00') Timestamp('2016-04-24 00:00:00')\\n Timestamp('2016-04-25 00:00:00') Timestamp('2016-04-26 00:00:00')\\n Timestamp('2016-04-27 00:00:00') Timestamp('2016-04-28 00:00:00')\\n Timestamp('2016-04-29 00:00:00') Timestamp('2016-04-30 00:00:00')\\n Timestamp('2016-05-01 00:00:00') Timestamp('2016-05-02 00:00:00')\\n Timestamp('2016-05-03 00:00:00') Timestamp('2016-05-04 00:00:00')\\n Timestamp('2016-05-05 00:00:00') Timestamp('2016-05-06 00:00:00')\\n Timestamp('2016-05-07 00:00:00') Timestamp('2016-05-08 00:00:00')\\n Timestamp('2016-05-09 00:00:00') Timestamp('2016-05-10 00:00:00')\\n Timestamp('2016-05-11 00:00:00') Timestamp('2016-04-12 00:00:00')\\n Timestamp('2016-04-13 00:00:00') Timestamp('2016-04-14 00:00:00')\\n Timestamp('2016-04-15 00:00:00') Timestamp('2016-04-16 00:00:00')\\n Timestamp('2016-04-17 00:00:00') Timestamp('2016-04-18 00:00:00')\\n Timestamp('2016-04-19 00:00:00') Timestamp('2016-04-20 00:00:00')\\n Timestamp('2016-04-21 00:00:00') Timestamp('2016-04-22 00:00:00')\\n Timestamp('2016-04-23 00:00:00') Timestamp('2016-04-24 00:00:00')\\n Timestamp('2016-04-25 00:00:00') Timestamp('2016-04-26 00:00:00')\\n Timestamp('2016-04-27 00:00:00') Timestamp('2016-04-28 00:00:00')\\n Timestamp('2016-04-29 00:00:00') Timestamp('2016-04-30 00:00:00')\\n Timestamp('2016-05-01 00:00:00') Timestamp('2016-05-02 00:00:00')\\n Timestamp('2016-05-03 00:00:00') Timestamp('2016-05-04 00:00:00')\\n Timestamp('2016-05-05 00:00:00') Timestamp('2016-05-06 00:00:00')\\n Timestamp('2016-05-07 00:00:00') Timestamp('2016-05-08 00:00:00')\\n Timestamp('2016-05-09 00:00:00') Timestamp('2016-04-12 00:00:00')\\n Timestamp('2016-04-13 00:00:00') Timestamp('2016-04-14 00:00:00')\\n Timestamp('2016-04-15 00:00:00') Timestamp('2016-04-16 00:00:00')\\n Timestamp('2016-04-17 00:00:00') Timestamp('2016-04-18 00:00:00')\\n Timestamp('2016-04-19 00:00:00') Timestamp('2016-04-20 00:00:00')\\n Timestamp('2016-04-21 00:00:00') Timestamp('2016-04-22 00:00:00')\\n Timestamp('2016-04-23 00:00:00') Timestamp('2016-04-24 00:00:00')\\n Timestamp('2016-04-25 00:00:00') Timestamp('2016-04-26 00:00:00')\\n Timestamp('2016-04-27 00:00:00') Timestamp('2016-04-28 00:00:00')\\n Timestamp('2016-04-29 00:00:00') Timestamp('2016-04-30 00:00:00')\\n Timestamp('2016-05-01 00:00:00') Timestamp('2016-05-02 00:00:00')\\n Timestamp('2016-05-03 00:00:00') Timestamp('2016-05-04 00:00:00')\\n Timestamp('2016-05-05 00:00:00') Timestamp('2016-05-06 00:00:00')\\n Timestamp('2016-05-07 00:00:00') Timestamp('2016-05-08 00:00:00')\\n Timestamp('2016-05-09 00:00:00') Timestamp('2016-05-10 00:00:00')\\n Timestamp('2016-04-12 00:00:00') Timestamp('2016-04-13 00:00:00')\\n Timestamp('2016-04-14 00:00:00') Timestamp('2016-04-15 00:00:00')\\n Timestamp('2016-04-16 00:00:00') Timestamp('2016-04-17 00:00:00')\\n Timestamp('2016-04-18 00:00:00') Timestamp('2016-04-19 00:00:00')\\n Timestamp('2016-04-20 00:00:00') Timestamp('2016-04-21 00:00:00')\\n Timestamp('2016-04-22 00:00:00') Timestamp('2016-04-23 00:00:00')\\n Timestamp('2016-04-24 00:00:00') Timestamp('2016-04-25 00:00:00')\\n Timestamp('2016-04-26 00:00:00') Timestamp('2016-04-27 00:00:00')\\n Timestamp('2016-04-28 00:00:00') Timestamp('2016-04-29 00:00:00')\\n Timestamp('2016-04-30 00:00:00') Timestamp('2016-05-01 00:00:00')\\n Timestamp('2016-05-02 00:00:00') Timestamp('2016-05-03 00:00:00')\\n Timestamp('2016-05-04 00:00:00') Timestamp('2016-05-05 00:00:00')\\n Timestamp('2016-05-06 00:00:00') Timestamp('2016-05-07 00:00:00')\\n Timestamp('2016-04-12 00:00:00') Timestamp('2016-04-13 00:00:00')\\n Timestamp('2016-04-14 00:00:00') Timestamp('2016-04-15 00:00:00')\\n Timestamp('2016-04-16 00:00:00') Timestamp('2016-04-17 00:00:00')\\n Timestamp('2016-04-18 00:00:00') Timestamp('2016-04-19 00:00:00')\\n Timestamp('2016-04-20 00:00:00') Timestamp('2016-04-21 00:00:00')\\n Timestamp('2016-04-22 00:00:00') Timestamp('2016-04-23 00:00:00')\\n Timestamp('2016-04-24 00:00:00') Timestamp('2016-04-25 00:00:00')\\n Timestamp('2016-04-26 00:00:00') Timestamp('2016-04-27 00:00:00')\\n Timestamp('2016-04-28 00:00:00') Timestamp('2016-04-29 00:00:00')\\n Timestamp('2016-04-30 00:00:00') Timestamp('2016-05-01 00:00:00')\\n Timestamp('2016-05-02 00:00:00') Timestamp('2016-05-03 00:00:00')\\n Timestamp('2016-05-04 00:00:00') Timestamp('2016-05-05 00:00:00')\\n Timestamp('2016-05-06 00:00:00') Timestamp('2016-05-07 00:00:00')\\n Timestamp('2016-05-08 00:00:00') Timestamp('2016-05-09 00:00:00')\\n Timestamp('2016-05-10 00:00:00') Timestamp('2016-05-11 00:00:00')\\n Timestamp('2016-05-12 00:00:00') Timestamp('2016-04-12 00:00:00')\\n Timestamp('2016-04-13 00:00:00') Timestamp('2016-04-14 00:00:00')\\n Timestamp('2016-04-15 00:00:00') Timestamp('2016-04-16 00:00:00')\\n Timestamp('2016-04-17 00:00:00') Timestamp('2016-04-18 00:00:00')\\n Timestamp('2016-04-19 00:00:00') Timestamp('2016-04-20 00:00:00')\\n Timestamp('2016-04-21 00:00:00') Timestamp('2016-04-22 00:00:00')\\n Timestamp('2016-04-23 00:00:00') Timestamp('2016-04-24 00:00:00')\\n Timestamp('2016-04-25 00:00:00') Timestamp('2016-04-26 00:00:00')\\n Timestamp('2016-04-27 00:00:00') Timestamp('2016-04-28 00:00:00')\\n Timestamp('2016-04-29 00:00:00') Timestamp('2016-04-30 00:00:00')\\n Timestamp('2016-05-01 00:00:00') Timestamp('2016-05-02 00:00:00')\\n Timestamp('2016-05-03 00:00:00') Timestamp('2016-05-04 00:00:00')\\n Timestamp('2016-05-05 00:00:00') Timestamp('2016-05-06 00:00:00')\\n Timestamp('2016-05-07 00:00:00') Timestamp('2016-04-12 00:00:00')\\n Timestamp('2016-04-13 00:00:00') Timestamp('2016-04-14 00:00:00')\\n Timestamp('2016-04-15 00:00:00') Timestamp('2016-04-16 00:00:00')\\n Timestamp('2016-04-17 00:00:00') Timestamp('2016-04-18 00:00:00')\\n Timestamp('2016-04-19 00:00:00') Timestamp('2016-04-20 00:00:00')\\n Timestamp('2016-04-21 00:00:00') Timestamp('2016-04-22 00:00:00')\\n Timestamp('2016-04-23 00:00:00') Timestamp('2016-04-24 00:00:00')\\n Timestamp('2016-04-25 00:00:00') Timestamp('2016-04-26 00:00:00')\\n Timestamp('2016-04-27 00:00:00') Timestamp('2016-04-28 00:00:00')\\n Timestamp('2016-04-29 00:00:00') Timestamp('2016-04-30 00:00:00')\\n Timestamp('2016-05-01 00:00:00') Timestamp('2016-05-02 00:00:00')\\n Timestamp('2016-05-03 00:00:00') Timestamp('2016-05-04 00:00:00')\\n Timestamp('2016-05-05 00:00:00') Timestamp('2016-05-06 00:00:00')\\n Timestamp('2016-05-07 00:00:00') Timestamp('2016-05-08 00:00:00')\\n Timestamp('2016-05-09 00:00:00') Timestamp('2016-05-10 00:00:00')\\n Timestamp('2016-05-11 00:00:00') Timestamp('2016-05-12 00:00:00')\\n Timestamp('2016-04-12 00:00:00') Timestamp('2016-04-13 00:00:00')\\n Timestamp('2016-04-14 00:00:00') Timestamp('2016-04-15 00:00:00')\\n Timestamp('2016-04-16 00:00:00') Timestamp('2016-04-17 00:00:00')\\n Timestamp('2016-04-18 00:00:00') Timestamp('2016-04-19 00:00:00')\\n Timestamp('2016-04-20 00:00:00') Timestamp('2016-04-21 00:00:00')\\n Timestamp('2016-04-22 00:00:00') Timestamp('2016-04-23 00:00:00')\\n Timestamp('2016-04-24 00:00:00') Timestamp('2016-04-25 00:00:00')\\n Timestamp('2016-04-26 00:00:00') Timestamp('2016-04-27 00:00:00')\\n Timestamp('2016-04-28 00:00:00') Timestamp('2016-04-29 00:00:00')\\n Timestamp('2016-04-30 00:00:00') Timestamp('2016-05-01 00:00:00')\\n Timestamp('2016-05-02 00:00:00') Timestamp('2016-05-03 00:00:00')\\n Timestamp('2016-05-04 00:00:00') Timestamp('2016-05-05 00:00:00')\\n Timestamp('2016-05-06 00:00:00') Timestamp('2016-05-07 00:00:00')\\n Timestamp('2016-05-08 00:00:00') Timestamp('2016-05-09 00:00:00')\\n Timestamp('2016-05-10 00:00:00') Timestamp('2016-05-11 00:00:00')\\n Timestamp('2016-05-12 00:00:00') Timestamp('2016-04-12 00:00:00')\\n Timestamp('2016-04-13 00:00:00') Timestamp('2016-04-14 00:00:00')\\n Timestamp('2016-04-15 00:00:00') Timestamp('2016-04-16 00:00:00')\\n Timestamp('2016-04-17 00:00:00') Timestamp('2016-04-18 00:00:00')\\n Timestamp('2016-04-19 00:00:00') Timestamp('2016-04-20 00:00:00')\\n Timestamp('2016-04-21 00:00:00') Timestamp('2016-04-22 00:00:00')\\n Timestamp('2016-04-23 00:00:00') Timestamp('2016-04-24 00:00:00')\\n Timestamp('2016-04-25 00:00:00') Timestamp('2016-04-26 00:00:00')\\n Timestamp('2016-04-27 00:00:00') Timestamp('2016-04-28 00:00:00')\\n Timestamp('2016-04-29 00:00:00') Timestamp('2016-04-30 00:00:00')\\n Timestamp('2016-04-12 00:00:00') Timestamp('2016-04-13 00:00:00')\\n Timestamp('2016-04-14 00:00:00') Timestamp('2016-04-15 00:00:00')\\n Timestamp('2016-04-16 00:00:00') Timestamp('2016-04-17 00:00:00')\\n Timestamp('2016-04-18 00:00:00') Timestamp('2016-04-19 00:00:00')\\n Timestamp('2016-04-20 00:00:00') Timestamp('2016-04-21 00:00:00')\\n Timestamp('2016-04-22 00:00:00') Timestamp('2016-04-23 00:00:00')\\n Timestamp('2016-04-24 00:00:00') Timestamp('2016-04-25 00:00:00')\\n Timestamp('2016-04-26 00:00:00') Timestamp('2016-04-27 00:00:00')\\n Timestamp('2016-04-28 00:00:00') Timestamp('2016-04-29 00:00:00')\\n Timestamp('2016-04-30 00:00:00') Timestamp('2016-05-01 00:00:00')\\n Timestamp('2016-05-02 00:00:00') Timestamp('2016-05-03 00:00:00')\\n Timestamp('2016-05-04 00:00:00') Timestamp('2016-05-05 00:00:00')\\n Timestamp('2016-05-06 00:00:00') Timestamp('2016-05-07 00:00:00')\\n Timestamp('2016-05-08 00:00:00') Timestamp('2016-05-09 00:00:00')\\n Timestamp('2016-05-10 00:00:00') Timestamp('2016-05-11 00:00:00')\\n Timestamp('2016-05-12 00:00:00') Timestamp('2016-04-12 00:00:00')\\n Timestamp('2016-04-13 00:00:00') Timestamp('2016-04-14 00:00:00')\\n Timestamp('2016-04-15 00:00:00') Timestamp('2016-04-16 00:00:00')\\n Timestamp('2016-04-17 00:00:00') Timestamp('2016-04-18 00:00:00')\\n Timestamp('2016-04-19 00:00:00') Timestamp('2016-04-20 00:00:00')\\n Timestamp('2016-04-21 00:00:00') Timestamp('2016-04-22 00:00:00')\\n Timestamp('2016-04-23 00:00:00') Timestamp('2016-04-24 00:00:00')\\n Timestamp('2016-04-25 00:00:00') Timestamp('2016-04-26 00:00:00')\\n Timestamp('2016-04-27 00:00:00') Timestamp('2016-04-28 00:00:00')\\n Timestamp('2016-04-29 00:00:00') Timestamp('2016-04-30 00:00:00')\\n Timestamp('2016-05-01 00:00:00') Timestamp('2016-05-02 00:00:00')\\n Timestamp('2016-05-03 00:00:00') Timestamp('2016-05-04 00:00:00')\\n Timestamp('2016-05-05 00:00:00') Timestamp('2016-05-06 00:00:00')\\n Timestamp('2016-05-07 00:00:00') Timestamp('2016-05-08 00:00:00')\\n Timestamp('2016-05-09 00:00:00') Timestamp('2016-05-10 00:00:00')\\n Timestamp('2016-05-11 00:00:00') Timestamp('2016-05-12 00:00:00')\\n Timestamp('2016-04-12 00:00:00') Timestamp('2016-04-13 00:00:00')\\n Timestamp('2016-04-14 00:00:00') Timestamp('2016-04-15 00:00:00')\\n Timestamp('2016-04-16 00:00:00') Timestamp('2016-04-17 00:00:00')\\n Timestamp('2016-04-18 00:00:00') Timestamp('2016-04-19 00:00:00')\\n Timestamp('2016-04-20 00:00:00') Timestamp('2016-04-21 00:00:00')\\n Timestamp('2016-04-22 00:00:00') Timestamp('2016-04-23 00:00:00')\\n Timestamp('2016-04-24 00:00:00') Timestamp('2016-04-25 00:00:00')\\n Timestamp('2016-04-26 00:00:00') Timestamp('2016-04-27 00:00:00')\\n Timestamp('2016-04-28 00:00:00') Timestamp('2016-04-29 00:00:00')\\n Timestamp('2016-04-30 00:00:00') Timestamp('2016-05-01 00:00:00')\\n Timestamp('2016-05-02 00:00:00') Timestamp('2016-05-03 00:00:00')\\n Timestamp('2016-05-04 00:00:00') Timestamp('2016-05-05 00:00:00')\\n Timestamp('2016-05-06 00:00:00') Timestamp('2016-05-07 00:00:00')\\n Timestamp('2016-05-08 00:00:00') Timestamp('2016-05-09 00:00:00')\\n Timestamp('2016-05-10 00:00:00') Timestamp('2016-04-12 00:00:00')\\n Timestamp('2016-04-13 00:00:00') Timestamp('2016-04-14 00:00:00')\\n Timestamp('2016-04-15 00:00:00') Timestamp('2016-04-16 00:00:00')\\n Timestamp('2016-04-17 00:00:00') Timestamp('2016-04-18 00:00:00')\\n Timestamp('2016-04-19 00:00:00') Timestamp('2016-04-20 00:00:00')\\n Timestamp('2016-04-21 00:00:00') Timestamp('2016-04-22 00:00:00')\\n Timestamp('2016-04-23 00:00:00') Timestamp('2016-04-24 00:00:00')\\n Timestamp('2016-04-25 00:00:00') Timestamp('2016-04-26 00:00:00')\\n Timestamp('2016-04-27 00:00:00') Timestamp('2016-04-28 00:00:00')\\n Timestamp('2016-04-29 00:00:00') Timestamp('2016-04-30 00:00:00')\\n Timestamp('2016-05-01 00:00:00') Timestamp('2016-05-02 00:00:00')\\n Timestamp('2016-05-03 00:00:00') Timestamp('2016-05-04 00:00:00')\\n Timestamp('2016-05-05 00:00:00') Timestamp('2016-05-06 00:00:00')\\n Timestamp('2016-05-07 00:00:00') Timestamp('2016-05-08 00:00:00')\\n Timestamp('2016-05-09 00:00:00') Timestamp('2016-05-10 00:00:00')\\n Timestamp('2016-05-11 00:00:00') Timestamp('2016-05-12 00:00:00')] not found in axis\""
     ]
    }
   ],
   "source": [
    "# 3A.2 White-Test\n",
    "from statsmodels.stats.diagnostic import het_white, het_breuschpagan\n",
    "pooled_OLS_dataset = pd.concat([df, residuals_pooled_OLS], axis=1)\n",
    "pooled_OLS_dataset = pooled_OLS_dataset.drop(year, axis = 1).fillna(0)\n",
    "exog = sm.tools.tools.add_constant(dataset['Calories_x']).fillna(0)\n",
    "white_test_results = het_white(pooled_OLS_dataset['residual'], exog)\n",
    "labels = ['LM_Stat', 'LM p_val', 'F_Stat', 'Fp_val'] \n",
    "print(dict(zip(labels, white_test_results)))\n",
    "# 3A.3 Breusch-Pagan-Test\n",
    "breusch_pagan_test_results = het_breuschpagan(pooled_OLS_dataset['residual'], exog)\n",
    "labels = ['LM_Stat', 'LM p_val', 'F_Stat', 'Fp_val'] \n",
    "print(dict(zip(labels, breusch_pagan_test_results)))"
   ]
  },
  {
   "cell_type": "raw",
   "metadata": {},
   "source": [
    "In simple terms, if p < 0.05, then heteroskedasticity is indicated"
   ]
  },
  {
   "cell_type": "code",
   "execution_count": 78,
   "metadata": {},
   "outputs": [
    {
     "name": "stdout",
     "output_type": "stream",
     "text": [
      "0.7644293532278088\n"
     ]
    }
   ],
   "source": [
    "# 3.B Non-Autocorrelation\n",
    "# Durbin-Watson-Test\n",
    "from statsmodels.stats.stattools import durbin_watson\n",
    "\n",
    "durbin_watson_test_results = durbin_watson(pooled_OLS_dataset['residual']) \n",
    "print(durbin_watson_test_results)"
   ]
  },
  {
   "cell_type": "raw",
   "metadata": {},
   "source": [
    "The Durbin-Watson-Test will have one output between 0 – 4. The mean (= 2) would indicate that there is no autocorrelation identified, 0 – 2 means positive autocorrelation (the nearer to zero the higher the correlation), and 2 – 4 means negative autocorrelation (the nearer to four the higher the correlation). In our example, the result is 0.08937264851640213, which clearly indicates strong positive autocorrelation."
   ]
  },
  {
   "cell_type": "markdown",
   "metadata": {},
   "source": [
    "# FE-/RE-model will be more suitable"
   ]
  },
  {
   "cell_type": "code",
   "execution_count": 80,
   "metadata": {},
   "outputs": [
    {
     "name": "stdout",
     "output_type": "stream",
     "text": [
      "                          PanelOLS Estimation Summary                           \n",
      "================================================================================\n",
      "Dep. Variable:             Calories_x   R-squared:                        0.3674\n",
      "Estimator:                   PanelOLS   R-squared (Between):              0.3801\n",
      "No. Observations:                 940   R-squared (Within):               0.3674\n",
      "Date:                Tue, Jun 08 2021   R-squared (Overall):              0.3739\n",
      "Time:                        15:13:51   Log-likelihood                   -6837.7\n",
      "Cov. Estimator:            Unadjusted                                           \n",
      "                                        F-statistic:                      526.24\n",
      "Entities:                          33   P-value                           0.0000\n",
      "Avg Obs:                       28.485   Distribution:                   F(1,906)\n",
      "Min Obs:                       4.0000                                           \n",
      "Max Obs:                       31.000   F-statistic (robust):             526.24\n",
      "                                        P-value                           0.0000\n",
      "Time periods:                      31   Distribution:                   F(1,906)\n",
      "Avg Obs:                       30.323                                           \n",
      "Min Obs:                       21.000                                           \n",
      "Max Obs:                       33.000                                           \n",
      "                                                                                \n",
      "                                 Parameter Estimates                                 \n",
      "=====================================================================================\n",
      "                   Parameter  Std. Err.     T-stat    P-value    Lower CI    Upper CI\n",
      "-------------------------------------------------------------------------------------\n",
      "const                 2052.3     15.952     128.66     0.0000      2021.0      2083.6\n",
      "VeryActiveMinutes     11.872     0.5175     22.940     0.0000      10.856      12.888\n",
      "=====================================================================================\n",
      "\n",
      "F-test for Poolability: 46.009\n",
      "P-value: 0.0000\n",
      "Distribution: F(32,906)\n",
      "\n",
      "Included effects: Entity\n",
      "                        RandomEffects Estimation Summary                        \n",
      "================================================================================\n",
      "Dep. Variable:             Calories_x   R-squared:                        0.3692\n",
      "Estimator:              RandomEffects   R-squared (Between):              0.3813\n",
      "No. Observations:                 940   R-squared (Within):               0.3674\n",
      "Date:                Tue, Jun 08 2021   R-squared (Overall):              0.3742\n",
      "Time:                        15:13:50   Log-likelihood                   -6854.0\n",
      "Cov. Estimator:            Unadjusted                                           \n",
      "                                        F-statistic:                      548.94\n",
      "Entities:                          33   P-value                           0.0000\n",
      "Avg Obs:                       28.485   Distribution:                   F(1,938)\n",
      "Min Obs:                       4.0000                                           \n",
      "Max Obs:                       31.000   F-statistic (robust):             545.88\n",
      "                                        P-value                           0.0000\n",
      "Time periods:                      31   Distribution:                   F(1,938)\n",
      "Avg Obs:                       30.323                                           \n",
      "Min Obs:                       21.000                                           \n",
      "Max Obs:                       33.000                                           \n",
      "                                                                                \n",
      "                                 Parameter Estimates                                 \n",
      "=====================================================================================\n",
      "                   Parameter  Std. Err.     T-stat    P-value    Lower CI    Upper CI\n",
      "-------------------------------------------------------------------------------------\n",
      "const                 2040.4     77.978     26.167     0.0000      1887.4      2193.5\n",
      "VeryActiveMinutes     11.945     0.5112     23.364     0.0000      10.942      12.948\n",
      "=====================================================================================\n"
     ]
    }
   ],
   "source": [
    "# FE und RE model\n",
    "from linearmodels import PanelOLS\n",
    "from linearmodels import RandomEffects\n",
    "exog = sm.add_constant(df.VeryActiveMinutes)\n",
    "endog = df.Calories_x\n",
    "# random effects model\n",
    "model_re = RandomEffects(endog, exog) \n",
    "re_res = model_re.fit() \n",
    "# fixed effects model\n",
    "model_fe = PanelOLS(endog, exog, entity_effects = True) \n",
    "fe_res = model_fe.fit() \n",
    "#print results\n",
    "print(fe_res)\n",
    "print(re_res)\n"
   ]
  },
  {
   "cell_type": "markdown",
   "metadata": {},
   "source": [
    "# More accurate model (FE,RE)"
   ]
  },
  {
   "cell_type": "code",
   "execution_count": 160,
   "metadata": {},
   "outputs": [
    {
     "name": "stdout",
     "output_type": "stream",
     "text": [
      "                          PanelOLS Estimation Summary                           \n",
      "================================================================================\n",
      "Dep. Variable:             Calories_x   R-squared:                        0.6659\n",
      "Estimator:                   PanelOLS   R-squared (Between):              0.1629\n",
      "No. Observations:                 940   R-squared (Within):               0.6659\n",
      "Date:                Wed, Jun 09 2021   R-squared (Overall):              0.3512\n",
      "Time:                        10:38:04   Log-likelihood                   -6537.6\n",
      "Cov. Estimator:            Unadjusted                                           \n",
      "                                        F-statistic:                      299.33\n",
      "Entities:                          33   P-value                           0.0000\n",
      "Avg Obs:                       28.485   Distribution:                   F(6,901)\n",
      "Min Obs:                       4.0000                                           \n",
      "Max Obs:                       31.000   F-statistic (robust):             299.33\n",
      "                                        P-value                           0.0000\n",
      "Time periods:                      31   Distribution:                   F(6,901)\n",
      "Avg Obs:                       30.323                                           \n",
      "Min Obs:                       21.000                                           \n",
      "Max Obs:                       33.000                                           \n",
      "                                                                                \n",
      "                                  Parameter Estimates                                  \n",
      "=======================================================================================\n",
      "                     Parameter  Std. Err.     T-stat    P-value    Lower CI    Upper CI\n",
      "---------------------------------------------------------------------------------------\n",
      "const                   1506.8     21.899     68.805     0.0000      1463.8      1549.8\n",
      "TotalSteps              0.0710     0.0177     4.0118     0.0001      0.0362      0.1057\n",
      "VeryActiveDistance     -18.299     14.476    -1.2641     0.2065     -46.711      10.112\n",
      "LightActiveDistance     35.795     13.524     2.6467     0.0083      9.2525      62.338\n",
      "FairlyActiveMinutes     1.5774     0.7673     2.0559     0.0401      0.0716      3.0832\n",
      "TotalDistance           61.515     86.671     0.7098     0.4780     -108.59      231.62\n",
      "TrackerDistance        -35.872     85.271    -0.4207     0.6741     -203.22      131.48\n",
      "=======================================================================================\n",
      "\n",
      "F-test for Poolability: 81.165\n",
      "P-value: 0.0000\n",
      "Distribution: F(32,901)\n",
      "\n",
      "Included effects: Entity\n",
      "                        RandomEffects Estimation Summary                        \n",
      "================================================================================\n",
      "Dep. Variable:             Calories_x   R-squared:                        0.6519\n",
      "Estimator:              RandomEffects   R-squared (Between):              0.1851\n",
      "No. Observations:                 940   R-squared (Within):               0.6656\n",
      "Date:                Wed, Jun 09 2021   R-squared (Overall):              0.3646\n",
      "Time:                        10:38:04   Log-likelihood                   -6572.1\n",
      "Cov. Estimator:            Unadjusted                                           \n",
      "                                        F-statistic:                      291.16\n",
      "Entities:                          33   P-value                           0.0000\n",
      "Avg Obs:                       28.485   Distribution:                   F(6,933)\n",
      "Min Obs:                       4.0000                                           \n",
      "Max Obs:                       31.000   F-statistic (robust):             290.33\n",
      "                                        P-value                           0.0000\n",
      "Time periods:                      31   Distribution:                   F(6,933)\n",
      "Avg Obs:                       30.323                                           \n",
      "Min Obs:                       21.000                                           \n",
      "Max Obs:                       33.000                                           \n",
      "                                                                                \n",
      "                                  Parameter Estimates                                  \n",
      "=======================================================================================\n",
      "                     Parameter  Std. Err.     T-stat    P-value    Lower CI    Upper CI\n",
      "---------------------------------------------------------------------------------------\n",
      "const                   1502.4     65.300     23.007     0.0000      1374.2      1630.5\n",
      "TotalSteps              0.0549     0.0178     3.0936     0.0020      0.0201      0.0898\n",
      "VeryActiveDistance     -19.919     14.678    -1.3571     0.1751     -48.725      8.8863\n",
      "LightActiveDistance     37.221     13.762     2.7047     0.0070      10.214      64.228\n",
      "FairlyActiveMinutes     1.6538     0.7796     2.1214     0.0342      0.1239      3.1837\n",
      "TotalDistance           69.091     87.891     0.7861     0.4320     -103.40      241.58\n",
      "TrackerDistance        -22.714     86.419    -0.2628     0.7927     -192.31      146.88\n",
      "=======================================================================================\n"
     ]
    }
   ],
   "source": [
    "# FE und RE model\n",
    "from linearmodels import PanelOLS\n",
    "from linearmodels import RandomEffects\n",
    "# TotalSteps + VeryActiveDistance + LightActiveDistance + FairlyActiveMinutes + TotalDistance + TrackerDistance\n",
    "exog = sm.add_constant(df[['TotalSteps','VeryActiveDistance','LightActiveDistance','FairlyActiveMinutes','TotalDistance','TrackerDistance']])\n",
    "endog = df.Calories_x\n",
    "# random effects model\n",
    "model_re = RandomEffects(endog, exog) \n",
    "re_res = model_re.fit() \n",
    "# fixed effects model\n",
    "model_fe = PanelOLS(endog, exog, entity_effects = True) \n",
    "fe_res = model_fe.fit() \n",
    "#print results\n",
    "print(fe_res)\n",
    "print(re_res)"
   ]
  },
  {
   "cell_type": "markdown",
   "metadata": {},
   "source": [
    "# Step 4: Perform Hausman-Test"
   ]
  },
  {
   "cell_type": "code",
   "execution_count": 89,
   "metadata": {},
   "outputs": [
    {
     "name": "stdout",
     "output_type": "stream",
     "text": [
      "chi-Squared:0.5188530393868892\n",
      "degrees of freedom: 2\n",
      "p-Value:0.7714938955191963\n"
     ]
    }
   ],
   "source": [
    "import numpy.linalg as la\n",
    "from scipy import stats\n",
    "import numpy as np\n",
    "def hausman(fe, re):\n",
    "    b = fe.params\n",
    "    B = re.params\n",
    "    v_b = fe.cov\n",
    "    v_B = re.covdf = b[np.abs(b) < 1e8].size\n",
    "    \n",
    "    df = b[np.abs(b) < 1e8].size\n",
    "    \n",
    "    chi2 = np.dot((b - B).T, la.inv(v_b - v_B).dot(b - B)) \n",
    "    pval = stats.chi2.sf(chi2, df)\n",
    "    return chi2, df, pval\n",
    "\n",
    "hausman_results = hausman(fe_res, re_res) \n",
    "\n",
    "print('chi-Squared:' + str(hausman_results[0]))\n",
    "print('degrees of freedom: ' + str(hausman_results[1]))\n",
    "print('p-Value:'  + str(hausman_results[2]))"
   ]
  },
  {
   "cell_type": "code",
   "execution_count": 96,
   "metadata": {},
   "outputs": [
    {
     "data": {
      "image/png": "[encoded data removed]",
      "text/plain": [
       "<Figure size 432x288 with 1 Axes>"
      ]
     },
     "metadata": {
      "needs_background": "light"
     },
     "output_type": "display_data"
    }
   ],
   "source": [
    "#Visualization\n",
    "sns.scatterplot(x=df.VeryActiveMinutes, y=df.Calories_x)\n",
    "plt.show()"
   ]
  },
  {
   "cell_type": "code",
   "execution_count": 92,
   "metadata": {},
   "outputs": [
    {
     "name": "stdout",
     "output_type": "stream",
     "text": [
      "                            OLS Regression Results                            \n",
      "==============================================================================\n",
      "Dep. Variable:             Calories_x   R-squared:                       0.379\n",
      "Model:                            OLS   Adj. R-squared:                  0.379\n",
      "Method:                 Least Squares   F-statistic:                     573.1\n",
      "Date:                Tue, 08 Jun 2021   Prob (F-statistic):           3.17e-99\n",
      "Time:                        16:43:23   Log-Likelihood:                -7291.3\n",
      "No. Observations:                 940   AIC:                         1.459e+04\n",
      "Df Residuals:                     938   BIC:                         1.460e+04\n",
      "Df Model:                           1                                         \n",
      "Covariance Type:            nonrobust                                         \n",
      "=====================================================================================\n",
      "                        coef    std err          t      P>|t|      [0.025      0.975]\n",
      "-------------------------------------------------------------------------------------\n",
      "const              2018.6118     21.970     91.880      0.000    1975.496    2061.728\n",
      "VeryActiveMinutes    13.4656      0.562     23.939      0.000      12.362      14.569\n",
      "==============================================================================\n",
      "Omnibus:                       22.005   Durbin-Watson:                   0.764\n",
      "Prob(Omnibus):                  0.000   Jarque-Bera (JB):               43.514\n",
      "Skew:                           0.079   Prob(JB):                     3.56e-10\n",
      "Kurtosis:                       4.042   Cond. No.                         46.5\n",
      "==============================================================================\n",
      "\n",
      "Notes:\n",
      "[1] Standard Errors assume that the covariance matrix of the errors is correctly specified.\n"
     ]
    }
   ],
   "source": [
    "\n",
    "# Fit the first stage regression and print summary\n",
    "results_fs = sm.OLS(df.Calories_x, exog, check_rank=False).fit()   #dependant and Exogenous or right-hand-side variables\n",
    "print(results_fs.summary())"
   ]
  },
  {
   "cell_type": "code",
   "execution_count": 98,
   "metadata": {},
   "outputs": [
    {
     "data": {
      "text/plain": [
       "array([33038.0728098])"
      ]
     },
     "execution_count": 98,
     "metadata": {},
     "output_type": "execute_result"
    }
   ],
   "source": [
    "mean_expr = np.mean(df['Calories_x'])\n",
    "results_fs.predict(exog=[1, mean_expr])"
   ]
  },
  {
   "cell_type": "code",
   "execution_count": 110,
   "metadata": {},
   "outputs": [
    {
     "name": "stdout",
     "output_type": "stream",
     "text": [
      "940 940 940\n"
     ]
    }
   ],
   "source": [
    "print(len(results_fs.predict()),len(df.VeryActiveMinutes), len(df['Calories_x']))"
   ]
  },
  {
   "cell_type": "code",
   "execution_count": 124,
   "metadata": {},
   "outputs": [
    {
     "data": {
      "text/plain": [
       "numpy.ndarray"
      ]
     },
     "execution_count": 124,
     "metadata": {},
     "output_type": "execute_result"
    }
   ],
   "source": [
    "type(results_fs.predict())"
   ]
  },
  {
   "cell_type": "code",
   "execution_count": 129,
   "metadata": {},
   "outputs": [
    {
     "name": "stdout",
     "output_type": "stream",
     "text": [
      "[[ 0.78543403 21.57125843]\n",
      " [ 0.71104532 19.52823748]\n",
      " [ 0.70273594 19.30002769]\n",
      " ...\n",
      " [ 1.12057893 30.77571984]\n",
      " [ 1.51626358 41.64285255]\n",
      " [ 0.73162092 20.09332838]]\n"
     ]
    }
   ],
   "source": [
    "ypred = results_fs.predict()\n",
    "print(ypred)"
   ]
  },
  {
   "cell_type": "code",
   "execution_count": 125,
   "metadata": {},
   "outputs": [
    {
     "ename": "TypeError",
     "evalue": "unhashable type: 'numpy.ndarray'",
     "output_type": "error",
     "traceback": [
      "\u001b[1;31m---------------------------------------------------------------------------\u001b[0m",
      "\u001b[1;31mAttributeError\u001b[0m                            Traceback (most recent call last)",
      "\u001b[1;32mC:\\ProgramData\\Anaconda3\\lib\\site-packages\\seaborn\\_core.py\u001b[0m in \u001b[0;36mcategorical_order\u001b[1;34m(vector, order)\u001b[0m\n\u001b[0;32m   1455\u001b[0m             \u001b[1;32mtry\u001b[0m\u001b[1;33m:\u001b[0m\u001b[1;33m\u001b[0m\u001b[1;33m\u001b[0m\u001b[0m\n\u001b[1;32m-> 1456\u001b[1;33m                 \u001b[0morder\u001b[0m \u001b[1;33m=\u001b[0m \u001b[0mvector\u001b[0m\u001b[1;33m.\u001b[0m\u001b[0mcat\u001b[0m\u001b[1;33m.\u001b[0m\u001b[0mcategories\u001b[0m\u001b[1;33m\u001b[0m\u001b[1;33m\u001b[0m\u001b[0m\n\u001b[0m\u001b[0;32m   1457\u001b[0m             \u001b[1;32mexcept\u001b[0m \u001b[1;33m(\u001b[0m\u001b[0mTypeError\u001b[0m\u001b[1;33m,\u001b[0m \u001b[0mAttributeError\u001b[0m\u001b[1;33m)\u001b[0m\u001b[1;33m:\u001b[0m\u001b[1;33m\u001b[0m\u001b[1;33m\u001b[0m\u001b[0m\n",
      "\u001b[1;32mC:\\ProgramData\\Anaconda3\\lib\\site-packages\\pandas\\core\\generic.py\u001b[0m in \u001b[0;36m__getattr__\u001b[1;34m(self, name)\u001b[0m\n\u001b[0;32m   5134\u001b[0m         ):\n\u001b[1;32m-> 5135\u001b[1;33m             \u001b[1;32mreturn\u001b[0m \u001b[0mobject\u001b[0m\u001b[1;33m.\u001b[0m\u001b[0m__getattribute__\u001b[0m\u001b[1;33m(\u001b[0m\u001b[0mself\u001b[0m\u001b[1;33m,\u001b[0m \u001b[0mname\u001b[0m\u001b[1;33m)\u001b[0m\u001b[1;33m\u001b[0m\u001b[1;33m\u001b[0m\u001b[0m\n\u001b[0m\u001b[0;32m   5136\u001b[0m         \u001b[1;32melse\u001b[0m\u001b[1;33m:\u001b[0m\u001b[1;33m\u001b[0m\u001b[1;33m\u001b[0m\u001b[0m\n",
      "\u001b[1;32mC:\\ProgramData\\Anaconda3\\lib\\site-packages\\pandas\\core\\accessor.py\u001b[0m in \u001b[0;36m__get__\u001b[1;34m(self, obj, cls)\u001b[0m\n\u001b[0;32m    186\u001b[0m             \u001b[1;32mreturn\u001b[0m \u001b[0mself\u001b[0m\u001b[1;33m.\u001b[0m\u001b[0m_accessor\u001b[0m\u001b[1;33m\u001b[0m\u001b[1;33m\u001b[0m\u001b[0m\n\u001b[1;32m--> 187\u001b[1;33m         \u001b[0maccessor_obj\u001b[0m \u001b[1;33m=\u001b[0m \u001b[0mself\u001b[0m\u001b[1;33m.\u001b[0m\u001b[0m_accessor\u001b[0m\u001b[1;33m(\u001b[0m\u001b[0mobj\u001b[0m\u001b[1;33m)\u001b[0m\u001b[1;33m\u001b[0m\u001b[1;33m\u001b[0m\u001b[0m\n\u001b[0m\u001b[0;32m    188\u001b[0m         \u001b[1;31m# Replace the property with the accessor object. Inspired by:\u001b[0m\u001b[1;33m\u001b[0m\u001b[1;33m\u001b[0m\u001b[1;33m\u001b[0m\u001b[0m\n",
      "\u001b[1;32mC:\\ProgramData\\Anaconda3\\lib\\site-packages\\pandas\\core\\arrays\\categorical.py\u001b[0m in \u001b[0;36m__init__\u001b[1;34m(self, data)\u001b[0m\n\u001b[0;32m   2560\u001b[0m     \u001b[1;32mdef\u001b[0m \u001b[0m__init__\u001b[0m\u001b[1;33m(\u001b[0m\u001b[0mself\u001b[0m\u001b[1;33m,\u001b[0m \u001b[0mdata\u001b[0m\u001b[1;33m)\u001b[0m\u001b[1;33m:\u001b[0m\u001b[1;33m\u001b[0m\u001b[1;33m\u001b[0m\u001b[0m\n\u001b[1;32m-> 2561\u001b[1;33m         \u001b[0mself\u001b[0m\u001b[1;33m.\u001b[0m\u001b[0m_validate\u001b[0m\u001b[1;33m(\u001b[0m\u001b[0mdata\u001b[0m\u001b[1;33m)\u001b[0m\u001b[1;33m\u001b[0m\u001b[1;33m\u001b[0m\u001b[0m\n\u001b[0m\u001b[0;32m   2562\u001b[0m         \u001b[0mself\u001b[0m\u001b[1;33m.\u001b[0m\u001b[0m_parent\u001b[0m \u001b[1;33m=\u001b[0m \u001b[0mdata\u001b[0m\u001b[1;33m.\u001b[0m\u001b[0mvalues\u001b[0m\u001b[1;33m\u001b[0m\u001b[1;33m\u001b[0m\u001b[0m\n",
      "\u001b[1;32mC:\\ProgramData\\Anaconda3\\lib\\site-packages\\pandas\\core\\arrays\\categorical.py\u001b[0m in \u001b[0;36m_validate\u001b[1;34m(data)\u001b[0m\n\u001b[0;32m   2569\u001b[0m         \u001b[1;32mif\u001b[0m \u001b[1;32mnot\u001b[0m \u001b[0mis_categorical_dtype\u001b[0m\u001b[1;33m(\u001b[0m\u001b[0mdata\u001b[0m\u001b[1;33m.\u001b[0m\u001b[0mdtype\u001b[0m\u001b[1;33m)\u001b[0m\u001b[1;33m:\u001b[0m\u001b[1;33m\u001b[0m\u001b[1;33m\u001b[0m\u001b[0m\n\u001b[1;32m-> 2570\u001b[1;33m             \u001b[1;32mraise\u001b[0m \u001b[0mAttributeError\u001b[0m\u001b[1;33m(\u001b[0m\u001b[1;34m\"Can only use .cat accessor with a 'category' dtype\"\u001b[0m\u001b[1;33m)\u001b[0m\u001b[1;33m\u001b[0m\u001b[1;33m\u001b[0m\u001b[0m\n\u001b[0m\u001b[0;32m   2571\u001b[0m \u001b[1;33m\u001b[0m\u001b[0m\n",
      "\u001b[1;31mAttributeError\u001b[0m: Can only use .cat accessor with a 'category' dtype",
      "\nDuring handling of the above exception, another exception occurred:\n",
      "\u001b[1;31mTypeError\u001b[0m                                 Traceback (most recent call last)",
      "\u001b[1;32m<ipython-input-125-7be0a15d37f7>\u001b[0m in \u001b[0;36m<module>\u001b[1;34m\u001b[0m\n\u001b[1;32m----> 1\u001b[1;33m \u001b[0msns\u001b[0m\u001b[1;33m.\u001b[0m\u001b[0mscatterplot\u001b[0m\u001b[1;33m(\u001b[0m\u001b[0mx\u001b[0m\u001b[1;33m=\u001b[0m\u001b[0mdf\u001b[0m\u001b[1;33m.\u001b[0m\u001b[0mVeryActiveMinutes\u001b[0m\u001b[1;33m,\u001b[0m \u001b[0my\u001b[0m\u001b[1;33m=\u001b[0m\u001b[0mlist\u001b[0m\u001b[1;33m(\u001b[0m\u001b[0mresults_fs\u001b[0m\u001b[1;33m.\u001b[0m\u001b[0mpredict\u001b[0m\u001b[1;33m(\u001b[0m\u001b[1;33m)\u001b[0m\u001b[1;33m)\u001b[0m\u001b[1;33m)\u001b[0m\u001b[1;33m\u001b[0m\u001b[1;33m\u001b[0m\u001b[0m\n\u001b[0m",
      "\u001b[1;32mC:\\ProgramData\\Anaconda3\\lib\\site-packages\\seaborn\\_decorators.py\u001b[0m in \u001b[0;36minner_f\u001b[1;34m(*args, **kwargs)\u001b[0m\n\u001b[0;32m     44\u001b[0m             )\n\u001b[0;32m     45\u001b[0m         \u001b[0mkwargs\u001b[0m\u001b[1;33m.\u001b[0m\u001b[0mupdate\u001b[0m\u001b[1;33m(\u001b[0m\u001b[1;33m{\u001b[0m\u001b[0mk\u001b[0m\u001b[1;33m:\u001b[0m \u001b[0marg\u001b[0m \u001b[1;32mfor\u001b[0m \u001b[0mk\u001b[0m\u001b[1;33m,\u001b[0m \u001b[0marg\u001b[0m \u001b[1;32min\u001b[0m \u001b[0mzip\u001b[0m\u001b[1;33m(\u001b[0m\u001b[0msig\u001b[0m\u001b[1;33m.\u001b[0m\u001b[0mparameters\u001b[0m\u001b[1;33m,\u001b[0m \u001b[0margs\u001b[0m\u001b[1;33m)\u001b[0m\u001b[1;33m}\u001b[0m\u001b[1;33m)\u001b[0m\u001b[1;33m\u001b[0m\u001b[1;33m\u001b[0m\u001b[0m\n\u001b[1;32m---> 46\u001b[1;33m         \u001b[1;32mreturn\u001b[0m \u001b[0mf\u001b[0m\u001b[1;33m(\u001b[0m\u001b[1;33m**\u001b[0m\u001b[0mkwargs\u001b[0m\u001b[1;33m)\u001b[0m\u001b[1;33m\u001b[0m\u001b[1;33m\u001b[0m\u001b[0m\n\u001b[0m\u001b[0;32m     47\u001b[0m     \u001b[1;32mreturn\u001b[0m \u001b[0minner_f\u001b[0m\u001b[1;33m\u001b[0m\u001b[1;33m\u001b[0m\u001b[0m\n\u001b[0;32m     48\u001b[0m \u001b[1;33m\u001b[0m\u001b[0m\n",
      "\u001b[1;32mC:\\ProgramData\\Anaconda3\\lib\\site-packages\\seaborn\\relational.py\u001b[0m in \u001b[0;36mscatterplot\u001b[1;34m(x, y, hue, style, size, data, palette, hue_order, hue_norm, sizes, size_order, size_norm, markers, style_order, x_bins, y_bins, units, estimator, ci, n_boot, alpha, x_jitter, y_jitter, legend, ax, **kwargs)\u001b[0m\n\u001b[0;32m    809\u001b[0m         \u001b[1;32mreturn\u001b[0m \u001b[0max\u001b[0m\u001b[1;33m\u001b[0m\u001b[1;33m\u001b[0m\u001b[0m\n\u001b[0;32m    810\u001b[0m \u001b[1;33m\u001b[0m\u001b[0m\n\u001b[1;32m--> 811\u001b[1;33m     \u001b[0mp\u001b[0m\u001b[1;33m.\u001b[0m\u001b[0m_attach\u001b[0m\u001b[1;33m(\u001b[0m\u001b[0max\u001b[0m\u001b[1;33m)\u001b[0m\u001b[1;33m\u001b[0m\u001b[1;33m\u001b[0m\u001b[0m\n\u001b[0m\u001b[0;32m    812\u001b[0m \u001b[1;33m\u001b[0m\u001b[0m\n\u001b[0;32m    813\u001b[0m     \u001b[0mp\u001b[0m\u001b[1;33m.\u001b[0m\u001b[0mplot\u001b[0m\u001b[1;33m(\u001b[0m\u001b[0max\u001b[0m\u001b[1;33m,\u001b[0m \u001b[0mkwargs\u001b[0m\u001b[1;33m)\u001b[0m\u001b[1;33m\u001b[0m\u001b[1;33m\u001b[0m\u001b[0m\n",
      "\u001b[1;32mC:\\ProgramData\\Anaconda3\\lib\\site-packages\\seaborn\\_core.py\u001b[0m in \u001b[0;36m_attach\u001b[1;34m(self, obj, allowed_types, log_scale)\u001b[0m\n\u001b[0;32m   1113\u001b[0m                 \u001b[0mseed_data\u001b[0m \u001b[1;33m=\u001b[0m \u001b[0mself\u001b[0m\u001b[1;33m.\u001b[0m\u001b[0mplot_data\u001b[0m\u001b[1;33m[\u001b[0m\u001b[0mvar\u001b[0m\u001b[1;33m]\u001b[0m\u001b[1;33m\u001b[0m\u001b[1;33m\u001b[0m\u001b[0m\n\u001b[0;32m   1114\u001b[0m                 \u001b[1;32mif\u001b[0m \u001b[0mvar_type\u001b[0m \u001b[1;33m==\u001b[0m \u001b[1;34m\"categorical\"\u001b[0m\u001b[1;33m:\u001b[0m\u001b[1;33m\u001b[0m\u001b[1;33m\u001b[0m\u001b[0m\n\u001b[1;32m-> 1115\u001b[1;33m                     \u001b[0mseed_data\u001b[0m \u001b[1;33m=\u001b[0m \u001b[0mcategorical_order\u001b[0m\u001b[1;33m(\u001b[0m\u001b[0mseed_data\u001b[0m\u001b[1;33m)\u001b[0m\u001b[1;33m\u001b[0m\u001b[1;33m\u001b[0m\u001b[0m\n\u001b[0m\u001b[0;32m   1116\u001b[0m                 \u001b[0maxis\u001b[0m\u001b[1;33m.\u001b[0m\u001b[0mupdate_units\u001b[0m\u001b[1;33m(\u001b[0m\u001b[0mseed_data\u001b[0m\u001b[1;33m)\u001b[0m\u001b[1;33m\u001b[0m\u001b[1;33m\u001b[0m\u001b[0m\n\u001b[0;32m   1117\u001b[0m \u001b[1;33m\u001b[0m\u001b[0m\n",
      "\u001b[1;32mC:\\ProgramData\\Anaconda3\\lib\\site-packages\\seaborn\\_core.py\u001b[0m in \u001b[0;36mcategorical_order\u001b[1;34m(vector, order)\u001b[0m\n\u001b[0;32m   1458\u001b[0m \u001b[1;33m\u001b[0m\u001b[0m\n\u001b[0;32m   1459\u001b[0m                 \u001b[1;32mtry\u001b[0m\u001b[1;33m:\u001b[0m\u001b[1;33m\u001b[0m\u001b[1;33m\u001b[0m\u001b[0m\n\u001b[1;32m-> 1460\u001b[1;33m                     \u001b[0morder\u001b[0m \u001b[1;33m=\u001b[0m \u001b[0mvector\u001b[0m\u001b[1;33m.\u001b[0m\u001b[0munique\u001b[0m\u001b[1;33m(\u001b[0m\u001b[1;33m)\u001b[0m\u001b[1;33m\u001b[0m\u001b[1;33m\u001b[0m\u001b[0m\n\u001b[0m\u001b[0;32m   1461\u001b[0m                 \u001b[1;32mexcept\u001b[0m \u001b[0mAttributeError\u001b[0m\u001b[1;33m:\u001b[0m\u001b[1;33m\u001b[0m\u001b[1;33m\u001b[0m\u001b[0m\n\u001b[0;32m   1462\u001b[0m                     \u001b[0morder\u001b[0m \u001b[1;33m=\u001b[0m \u001b[0mpd\u001b[0m\u001b[1;33m.\u001b[0m\u001b[0munique\u001b[0m\u001b[1;33m(\u001b[0m\u001b[0mvector\u001b[0m\u001b[1;33m)\u001b[0m\u001b[1;33m\u001b[0m\u001b[1;33m\u001b[0m\u001b[0m\n",
      "\u001b[1;32mC:\\ProgramData\\Anaconda3\\lib\\site-packages\\pandas\\core\\series.py\u001b[0m in \u001b[0;36munique\u001b[1;34m(self)\u001b[0m\n\u001b[0;32m   1866\u001b[0m         \u001b[0mCategories\u001b[0m \u001b[1;33m(\u001b[0m\u001b[1;36m3\u001b[0m\u001b[1;33m,\u001b[0m \u001b[0mobject\u001b[0m\u001b[1;33m)\u001b[0m\u001b[1;33m:\u001b[0m \u001b[1;33m[\u001b[0m\u001b[1;34m'a'\u001b[0m \u001b[1;33m<\u001b[0m \u001b[1;34m'b'\u001b[0m \u001b[1;33m<\u001b[0m \u001b[1;34m'c'\u001b[0m\u001b[1;33m]\u001b[0m\u001b[1;33m\u001b[0m\u001b[1;33m\u001b[0m\u001b[0m\n\u001b[0;32m   1867\u001b[0m         \"\"\"\n\u001b[1;32m-> 1868\u001b[1;33m         \u001b[0mresult\u001b[0m \u001b[1;33m=\u001b[0m \u001b[0msuper\u001b[0m\u001b[1;33m(\u001b[0m\u001b[1;33m)\u001b[0m\u001b[1;33m.\u001b[0m\u001b[0munique\u001b[0m\u001b[1;33m(\u001b[0m\u001b[1;33m)\u001b[0m\u001b[1;33m\u001b[0m\u001b[1;33m\u001b[0m\u001b[0m\n\u001b[0m\u001b[0;32m   1869\u001b[0m         \u001b[1;32mreturn\u001b[0m \u001b[0mresult\u001b[0m\u001b[1;33m\u001b[0m\u001b[1;33m\u001b[0m\u001b[0m\n\u001b[0;32m   1870\u001b[0m \u001b[1;33m\u001b[0m\u001b[0m\n",
      "\u001b[1;32mC:\\ProgramData\\Anaconda3\\lib\\site-packages\\pandas\\core\\base.py\u001b[0m in \u001b[0;36munique\u001b[1;34m(self)\u001b[0m\n\u001b[0;32m   1263\u001b[0m                     \u001b[0mresult\u001b[0m \u001b[1;33m=\u001b[0m \u001b[0mnp\u001b[0m\u001b[1;33m.\u001b[0m\u001b[0masarray\u001b[0m\u001b[1;33m(\u001b[0m\u001b[0mresult\u001b[0m\u001b[1;33m)\u001b[0m\u001b[1;33m\u001b[0m\u001b[1;33m\u001b[0m\u001b[0m\n\u001b[0;32m   1264\u001b[0m         \u001b[1;32melse\u001b[0m\u001b[1;33m:\u001b[0m\u001b[1;33m\u001b[0m\u001b[1;33m\u001b[0m\u001b[0m\n\u001b[1;32m-> 1265\u001b[1;33m             \u001b[0mresult\u001b[0m \u001b[1;33m=\u001b[0m \u001b[0munique1d\u001b[0m\u001b[1;33m(\u001b[0m\u001b[0mvalues\u001b[0m\u001b[1;33m)\u001b[0m\u001b[1;33m\u001b[0m\u001b[1;33m\u001b[0m\u001b[0m\n\u001b[0m\u001b[0;32m   1266\u001b[0m \u001b[1;33m\u001b[0m\u001b[0m\n\u001b[0;32m   1267\u001b[0m         \u001b[1;32mreturn\u001b[0m \u001b[0mresult\u001b[0m\u001b[1;33m\u001b[0m\u001b[1;33m\u001b[0m\u001b[0m\n",
      "\u001b[1;32mC:\\ProgramData\\Anaconda3\\lib\\site-packages\\pandas\\core\\algorithms.py\u001b[0m in \u001b[0;36munique\u001b[1;34m(values)\u001b[0m\n\u001b[0;32m    387\u001b[0m \u001b[1;33m\u001b[0m\u001b[0m\n\u001b[0;32m    388\u001b[0m     \u001b[0mtable\u001b[0m \u001b[1;33m=\u001b[0m \u001b[0mhtable\u001b[0m\u001b[1;33m(\u001b[0m\u001b[0mlen\u001b[0m\u001b[1;33m(\u001b[0m\u001b[0mvalues\u001b[0m\u001b[1;33m)\u001b[0m\u001b[1;33m)\u001b[0m\u001b[1;33m\u001b[0m\u001b[1;33m\u001b[0m\u001b[0m\n\u001b[1;32m--> 389\u001b[1;33m     \u001b[0muniques\u001b[0m \u001b[1;33m=\u001b[0m \u001b[0mtable\u001b[0m\u001b[1;33m.\u001b[0m\u001b[0munique\u001b[0m\u001b[1;33m(\u001b[0m\u001b[0mvalues\u001b[0m\u001b[1;33m)\u001b[0m\u001b[1;33m\u001b[0m\u001b[1;33m\u001b[0m\u001b[0m\n\u001b[0m\u001b[0;32m    390\u001b[0m     \u001b[0muniques\u001b[0m \u001b[1;33m=\u001b[0m \u001b[0m_reconstruct_data\u001b[0m\u001b[1;33m(\u001b[0m\u001b[0muniques\u001b[0m\u001b[1;33m,\u001b[0m \u001b[0moriginal\u001b[0m\u001b[1;33m.\u001b[0m\u001b[0mdtype\u001b[0m\u001b[1;33m,\u001b[0m \u001b[0moriginal\u001b[0m\u001b[1;33m)\u001b[0m\u001b[1;33m\u001b[0m\u001b[1;33m\u001b[0m\u001b[0m\n\u001b[0;32m    391\u001b[0m     \u001b[1;32mreturn\u001b[0m \u001b[0muniques\u001b[0m\u001b[1;33m\u001b[0m\u001b[1;33m\u001b[0m\u001b[0m\n",
      "\u001b[1;32mpandas\\_libs\\hashtable_class_helper.pxi\u001b[0m in \u001b[0;36mpandas._libs.hashtable.PyObjectHashTable.unique\u001b[1;34m()\u001b[0m\n",
      "\u001b[1;32mpandas\\_libs\\hashtable_class_helper.pxi\u001b[0m in \u001b[0;36mpandas._libs.hashtable.PyObjectHashTable._unique\u001b[1;34m()\u001b[0m\n",
      "\u001b[1;31mTypeError\u001b[0m: unhashable type: 'numpy.ndarray'"
     ]
    },
    {
     "data": {
      "image/png": "[encoded data removed]",
      "text/plain": [
       "<Figure size 432x288 with 1 Axes>"
      ]
     },
     "metadata": {
      "needs_background": "light"
     },
     "output_type": "display_data"
    }
   ],
   "source": [
    "sns.scatterplot(x=df.VeryActiveMinutes, y=results_fs.predict())"
   ]
  },
  {
   "cell_type": "code",
   "execution_count": 127,
   "metadata": {},
   "outputs": [
    {
     "data": {
      "image/png": "[encoded data removed]",
      "text/plain": [
       "<Figure size 432x288 with 1 Axes>"
      ]
     },
     "metadata": {
      "needs_background": "light"
     },
     "output_type": "display_data"
    }
   ],
   "source": [
    "# Plot predicted values\n",
    "\n",
    "fix, ax = plt.subplots()\n",
    "# ax.scatter(df.VeryActiveMinutes,y=results_fs.predict(), alpha=0.5,\n",
    "#         label='predicted')\n",
    "\n",
    "# Plot observed values\n",
    "\n",
    "ax.scatter(df.VeryActiveMinutes, df['Calories_x'], alpha=0.5,\n",
    "        label='observed')\n",
    "\n",
    "ax.legend()\n",
    "ax.set_title('OLS predicted values')\n",
    "ax.set_xlabel('VeryActiveMinutes')\n",
    "ax.set_ylabel('Calories')\n",
    "plt.show()"
   ]
  },
  {
   "cell_type": "code",
   "execution_count": 15,
   "metadata": {},
   "outputs": [
    {
     "name": "stdout",
     "output_type": "stream",
     "text": [
      "                          IV-2SLS Estimation Summary                          \n",
      "==============================================================================\n",
      "Dep. Variable:             TotalSteps   R-squared:                      0.1082\n",
      "Estimator:                    IV-2SLS   Adj. R-squared:                 0.1073\n",
      "No. Observations:                 940   F-statistic:                    469.07\n",
      "Date:                Wed, Jun 09 2021   P-value (F-stat)                0.0000\n",
      "Time:                        17:30:40   Distribution:                  chi2(1)\n",
      "Cov. Estimator:            unadjusted                                         \n",
      "                                                                              \n",
      "                             Parameter Estimates                              \n",
      "==============================================================================\n",
      "            Parameter  Std. Err.     T-stat    P-value    Lower CI    Upper CI\n",
      "------------------------------------------------------------------------------\n",
      "const      -1.004e+04     831.00    -12.079     0.0000  -1.167e+04     -8408.7\n",
      "Calories_x     7.6729     0.3543     21.658     0.0000      6.9785      8.3673\n",
      "==============================================================================\n",
      "\n",
      "Endogenous: Calories_x\n",
      "Instruments: VeryActiveMinutes\n",
      "Unadjusted Covariance (Homoskedastic)\n",
      "Debiased: False\n"
     ]
    }
   ],
   "source": [
    "df['const'] = 1\n",
    "# exog = sm.add_constant(df.VeryActiveMinutes)\n",
    "# endog = df.Calories_x\n",
    "# iv = IV2SLS(dependent=df.Calories_x,\n",
    "#             exog=df['const'],\n",
    "#             #endog=endog,\n",
    "#             instruments=df.TotalSteps).fit(cov_type='unadjusted')\n",
    "\n",
    "# print(iv.summary)\n",
    "\n",
    "\n",
    "iv = IV2SLS(dependent=df['TotalSteps'],\n",
    "            exog=df['const'],\n",
    "            endog=df['Calories_x'],\n",
    "            instruments=df['VeryActiveMinutes']).fit(cov_type='unadjusted')\n",
    "\n",
    "print(iv.summary)"
   ]
  },
  {
   "cell_type": "code",
   "execution_count": 16,
   "metadata": {},
   "outputs": [
    {
     "name": "stdout",
     "output_type": "stream",
     "text": [
      "                            OLS Regression Results                            \n",
      "==============================================================================\n",
      "Dep. Variable:             Calories_x   R-squared:                       0.379\n",
      "Model:                            OLS   Adj. R-squared:                  0.379\n",
      "Method:                 Least Squares   F-statistic:                     573.1\n",
      "Date:                Wed, 09 Jun 2021   Prob (F-statistic):           3.17e-99\n",
      "Time:                        17:31:36   Log-Likelihood:                -7291.3\n",
      "No. Observations:                 940   AIC:                         1.459e+04\n",
      "Df Residuals:                     938   BIC:                         1.460e+04\n",
      "Df Model:                           1                                         \n",
      "Covariance Type:            nonrobust                                         \n",
      "=====================================================================================\n",
      "                        coef    std err          t      P>|t|      [0.025      0.975]\n",
      "-------------------------------------------------------------------------------------\n",
      "const              2018.6118     21.970     91.880      0.000    1975.496    2061.728\n",
      "VeryActiveMinutes    13.4656      0.562     23.939      0.000      12.362      14.569\n",
      "==============================================================================\n",
      "Omnibus:                       22.005   Durbin-Watson:                   0.764\n",
      "Prob(Omnibus):                  0.000   Jarque-Bera (JB):               43.514\n",
      "Skew:                           0.079   Prob(JB):                     3.56e-10\n",
      "Kurtosis:                       4.042   Cond. No.                         46.5\n",
      "==============================================================================\n",
      "\n",
      "Notes:\n",
      "[1] Standard Errors assume that the covariance matrix of the errors is correctly specified.\n"
     ]
    }
   ],
   "source": [
    "df['const'] = 1\n",
    "# Estimate the first stage regression\n",
    "reg1 = sm.OLS(endog=df['Calories_x'],\n",
    "              exog=df[['const', 'VeryActiveMinutes']],\n",
    "              missing='drop').fit()\n",
    "print(reg1.summary())"
   ]
  },
  {
   "cell_type": "raw",
   "metadata": {},
   "source": [
    "\n",
    "Although endogeneity is often best identified by thinking about the data and model, we can formally test for endogeneity using the Hausman test.\n",
    "\n",
    "We want to test for correlation between the endogenous variable,  avexpri , and the errors,  ui \n",
    "\n",
    "H0:Cov(avexpri,ui)=0(no endogeneity)\n",
    "H1:Cov(avexpri,ui)≠0(endogeneity) \n",
    "\n",
    "This test is running in two stages.\n",
    "If  α  is statistically significant (with a p-value < 0.05), then we reject the null hypothesis and conclude that  avexpri  is endogenous.\n",
    "\n",
    "Using the above information, estimate a Hausman test and interpret your results."
   ]
  },
  {
   "cell_type": "code",
   "execution_count": 17,
   "metadata": {},
   "outputs": [
    {
     "name": "stdout",
     "output_type": "stream",
     "text": [
      "                            OLS Regression Results                            \n",
      "==============================================================================\n",
      "Dep. Variable:             TotalSteps   R-squared:                       0.498\n",
      "Model:                            OLS   Adj. R-squared:                  0.497\n",
      "Method:                 Least Squares   F-statistic:                     464.1\n",
      "Date:                Wed, 09 Jun 2021   Prob (F-statistic):          8.52e-141\n",
      "Time:                        17:31:43   Log-Likelihood:                -9032.2\n",
      "No. Observations:                 940   AIC:                         1.807e+04\n",
      "Df Residuals:                     937   BIC:                         1.808e+04\n",
      "Df Model:                           2                                         \n",
      "Covariance Type:            nonrobust                                         \n",
      "==============================================================================\n",
      "                 coef    std err          t      P>|t|      [0.025      0.975]\n",
      "------------------------------------------------------------------------------\n",
      "const      -1.004e+04    624.721    -16.067      0.000   -1.13e+04   -8811.445\n",
      "Calories_x     7.6729      0.266     28.809      0.000       7.150       8.196\n",
      "resid         -5.6102      0.338    -16.596      0.000      -6.274      -4.947\n",
      "==============================================================================\n",
      "Omnibus:                        5.100   Durbin-Watson:                   0.814\n",
      "Prob(Omnibus):                  0.078   Jarque-Bera (JB):                6.195\n",
      "Skew:                          -0.043   Prob(JB):                       0.0452\n",
      "Kurtosis:                       3.388   Cond. No.                     1.28e+04\n",
      "==============================================================================\n",
      "\n",
      "Notes:\n",
      "[1] Standard Errors assume that the covariance matrix of the errors is correctly specified.\n",
      "[2] The condition number is large, 1.28e+04. This might indicate that there are\n",
      "strong multicollinearity or other numerical problems.\n"
     ]
    }
   ],
   "source": [
    "#model = ols('Calories_x ~ VeryActiveMinutes', data=df)\n",
    "# Add a constant term\n",
    "df['const'] = 1\n",
    "\n",
    "# Estimate the first stage regression\n",
    "# reg1 = sm.OLS(endog=df4['avexpr'],\n",
    "#               exog=df4[['const', 'logem4']],\n",
    "#               missing='drop').fit()\n",
    "\n",
    "\n",
    "reg1 = sm.OLS(endog=df['Calories_x'],\n",
    "              exog=df[['const', 'VeryActiveMinutes']],\n",
    "              missing='drop').fit()\n",
    "\n",
    "# Retrieve the residuals\n",
    "df['resid'] = reg1.resid\n",
    "\n",
    "# Estimate the second stage residuals\n",
    "reg2 = sm.OLS(endog=df['TotalSteps'],\n",
    "              exog=df[['const', 'Calories_x', 'resid']],\n",
    "              missing='drop').fit()\n",
    "\n",
    "print(reg2.summary())"
   ]
  },
  {
   "cell_type": "code",
   "execution_count": null,
   "metadata": {},
   "outputs": [],
   "source": []
  }
 ],
 "metadata": {
  "kernelspec": {
   "display_name": "Python 3",
   "language": "python",
   "name": "python3"
  },
  "language_info": {
   "codemirror_mode": {
    "name": "ipython",
    "version": 3
   },
   "file_extension": ".py",
   "mimetype": "text/x-python",
   "name": "python",
   "nbconvert_exporter": "python",
   "pygments_lexer": "ipython3",
   "version": "3.8.5"
  }
 },
 "nbformat": 4,
 "nbformat_minor": 4
}
